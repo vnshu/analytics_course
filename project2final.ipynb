{
 "cells": [
  {
   "cell_type": "markdown",
   "id": "3378587a",
   "metadata": {},
   "source": [
    "<div style=\"border:solid lightblue 3px; padding: 20px\">\n",
    "\n",
    "**Привет, Владимир!** 👋\n",
    "\n",
    "Меня зовут Алексей Манелюк, я буду проверять твой проект. Предлагаю общаться на \"ты\" 😉, но если неудобно - скажи и будем на \"вы\".\n",
    "\n",
    "Моя цель - не указать на совершенные тобой ошибки, а поделиться своим опытом и помочь тебе стать крутым специалистом.\n",
    "\n",
    "В тексте проекта ты увидишь мои комментарии, пожалуйста не удаляй и не изменяй их. У комментариев могут быть приписки **V2**, **V3** и т.д., которые соответствуют версии проверки. Я буду использовать цветовую разметку:\n",
    "<p>\n",
    "<div class=\"alert-danger\">\n",
    "<b>Комментарий ревьюера ❌</b>\n",
    "\n",
    "Так выделены самые важные замечания. Без их отработки я не смогу принять проект. </div>\n",
    "\n",
    "<div class=\"alert-warning\">\n",
    "<b>Комментарий ревьюера ⚠️</b>\n",
    "\n",
    "Так выделены небольшие замечания. Не более трёх таких замечаний допустимы. Если их много - постарайся исправить их.</div>\n",
    "<p>\n",
    "<div class=\"alert-success\">\n",
    "<b>Комментарий ревьюера ✔️</b>\n",
    "\n",
    "Так выделены все остальные комментарии.</div>\n",
    "\n",
    "Предлагаю работать в диалоге: если что-то дорабатываешь или отвечаешь на мой комментарий - пиши об этом. Мне будет удобней, если ты выделишь свои комментарии:\n",
    "<p>\n",
    "<div class=\"alert-info\">\n",
    "<b>Комментарий студента</b>\n",
    "\n",
    "Например, так.</div>\n",
    "\n",
    "Все это поможет мне быстрее принять твой проект.</div>"
   ]
  },
  {
   "cell_type": "markdown",
   "id": "c81daeeb",
   "metadata": {
    "deletable": false,
    "id": "c81daeeb"
   },
   "source": [
    "# Исследование надежности заемщиков\n"
   ]
  },
  {
   "cell_type": "markdown",
   "id": "827c20bf",
   "metadata": {
    "id": "827c20bf"
   },
   "source": [
    "Во второй части проекта вы выполните шаги 3 и 4. Их вручную проверит ревьюер.\n",
    "Чтобы вам не пришлось писать код заново для шагов 1 и 2, мы добавили авторские решения в ячейки с кодом. \n",
    "\n"
   ]
  },
  {
   "cell_type": "markdown",
   "id": "744d7639",
   "metadata": {
    "deletable": false,
    "id": "744d7639"
   },
   "source": [
    "## Откройте таблицу и изучите общую информацию о данных"
   ]
  },
  {
   "cell_type": "markdown",
   "id": "e7a14c31",
   "metadata": {
    "deletable": false,
    "id": "e7a14c31"
   },
   "source": [
    "**Задание 1. Импортируйте библиотеку pandas. Считайте данные из csv-файла в датафрейм и сохраните в переменную `data`. Путь к файлу:**\n",
    "\n",
    "`/datasets/data.csv`"
   ]
  },
  {
   "cell_type": "code",
   "execution_count": 1,
   "id": "7bcf75c9",
   "metadata": {
    "deletable": false,
    "id": "7bcf75c9"
   },
   "outputs": [],
   "source": [
    "import pandas as pd\n",
    "\n",
    "try:\n",
    "    data = pd.read_csv('/datasets/data.csv')\n",
    "except:\n",
    "    data = pd.read_csv('https://code.s3.yandex.net/datasets/data.csv')"
   ]
  },
  {
   "cell_type": "markdown",
   "id": "b8038fe3",
   "metadata": {
    "deletable": false,
    "id": "b8038fe3"
   },
   "source": [
    "**Задание 2. Выведите первые 20 строчек датафрейма `data` на экран.**"
   ]
  },
  {
   "cell_type": "code",
   "execution_count": 2,
   "id": "2a7cab99",
   "metadata": {
    "deletable": false,
    "id": "2a7cab99",
    "outputId": "1a8f3ef2-d323-4ec2-ddf7-89670b5944c4"
   },
   "outputs": [
    {
     "data": {
      "text/html": [
       "<div>\n",
       "<style scoped>\n",
       "    .dataframe tbody tr th:only-of-type {\n",
       "        vertical-align: middle;\n",
       "    }\n",
       "\n",
       "    .dataframe tbody tr th {\n",
       "        vertical-align: top;\n",
       "    }\n",
       "\n",
       "    .dataframe thead th {\n",
       "        text-align: right;\n",
       "    }\n",
       "</style>\n",
       "<table border=\"1\" class=\"dataframe\">\n",
       "  <thead>\n",
       "    <tr style=\"text-align: right;\">\n",
       "      <th></th>\n",
       "      <th>children</th>\n",
       "      <th>days_employed</th>\n",
       "      <th>dob_years</th>\n",
       "      <th>education</th>\n",
       "      <th>education_id</th>\n",
       "      <th>family_status</th>\n",
       "      <th>family_status_id</th>\n",
       "      <th>gender</th>\n",
       "      <th>income_type</th>\n",
       "      <th>debt</th>\n",
       "      <th>total_income</th>\n",
       "      <th>purpose</th>\n",
       "    </tr>\n",
       "  </thead>\n",
       "  <tbody>\n",
       "    <tr>\n",
       "      <th>0</th>\n",
       "      <td>1</td>\n",
       "      <td>-8437.673028</td>\n",
       "      <td>42</td>\n",
       "      <td>высшее</td>\n",
       "      <td>0</td>\n",
       "      <td>женат / замужем</td>\n",
       "      <td>0</td>\n",
       "      <td>F</td>\n",
       "      <td>сотрудник</td>\n",
       "      <td>0</td>\n",
       "      <td>253875.639453</td>\n",
       "      <td>покупка жилья</td>\n",
       "    </tr>\n",
       "    <tr>\n",
       "      <th>1</th>\n",
       "      <td>1</td>\n",
       "      <td>-4024.803754</td>\n",
       "      <td>36</td>\n",
       "      <td>среднее</td>\n",
       "      <td>1</td>\n",
       "      <td>женат / замужем</td>\n",
       "      <td>0</td>\n",
       "      <td>F</td>\n",
       "      <td>сотрудник</td>\n",
       "      <td>0</td>\n",
       "      <td>112080.014102</td>\n",
       "      <td>приобретение автомобиля</td>\n",
       "    </tr>\n",
       "    <tr>\n",
       "      <th>2</th>\n",
       "      <td>0</td>\n",
       "      <td>-5623.422610</td>\n",
       "      <td>33</td>\n",
       "      <td>Среднее</td>\n",
       "      <td>1</td>\n",
       "      <td>женат / замужем</td>\n",
       "      <td>0</td>\n",
       "      <td>M</td>\n",
       "      <td>сотрудник</td>\n",
       "      <td>0</td>\n",
       "      <td>145885.952297</td>\n",
       "      <td>покупка жилья</td>\n",
       "    </tr>\n",
       "    <tr>\n",
       "      <th>3</th>\n",
       "      <td>3</td>\n",
       "      <td>-4124.747207</td>\n",
       "      <td>32</td>\n",
       "      <td>среднее</td>\n",
       "      <td>1</td>\n",
       "      <td>женат / замужем</td>\n",
       "      <td>0</td>\n",
       "      <td>M</td>\n",
       "      <td>сотрудник</td>\n",
       "      <td>0</td>\n",
       "      <td>267628.550329</td>\n",
       "      <td>дополнительное образование</td>\n",
       "    </tr>\n",
       "    <tr>\n",
       "      <th>4</th>\n",
       "      <td>0</td>\n",
       "      <td>340266.072047</td>\n",
       "      <td>53</td>\n",
       "      <td>среднее</td>\n",
       "      <td>1</td>\n",
       "      <td>гражданский брак</td>\n",
       "      <td>1</td>\n",
       "      <td>F</td>\n",
       "      <td>пенсионер</td>\n",
       "      <td>0</td>\n",
       "      <td>158616.077870</td>\n",
       "      <td>сыграть свадьбу</td>\n",
       "    </tr>\n",
       "    <tr>\n",
       "      <th>5</th>\n",
       "      <td>0</td>\n",
       "      <td>-926.185831</td>\n",
       "      <td>27</td>\n",
       "      <td>высшее</td>\n",
       "      <td>0</td>\n",
       "      <td>гражданский брак</td>\n",
       "      <td>1</td>\n",
       "      <td>M</td>\n",
       "      <td>компаньон</td>\n",
       "      <td>0</td>\n",
       "      <td>255763.565419</td>\n",
       "      <td>покупка жилья</td>\n",
       "    </tr>\n",
       "    <tr>\n",
       "      <th>6</th>\n",
       "      <td>0</td>\n",
       "      <td>-2879.202052</td>\n",
       "      <td>43</td>\n",
       "      <td>высшее</td>\n",
       "      <td>0</td>\n",
       "      <td>женат / замужем</td>\n",
       "      <td>0</td>\n",
       "      <td>F</td>\n",
       "      <td>компаньон</td>\n",
       "      <td>0</td>\n",
       "      <td>240525.971920</td>\n",
       "      <td>операции с жильем</td>\n",
       "    </tr>\n",
       "    <tr>\n",
       "      <th>7</th>\n",
       "      <td>0</td>\n",
       "      <td>-152.779569</td>\n",
       "      <td>50</td>\n",
       "      <td>СРЕДНЕЕ</td>\n",
       "      <td>1</td>\n",
       "      <td>женат / замужем</td>\n",
       "      <td>0</td>\n",
       "      <td>M</td>\n",
       "      <td>сотрудник</td>\n",
       "      <td>0</td>\n",
       "      <td>135823.934197</td>\n",
       "      <td>образование</td>\n",
       "    </tr>\n",
       "    <tr>\n",
       "      <th>8</th>\n",
       "      <td>2</td>\n",
       "      <td>-6929.865299</td>\n",
       "      <td>35</td>\n",
       "      <td>ВЫСШЕЕ</td>\n",
       "      <td>0</td>\n",
       "      <td>гражданский брак</td>\n",
       "      <td>1</td>\n",
       "      <td>F</td>\n",
       "      <td>сотрудник</td>\n",
       "      <td>0</td>\n",
       "      <td>95856.832424</td>\n",
       "      <td>на проведение свадьбы</td>\n",
       "    </tr>\n",
       "    <tr>\n",
       "      <th>9</th>\n",
       "      <td>0</td>\n",
       "      <td>-2188.756445</td>\n",
       "      <td>41</td>\n",
       "      <td>среднее</td>\n",
       "      <td>1</td>\n",
       "      <td>женат / замужем</td>\n",
       "      <td>0</td>\n",
       "      <td>M</td>\n",
       "      <td>сотрудник</td>\n",
       "      <td>0</td>\n",
       "      <td>144425.938277</td>\n",
       "      <td>покупка жилья для семьи</td>\n",
       "    </tr>\n",
       "    <tr>\n",
       "      <th>10</th>\n",
       "      <td>2</td>\n",
       "      <td>-4171.483647</td>\n",
       "      <td>36</td>\n",
       "      <td>высшее</td>\n",
       "      <td>0</td>\n",
       "      <td>женат / замужем</td>\n",
       "      <td>0</td>\n",
       "      <td>M</td>\n",
       "      <td>компаньон</td>\n",
       "      <td>0</td>\n",
       "      <td>113943.491460</td>\n",
       "      <td>покупка недвижимости</td>\n",
       "    </tr>\n",
       "    <tr>\n",
       "      <th>11</th>\n",
       "      <td>0</td>\n",
       "      <td>-792.701887</td>\n",
       "      <td>40</td>\n",
       "      <td>среднее</td>\n",
       "      <td>1</td>\n",
       "      <td>женат / замужем</td>\n",
       "      <td>0</td>\n",
       "      <td>F</td>\n",
       "      <td>сотрудник</td>\n",
       "      <td>0</td>\n",
       "      <td>77069.234271</td>\n",
       "      <td>покупка коммерческой недвижимости</td>\n",
       "    </tr>\n",
       "    <tr>\n",
       "      <th>12</th>\n",
       "      <td>0</td>\n",
       "      <td>NaN</td>\n",
       "      <td>65</td>\n",
       "      <td>среднее</td>\n",
       "      <td>1</td>\n",
       "      <td>гражданский брак</td>\n",
       "      <td>1</td>\n",
       "      <td>M</td>\n",
       "      <td>пенсионер</td>\n",
       "      <td>0</td>\n",
       "      <td>NaN</td>\n",
       "      <td>сыграть свадьбу</td>\n",
       "    </tr>\n",
       "    <tr>\n",
       "      <th>13</th>\n",
       "      <td>0</td>\n",
       "      <td>-1846.641941</td>\n",
       "      <td>54</td>\n",
       "      <td>неоконченное высшее</td>\n",
       "      <td>2</td>\n",
       "      <td>женат / замужем</td>\n",
       "      <td>0</td>\n",
       "      <td>F</td>\n",
       "      <td>сотрудник</td>\n",
       "      <td>0</td>\n",
       "      <td>130458.228857</td>\n",
       "      <td>приобретение автомобиля</td>\n",
       "    </tr>\n",
       "    <tr>\n",
       "      <th>14</th>\n",
       "      <td>0</td>\n",
       "      <td>-1844.956182</td>\n",
       "      <td>56</td>\n",
       "      <td>высшее</td>\n",
       "      <td>0</td>\n",
       "      <td>гражданский брак</td>\n",
       "      <td>1</td>\n",
       "      <td>F</td>\n",
       "      <td>компаньон</td>\n",
       "      <td>1</td>\n",
       "      <td>165127.911772</td>\n",
       "      <td>покупка жилой недвижимости</td>\n",
       "    </tr>\n",
       "    <tr>\n",
       "      <th>15</th>\n",
       "      <td>1</td>\n",
       "      <td>-972.364419</td>\n",
       "      <td>26</td>\n",
       "      <td>среднее</td>\n",
       "      <td>1</td>\n",
       "      <td>женат / замужем</td>\n",
       "      <td>0</td>\n",
       "      <td>F</td>\n",
       "      <td>сотрудник</td>\n",
       "      <td>0</td>\n",
       "      <td>116820.904450</td>\n",
       "      <td>строительство собственной недвижимости</td>\n",
       "    </tr>\n",
       "    <tr>\n",
       "      <th>16</th>\n",
       "      <td>0</td>\n",
       "      <td>-1719.934226</td>\n",
       "      <td>35</td>\n",
       "      <td>среднее</td>\n",
       "      <td>1</td>\n",
       "      <td>женат / замужем</td>\n",
       "      <td>0</td>\n",
       "      <td>F</td>\n",
       "      <td>сотрудник</td>\n",
       "      <td>0</td>\n",
       "      <td>289202.704229</td>\n",
       "      <td>недвижимость</td>\n",
       "    </tr>\n",
       "    <tr>\n",
       "      <th>17</th>\n",
       "      <td>0</td>\n",
       "      <td>-2369.999720</td>\n",
       "      <td>33</td>\n",
       "      <td>высшее</td>\n",
       "      <td>0</td>\n",
       "      <td>гражданский брак</td>\n",
       "      <td>1</td>\n",
       "      <td>M</td>\n",
       "      <td>сотрудник</td>\n",
       "      <td>0</td>\n",
       "      <td>90410.586745</td>\n",
       "      <td>строительство недвижимости</td>\n",
       "    </tr>\n",
       "    <tr>\n",
       "      <th>18</th>\n",
       "      <td>0</td>\n",
       "      <td>400281.136913</td>\n",
       "      <td>53</td>\n",
       "      <td>среднее</td>\n",
       "      <td>1</td>\n",
       "      <td>вдовец / вдова</td>\n",
       "      <td>2</td>\n",
       "      <td>F</td>\n",
       "      <td>пенсионер</td>\n",
       "      <td>0</td>\n",
       "      <td>56823.777243</td>\n",
       "      <td>на покупку подержанного автомобиля</td>\n",
       "    </tr>\n",
       "    <tr>\n",
       "      <th>19</th>\n",
       "      <td>0</td>\n",
       "      <td>-10038.818549</td>\n",
       "      <td>48</td>\n",
       "      <td>СРЕДНЕЕ</td>\n",
       "      <td>1</td>\n",
       "      <td>в разводе</td>\n",
       "      <td>3</td>\n",
       "      <td>F</td>\n",
       "      <td>сотрудник</td>\n",
       "      <td>0</td>\n",
       "      <td>242831.107982</td>\n",
       "      <td>на покупку своего автомобиля</td>\n",
       "    </tr>\n",
       "  </tbody>\n",
       "</table>\n",
       "</div>"
      ],
      "text/plain": [
       "    children  days_employed  dob_years            education  education_id  \\\n",
       "0          1   -8437.673028         42               высшее             0   \n",
       "1          1   -4024.803754         36              среднее             1   \n",
       "2          0   -5623.422610         33              Среднее             1   \n",
       "3          3   -4124.747207         32              среднее             1   \n",
       "4          0  340266.072047         53              среднее             1   \n",
       "5          0    -926.185831         27               высшее             0   \n",
       "6          0   -2879.202052         43               высшее             0   \n",
       "7          0    -152.779569         50              СРЕДНЕЕ             1   \n",
       "8          2   -6929.865299         35               ВЫСШЕЕ             0   \n",
       "9          0   -2188.756445         41              среднее             1   \n",
       "10         2   -4171.483647         36               высшее             0   \n",
       "11         0    -792.701887         40              среднее             1   \n",
       "12         0            NaN         65              среднее             1   \n",
       "13         0   -1846.641941         54  неоконченное высшее             2   \n",
       "14         0   -1844.956182         56               высшее             0   \n",
       "15         1    -972.364419         26              среднее             1   \n",
       "16         0   -1719.934226         35              среднее             1   \n",
       "17         0   -2369.999720         33               высшее             0   \n",
       "18         0  400281.136913         53              среднее             1   \n",
       "19         0  -10038.818549         48              СРЕДНЕЕ             1   \n",
       "\n",
       "       family_status  family_status_id gender income_type  debt  \\\n",
       "0    женат / замужем                 0      F   сотрудник     0   \n",
       "1    женат / замужем                 0      F   сотрудник     0   \n",
       "2    женат / замужем                 0      M   сотрудник     0   \n",
       "3    женат / замужем                 0      M   сотрудник     0   \n",
       "4   гражданский брак                 1      F   пенсионер     0   \n",
       "5   гражданский брак                 1      M   компаньон     0   \n",
       "6    женат / замужем                 0      F   компаньон     0   \n",
       "7    женат / замужем                 0      M   сотрудник     0   \n",
       "8   гражданский брак                 1      F   сотрудник     0   \n",
       "9    женат / замужем                 0      M   сотрудник     0   \n",
       "10   женат / замужем                 0      M   компаньон     0   \n",
       "11   женат / замужем                 0      F   сотрудник     0   \n",
       "12  гражданский брак                 1      M   пенсионер     0   \n",
       "13   женат / замужем                 0      F   сотрудник     0   \n",
       "14  гражданский брак                 1      F   компаньон     1   \n",
       "15   женат / замужем                 0      F   сотрудник     0   \n",
       "16   женат / замужем                 0      F   сотрудник     0   \n",
       "17  гражданский брак                 1      M   сотрудник     0   \n",
       "18    вдовец / вдова                 2      F   пенсионер     0   \n",
       "19         в разводе                 3      F   сотрудник     0   \n",
       "\n",
       "     total_income                                 purpose  \n",
       "0   253875.639453                           покупка жилья  \n",
       "1   112080.014102                 приобретение автомобиля  \n",
       "2   145885.952297                           покупка жилья  \n",
       "3   267628.550329              дополнительное образование  \n",
       "4   158616.077870                         сыграть свадьбу  \n",
       "5   255763.565419                           покупка жилья  \n",
       "6   240525.971920                       операции с жильем  \n",
       "7   135823.934197                             образование  \n",
       "8    95856.832424                   на проведение свадьбы  \n",
       "9   144425.938277                 покупка жилья для семьи  \n",
       "10  113943.491460                    покупка недвижимости  \n",
       "11   77069.234271       покупка коммерческой недвижимости  \n",
       "12            NaN                         сыграть свадьбу  \n",
       "13  130458.228857                 приобретение автомобиля  \n",
       "14  165127.911772              покупка жилой недвижимости  \n",
       "15  116820.904450  строительство собственной недвижимости  \n",
       "16  289202.704229                            недвижимость  \n",
       "17   90410.586745              строительство недвижимости  \n",
       "18   56823.777243      на покупку подержанного автомобиля  \n",
       "19  242831.107982            на покупку своего автомобиля  "
      ]
     },
     "execution_count": 2,
     "metadata": {},
     "output_type": "execute_result"
    }
   ],
   "source": [
    "data.head(20)"
   ]
  },
  {
   "cell_type": "markdown",
   "id": "1c12e233",
   "metadata": {
    "deletable": false,
    "id": "1c12e233"
   },
   "source": [
    "**Задание 3. Выведите основную информацию о датафрейме с помощью метода `info()`.**"
   ]
  },
  {
   "cell_type": "code",
   "execution_count": 3,
   "id": "2b757bca",
   "metadata": {
    "deletable": false,
    "id": "2b757bca",
    "outputId": "15376089-8dad-46c9-b520-c05248d43158"
   },
   "outputs": [
    {
     "name": "stdout",
     "output_type": "stream",
     "text": [
      "<class 'pandas.core.frame.DataFrame'>\n",
      "RangeIndex: 21525 entries, 0 to 21524\n",
      "Data columns (total 12 columns):\n",
      " #   Column            Non-Null Count  Dtype  \n",
      "---  ------            --------------  -----  \n",
      " 0   children          21525 non-null  int64  \n",
      " 1   days_employed     19351 non-null  float64\n",
      " 2   dob_years         21525 non-null  int64  \n",
      " 3   education         21525 non-null  object \n",
      " 4   education_id      21525 non-null  int64  \n",
      " 5   family_status     21525 non-null  object \n",
      " 6   family_status_id  21525 non-null  int64  \n",
      " 7   gender            21525 non-null  object \n",
      " 8   income_type       21525 non-null  object \n",
      " 9   debt              21525 non-null  int64  \n",
      " 10  total_income      19351 non-null  float64\n",
      " 11  purpose           21525 non-null  object \n",
      "dtypes: float64(2), int64(5), object(5)\n",
      "memory usage: 2.0+ MB\n"
     ]
    }
   ],
   "source": [
    "data.info()"
   ]
  },
  {
   "cell_type": "markdown",
   "id": "333ec665",
   "metadata": {
    "deletable": false,
    "id": "333ec665"
   },
   "source": [
    "## Предобработка данных"
   ]
  },
  {
   "cell_type": "markdown",
   "id": "02d92d53",
   "metadata": {
    "deletable": false,
    "id": "02d92d53"
   },
   "source": [
    "### Удаление пропусков"
   ]
  },
  {
   "cell_type": "markdown",
   "id": "cd84967c",
   "metadata": {
    "deletable": false,
    "id": "cd84967c"
   },
   "source": [
    "**Задание 4. Выведите количество пропущенных значений для каждого столбца. Используйте комбинацию двух методов.**"
   ]
  },
  {
   "cell_type": "code",
   "execution_count": 4,
   "id": "7f9b2309",
   "metadata": {
    "deletable": false,
    "id": "7f9b2309",
    "outputId": "81f4d817-781c-465c-ed15-91ce4446810d"
   },
   "outputs": [
    {
     "data": {
      "text/plain": [
       "children               0\n",
       "days_employed       2174\n",
       "dob_years              0\n",
       "education              0\n",
       "education_id           0\n",
       "family_status          0\n",
       "family_status_id       0\n",
       "gender                 0\n",
       "income_type            0\n",
       "debt                   0\n",
       "total_income        2174\n",
       "purpose                0\n",
       "dtype: int64"
      ]
     },
     "execution_count": 4,
     "metadata": {},
     "output_type": "execute_result"
    }
   ],
   "source": [
    "data.isna().sum()"
   ]
  },
  {
   "cell_type": "markdown",
   "id": "db86e27b",
   "metadata": {
    "deletable": false,
    "id": "db86e27b"
   },
   "source": [
    "**Задание 5. В двух столбцах есть пропущенные значения. Один из них — `days_employed`. Пропуски в этом столбце вы обработаете на следующем этапе. Другой столбец с пропущенными значениями — `total_income` — хранит данные о доходах. На сумму дохода сильнее всего влияет тип занятости, поэтому заполнить пропуски в этом столбце нужно медианным значением по каждому типу из столбца `income_type`. Например, у человека с типом занятости `сотрудник` пропуск в столбце `total_income` должен быть заполнен медианным доходом среди всех записей с тем же типом.**"
   ]
  },
  {
   "cell_type": "code",
   "execution_count": 5,
   "id": "42006a93",
   "metadata": {
    "deletable": false,
    "id": "42006a93"
   },
   "outputs": [],
   "source": [
    "for t in data['income_type'].unique():\n",
    "    data.loc[(data['income_type'] == t) & (data['total_income'].isna()), 'total_income'] = \\\n",
    "    data.loc[(data['income_type'] == t), 'total_income'].median()"
   ]
  },
  {
   "cell_type": "markdown",
   "id": "89da5ece",
   "metadata": {
    "deletable": false,
    "id": "89da5ece"
   },
   "source": [
    "### Обработка аномальных значений"
   ]
  },
  {
   "cell_type": "markdown",
   "id": "57964554",
   "metadata": {
    "deletable": false,
    "id": "57964554"
   },
   "source": [
    "**Задание 6. В данных могут встречаться артефакты (аномалии) — значения, которые не отражают действительность и появились по какой-то ошибке. таким артефактом будет отрицательное количество дней трудового стажа в столбце `days_employed`. Для реальных данных это нормально. Обработайте значения в этом столбце: замените все отрицательные значения положительными с помощью метода `abs()`.**"
   ]
  },
  {
   "cell_type": "code",
   "execution_count": 6,
   "id": "f6f055bf",
   "metadata": {
    "deletable": false,
    "id": "f6f055bf"
   },
   "outputs": [],
   "source": [
    "data['days_employed'] = data['days_employed'].abs()"
   ]
  },
  {
   "cell_type": "markdown",
   "id": "6107dd2f",
   "metadata": {
    "deletable": false,
    "id": "6107dd2f"
   },
   "source": [
    "**Задание 7. Для каждого типа занятости выведите медианное значение трудового стажа `days_employed` в днях.**"
   ]
  },
  {
   "cell_type": "code",
   "execution_count": 7,
   "id": "85a5faf6",
   "metadata": {
    "deletable": false,
    "id": "85a5faf6",
    "outputId": "801ef80e-522b-4668-f34e-565af7432bcf"
   },
   "outputs": [
    {
     "data": {
      "text/plain": [
       "income_type\n",
       "безработный        366413.652744\n",
       "в декрете            3296.759962\n",
       "госслужащий          2689.368353\n",
       "компаньон            1547.382223\n",
       "пенсионер          365213.306266\n",
       "предприниматель       520.848083\n",
       "сотрудник            1574.202821\n",
       "студент               578.751554\n",
       "Name: days_employed, dtype: float64"
      ]
     },
     "execution_count": 7,
     "metadata": {},
     "output_type": "execute_result"
    }
   ],
   "source": [
    "data.groupby('income_type')['days_employed'].agg('median')"
   ]
  },
  {
   "cell_type": "markdown",
   "id": "38d1a030",
   "metadata": {
    "deletable": false,
    "id": "38d1a030"
   },
   "source": [
    "У двух типов (безработные и пенсионеры) получатся аномально большие значения. Исправить такие значения сложно, поэтому оставьте их как есть. Тем более этот столбец не понадобится вам для исследования."
   ]
  },
  {
   "cell_type": "markdown",
   "id": "d8a9f147",
   "metadata": {
    "deletable": false,
    "id": "d8a9f147"
   },
   "source": [
    "**Задание 8. Выведите перечень уникальных значений столбца `children`.**"
   ]
  },
  {
   "cell_type": "code",
   "execution_count": 8,
   "id": "ef5056eb",
   "metadata": {
    "deletable": false,
    "id": "ef5056eb",
    "outputId": "6975b15c-7f95-4697-d16d-a0c79b657b03"
   },
   "outputs": [
    {
     "data": {
      "text/plain": [
       "array([ 1,  0,  3,  2, -1,  4, 20,  5], dtype=int64)"
      ]
     },
     "execution_count": 8,
     "metadata": {},
     "output_type": "execute_result"
    }
   ],
   "source": [
    "data['children'].unique()"
   ]
  },
  {
   "cell_type": "markdown",
   "id": "40b9ebf2",
   "metadata": {
    "deletable": false,
    "id": "40b9ebf2"
   },
   "source": [
    "**Задание 9. В столбце `children` есть два аномальных значения. Удалите строки, в которых встречаются такие аномальные значения из датафрейма `data`.**"
   ]
  },
  {
   "cell_type": "code",
   "execution_count": 9,
   "id": "3ff9801d",
   "metadata": {
    "deletable": false,
    "id": "3ff9801d"
   },
   "outputs": [],
   "source": [
    "data = data[(data['children'] != -1) & (data['children'] != 20)]"
   ]
  },
  {
   "cell_type": "markdown",
   "id": "bbc4d0ce",
   "metadata": {
    "deletable": false,
    "id": "bbc4d0ce"
   },
   "source": [
    "**Задание 10. Ещё раз выведите перечень уникальных значений столбца `children`, чтобы убедиться, что артефакты удалены.**"
   ]
  },
  {
   "cell_type": "code",
   "execution_count": 10,
   "id": "ad4fa8b7",
   "metadata": {
    "deletable": false,
    "id": "ad4fa8b7",
    "outputId": "b2097101-d49d-44d9-901b-32a65c9463d1"
   },
   "outputs": [
    {
     "data": {
      "text/plain": [
       "array([1, 0, 3, 2, 4, 5], dtype=int64)"
      ]
     },
     "execution_count": 10,
     "metadata": {},
     "output_type": "execute_result"
    }
   ],
   "source": [
    "data['children'].unique()"
   ]
  },
  {
   "cell_type": "markdown",
   "id": "75440b63",
   "metadata": {
    "deletable": false,
    "id": "75440b63"
   },
   "source": [
    "### Удаление пропусков (продолжение)"
   ]
  },
  {
   "cell_type": "markdown",
   "id": "f4ea573f",
   "metadata": {
    "deletable": false,
    "id": "f4ea573f"
   },
   "source": [
    "**Задание 11. Заполните пропуски в столбце `days_employed` медианными значениями по каждого типа занятости `income_type`.**"
   ]
  },
  {
   "cell_type": "code",
   "execution_count": 11,
   "id": "af6b1a7e",
   "metadata": {
    "deletable": false,
    "id": "af6b1a7e"
   },
   "outputs": [],
   "source": [
    "for t in data['income_type'].unique():\n",
    "    data.loc[(data['income_type'] == t) & (data['days_employed'].isna()), 'days_employed'] = \\\n",
    "    data.loc[(data['income_type'] == t), 'days_employed'].median()"
   ]
  },
  {
   "cell_type": "markdown",
   "id": "2753f40d",
   "metadata": {
    "deletable": false,
    "id": "2753f40d"
   },
   "source": [
    "**Задание 12. Убедитесь, что все пропуски заполнены. Проверьте себя и ещё раз выведите количество пропущенных значений для каждого столбца с помощью двух методов.**"
   ]
  },
  {
   "cell_type": "code",
   "execution_count": 12,
   "id": "55f78bc2",
   "metadata": {
    "deletable": false,
    "id": "55f78bc2",
    "outputId": "8da1e4e1-358e-4e87-98c9-f261bce0a7b2"
   },
   "outputs": [
    {
     "data": {
      "text/plain": [
       "children            0\n",
       "days_employed       0\n",
       "dob_years           0\n",
       "education           0\n",
       "education_id        0\n",
       "family_status       0\n",
       "family_status_id    0\n",
       "gender              0\n",
       "income_type         0\n",
       "debt                0\n",
       "total_income        0\n",
       "purpose             0\n",
       "dtype: int64"
      ]
     },
     "execution_count": 12,
     "metadata": {},
     "output_type": "execute_result"
    }
   ],
   "source": [
    "data.isna().sum()"
   ]
  },
  {
   "cell_type": "markdown",
   "id": "ddc81e43",
   "metadata": {
    "deletable": false,
    "id": "ddc81e43"
   },
   "source": [
    "### Изменение типов данных"
   ]
  },
  {
   "cell_type": "markdown",
   "id": "42d19d24",
   "metadata": {
    "deletable": false,
    "id": "42d19d24"
   },
   "source": [
    "**Задание 13. Замените вещественный тип данных в столбце `total_income` на целочисленный с помощью метода `astype()`.**"
   ]
  },
  {
   "cell_type": "code",
   "execution_count": 13,
   "id": "920b65ad",
   "metadata": {
    "deletable": false,
    "id": "920b65ad"
   },
   "outputs": [],
   "source": [
    "data['total_income'] = data['total_income'].astype(int)"
   ]
  },
  {
   "cell_type": "markdown",
   "id": "80c420ba",
   "metadata": {
    "deletable": false,
    "id": "80c420ba"
   },
   "source": [
    "### Обработка дубликатов"
   ]
  },
  {
   "cell_type": "markdown",
   "id": "dc587695",
   "metadata": {
    "deletable": false,
    "id": "dc587695"
   },
   "source": [
    "**Задание 14. Выведите на экран количество строк-дубликатов в данных. Если такие строки присутствуют, удалите их.**"
   ]
  },
  {
   "cell_type": "code",
   "execution_count": 14,
   "id": "3ee445e4",
   "metadata": {
    "deletable": false,
    "id": "3ee445e4",
    "outputId": "9684deba-1934-42d1-99e1-cda61740f822"
   },
   "outputs": [
    {
     "data": {
      "text/plain": [
       "54"
      ]
     },
     "execution_count": 14,
     "metadata": {},
     "output_type": "execute_result"
    }
   ],
   "source": [
    "data.duplicated().sum()"
   ]
  },
  {
   "cell_type": "code",
   "execution_count": 15,
   "id": "8575fe05",
   "metadata": {
    "deletable": false,
    "id": "8575fe05"
   },
   "outputs": [],
   "source": [
    "data = data.drop_duplicates()"
   ]
  },
  {
   "cell_type": "markdown",
   "id": "9771a76c",
   "metadata": {
    "deletable": false,
    "id": "9771a76c"
   },
   "source": [
    "**Задание 15. Обработайте неявные дубликаты в столбце `education`. В этом столбце есть одни и те же значения, но записанные по-разному: с использованием заглавных и строчных букв. Приведите их к нижнему регистру. Проверьте остальные столбцы.**"
   ]
  },
  {
   "cell_type": "code",
   "execution_count": 16,
   "id": "a9f8e2bf",
   "metadata": {
    "deletable": false,
    "id": "a9f8e2bf"
   },
   "outputs": [],
   "source": [
    "data['education'] = data['education'].str.lower()"
   ]
  },
  {
   "cell_type": "markdown",
   "id": "9904cf55",
   "metadata": {
    "deletable": false,
    "id": "9904cf55"
   },
   "source": [
    "### Категоризация данных"
   ]
  },
  {
   "cell_type": "markdown",
   "id": "72fcc8a2",
   "metadata": {
    "deletable": false,
    "id": "72fcc8a2"
   },
   "source": [
    "**Задание 16. На основании диапазонов, указанных ниже, создайте в датафрейме `data` столбец `total_income_category` с категориями:**\n",
    "\n",
    "- 0–30000 — `'E'`;\n",
    "- 30001–50000 — `'D'`;\n",
    "- 50001–200000 — `'C'`;\n",
    "- 200001–1000000 — `'B'`;\n",
    "- 1000001 и выше — `'A'`.\n",
    "\n",
    "\n",
    "**Например, кредитополучателю с доходом 25000 нужно назначить категорию `'E'`, а клиенту, получающему 235000, — `'B'`. Используйте собственную функцию с именем `categorize_income()` и метод `apply()`.**"
   ]
  },
  {
   "cell_type": "code",
   "execution_count": 17,
   "id": "e1771346",
   "metadata": {
    "deletable": false,
    "id": "e1771346"
   },
   "outputs": [],
   "source": [
    "def categorize_income(income):\n",
    "    try:\n",
    "        if 0 <= income <= 30000:\n",
    "            return 'E'\n",
    "        elif 30001 <= income <= 50000:\n",
    "            return 'D'\n",
    "        elif 50001 <= income <= 200000:\n",
    "            return 'C'\n",
    "        elif 200001 <= income <= 1000000:\n",
    "            return 'B'\n",
    "        elif income >= 1000001:\n",
    "            return 'A'\n",
    "    except:\n",
    "        pass"
   ]
  },
  {
   "cell_type": "code",
   "execution_count": 18,
   "id": "d5f3586d",
   "metadata": {
    "deletable": false,
    "id": "d5f3586d"
   },
   "outputs": [],
   "source": [
    "data['total_income_category'] = data['total_income'].apply(categorize_income)"
   ]
  },
  {
   "cell_type": "markdown",
   "id": "dde49b5c",
   "metadata": {
    "deletable": false,
    "id": "dde49b5c"
   },
   "source": [
    "**Задание 17. Выведите на экран перечень уникальных целей взятия кредита из столбца `purpose`.**"
   ]
  },
  {
   "cell_type": "code",
   "execution_count": 19,
   "id": "f67ce9b3",
   "metadata": {
    "deletable": false,
    "id": "f67ce9b3",
    "outputId": "673c12d9-7d7e-4ae0-9812-c622c89dd244"
   },
   "outputs": [
    {
     "data": {
      "text/plain": [
       "array(['покупка жилья', 'приобретение автомобиля',\n",
       "       'дополнительное образование', 'сыграть свадьбу',\n",
       "       'операции с жильем', 'образование', 'на проведение свадьбы',\n",
       "       'покупка жилья для семьи', 'покупка недвижимости',\n",
       "       'покупка коммерческой недвижимости', 'покупка жилой недвижимости',\n",
       "       'строительство собственной недвижимости', 'недвижимость',\n",
       "       'строительство недвижимости', 'на покупку подержанного автомобиля',\n",
       "       'на покупку своего автомобиля',\n",
       "       'операции с коммерческой недвижимостью',\n",
       "       'строительство жилой недвижимости', 'жилье',\n",
       "       'операции со своей недвижимостью', 'автомобили',\n",
       "       'заняться образованием', 'сделка с подержанным автомобилем',\n",
       "       'получение образования', 'автомобиль', 'свадьба',\n",
       "       'получение дополнительного образования', 'покупка своего жилья',\n",
       "       'операции с недвижимостью', 'получение высшего образования',\n",
       "       'свой автомобиль', 'сделка с автомобилем',\n",
       "       'профильное образование', 'высшее образование',\n",
       "       'покупка жилья для сдачи', 'на покупку автомобиля', 'ремонт жилью',\n",
       "       'заняться высшим образованием'], dtype=object)"
      ]
     },
     "execution_count": 19,
     "metadata": {},
     "output_type": "execute_result"
    }
   ],
   "source": [
    "data['purpose'].unique()"
   ]
  },
  {
   "cell_type": "markdown",
   "id": "85d0aef0",
   "metadata": {
    "deletable": false,
    "id": "85d0aef0"
   },
   "source": [
    "**Задание 18. Создайте функцию, которая на основании данных из столбца `purpose` сформирует новый столбец `purpose_category`, в который войдут следующие категории:**\n",
    "\n",
    "- `'операции с автомобилем'`,\n",
    "- `'операции с недвижимостью'`,\n",
    "- `'проведение свадьбы'`,\n",
    "- `'получение образования'`.\n",
    "\n",
    "**Например, если в столбце `purpose` находится подстрока `'на покупку автомобиля'`, то в столбце `purpose_category` должна появиться строка `'операции с автомобилем'`.**\n",
    "\n",
    "**Используйте собственную функцию с именем `categorize_purpose()` и метод `apply()`. Изучите данные в столбце `purpose` и определите, какие подстроки помогут вам правильно определить категорию.**"
   ]
  },
  {
   "cell_type": "code",
   "execution_count": 20,
   "id": "e149fab4",
   "metadata": {
    "deletable": false,
    "id": "e149fab4"
   },
   "outputs": [],
   "source": [
    "def categorize_purpose(row):\n",
    "    try:\n",
    "        if 'автом' in row:\n",
    "            return 'операции с автомобилем'\n",
    "        elif 'жил' in row or 'недвиж' in row:\n",
    "            return 'операции с недвижимостью'\n",
    "        elif 'свад' in row:\n",
    "            return 'проведение свадьбы'\n",
    "        elif 'образов' in row:\n",
    "            return 'получение образования'\n",
    "    except:\n",
    "        return 'нет категории'"
   ]
  },
  {
   "cell_type": "code",
   "execution_count": 21,
   "id": "bf36e69b",
   "metadata": {
    "deletable": false,
    "id": "bf36e69b"
   },
   "outputs": [],
   "source": [
    "data['purpose_category'] = data['purpose'].apply(categorize_purpose)"
   ]
  },
  {
   "cell_type": "markdown",
   "id": "09b242bf",
   "metadata": {
    "deletable": false,
    "editable": false,
    "id": "09b242bf"
   },
   "source": [
    "## Исследуйте данные и ответьте на вопросы"
   ]
  },
  {
   "cell_type": "markdown",
   "id": "c5d66278",
   "metadata": {
    "deletable": false,
    "editable": false,
    "id": "c5d66278"
   },
   "source": [
    "**Задание 19. Есть ли зависимость между количеством детей и возвратом кредита в срок?**"
   ]
  },
  {
   "cell_type": "code",
   "execution_count": 22,
   "id": "2cacfc4a",
   "metadata": {
    "id": "2cacfc4a",
    "scrolled": false
   },
   "outputs": [
    {
     "data": {
      "text/html": [
       "<div>\n",
       "<style scoped>\n",
       "    .dataframe tbody tr th:only-of-type {\n",
       "        vertical-align: middle;\n",
       "    }\n",
       "\n",
       "    .dataframe tbody tr th {\n",
       "        vertical-align: top;\n",
       "    }\n",
       "\n",
       "    .dataframe thead th {\n",
       "        text-align: right;\n",
       "    }\n",
       "</style>\n",
       "<table border=\"1\" class=\"dataframe\">\n",
       "  <thead>\n",
       "    <tr style=\"text-align: right;\">\n",
       "      <th></th>\n",
       "      <th>total_credits</th>\n",
       "      <th>debt_credits</th>\n",
       "      <th>ratio</th>\n",
       "    </tr>\n",
       "  </thead>\n",
       "  <tbody>\n",
       "    <tr>\n",
       "      <th>0</th>\n",
       "      <td>14107</td>\n",
       "      <td>1063.0</td>\n",
       "      <td>0.075353</td>\n",
       "    </tr>\n",
       "    <tr>\n",
       "      <th>1</th>\n",
       "      <td>4809</td>\n",
       "      <td>444.0</td>\n",
       "      <td>0.092327</td>\n",
       "    </tr>\n",
       "    <tr>\n",
       "      <th>2</th>\n",
       "      <td>2052</td>\n",
       "      <td>194.0</td>\n",
       "      <td>0.094542</td>\n",
       "    </tr>\n",
       "    <tr>\n",
       "      <th>3</th>\n",
       "      <td>330</td>\n",
       "      <td>27.0</td>\n",
       "      <td>0.081818</td>\n",
       "    </tr>\n",
       "    <tr>\n",
       "      <th>4</th>\n",
       "      <td>41</td>\n",
       "      <td>4.0</td>\n",
       "      <td>0.097561</td>\n",
       "    </tr>\n",
       "    <tr>\n",
       "      <th>5</th>\n",
       "      <td>9</td>\n",
       "      <td>NaN</td>\n",
       "      <td>0.000000</td>\n",
       "    </tr>\n",
       "  </tbody>\n",
       "</table>\n",
       "</div>"
      ],
      "text/plain": [
       "   total_credits  debt_credits     ratio\n",
       "0          14107        1063.0  0.075353\n",
       "1           4809         444.0  0.092327\n",
       "2           2052         194.0  0.094542\n",
       "3            330          27.0  0.081818\n",
       "4             41           4.0  0.097561\n",
       "5              9           NaN  0.000000"
      ]
     },
     "execution_count": 22,
     "metadata": {},
     "output_type": "execute_result"
    }
   ],
   "source": [
    "# создадим функцию для расчета процента клиентов, которые не вернули кредит по выбранной категории, которую передаем, как значение. \n",
    "def no_repayment_of_debt(data, category):\n",
    "    total_credits = data[category].value_counts().rename(\"total_credits\") # считаем общее количество выданных кредитов в выбранной категории\n",
    "    debt_credits = data[data.debt == 1].groupby(category)['debt'].count().rename(\"debt_credits\") # считаем количество кредитов, которые не вернули в выбранной категрии\n",
    "    ratio = (debt_credits / total_credits).fillna(0).rename(\"ratio\") # считаем соотношение количества не возвратов к количеству выданных кредитов\n",
    "    return pd.concat([total_credits, debt_credits, ratio], axis=1)\n",
    "   \n",
    "\n",
    "ratio_children = no_repayment_of_debt(data, 'children') # обращаемся к  no_repayment_of_debt по показателю количества детей\n",
    "ratio_children\n",
    "\n",
    "\n"
   ]
  },
  {
   "cell_type": "code",
   "execution_count": 23,
   "id": "81cb5cf5",
   "metadata": {},
   "outputs": [],
   "source": [
    "# adsa = data.pivot_table(index='children', values='debt', aggfunc=['count', 'sum'])\n",
    "# adsa['per'] = adsa['sum'] / adsa['count']\n",
    "# adsa"
   ]
  },
  {
   "cell_type": "code",
   "execution_count": 24,
   "id": "04938b85",
   "metadata": {},
   "outputs": [
    {
     "data": {
      "text/plain": [
       "<AxesSubplot:>"
      ]
     },
     "execution_count": 24,
     "metadata": {},
     "output_type": "execute_result"
    },
    {
     "data": {
      "image/png": "[encoded data removed]",
      "text/plain": [
       "<Figure size 432x288 with 2 Axes>"
      ]
     },
     "metadata": {
      "needs_background": "light"
     },
     "output_type": "display_data"
    }
   ],
   "source": [
    "import seaborn\n",
    "seaborn.heatmap(pd.DataFrame(ratio_children['ratio'])) # выводим графическое отображение полученных данных\n"
   ]
  },
  {
   "cell_type": "markdown",
   "id": "3a6b99ec",
   "metadata": {
    "deletable": false,
    "id": "3a6b99ec"
   },
   "source": [
    "**Вывод:** \n",
    "    <p>Можно сказать, что клиенты, у которых нет детей имею наименьший процент не возвращенных кредитов 7,5%. При этом на эту категорию приходится самое больше количество выданных кредитов, что позволяет утверждать о точности сделанного вывода. </p>\n",
    "    В целом клиенты, у которых есть дети имеют, приблизительно, одинаковые показатели 9,2% - 9,8%. \n",
    "    Исключением являются клиенты у которых 5 детей (100% возврат кредитов), но количество таких клиентов небольшое и поэтому накопленных данных мало для каких-то выводов."
   ]
  },
  {
   "cell_type": "markdown",
   "id": "cce56c18",
   "metadata": {},
   "source": [
    "<p>\n",
    "<div class=\"alert-info\">\n",
    "<b>Комментарий студента</b>\n",
    "\n",
    "**Вывод:** \n",
    "    <p>Можно сказать, что клиенты, у которых нет детей имею наименьший процент не возвращенных кредитов 7,5%. При этом на эту категорию приходится самое больше количество выданных кредитов, что позволяет утверждать о точности сделанного вывода. </p>\n",
    "    <p>В целом клиенты, у которых есть дети имеют, приблизительно, одинаковые показатели 9,2% - 9,8%. </p>\n",
    "    <p>Исключением являются клиенты у которых 5 детей (100% возврат кредитов), но количество таких клиентов небольшое и поэтому накопленных данных мало для каких-то выводов.</p></div>"
   ]
  },
  {
   "cell_type": "markdown",
   "id": "322cfa9f",
   "metadata": {},
   "source": [
    "<div class=\"alert-danger\">\n",
    "<b>Комментарий ревьюера ❌</b>\n",
    "\n",
    "Ты правильно все посчитал, но одним из ключевых моментов этого проекта является умение создавать сводные таблицы. Подумай, как можно сразу вывести нужные категории, их количество и процент просрочки в одной таблице?</div>"
   ]
  },
  {
   "cell_type": "markdown",
   "id": "97be82ca",
   "metadata": {
    "deletable": false,
    "editable": false,
    "id": "97be82ca"
   },
   "source": [
    "**Задание 20. Есть ли зависимость между семейным положением и возвратом кредита в срок?**"
   ]
  },
  {
   "cell_type": "code",
   "execution_count": 25,
   "id": "dc3f7ee8",
   "metadata": {
    "id": "dc3f7ee8",
    "scrolled": true
   },
   "outputs": [
    {
     "data": {
      "text/html": [
       "<div>\n",
       "<style scoped>\n",
       "    .dataframe tbody tr th:only-of-type {\n",
       "        vertical-align: middle;\n",
       "    }\n",
       "\n",
       "    .dataframe tbody tr th {\n",
       "        vertical-align: top;\n",
       "    }\n",
       "\n",
       "    .dataframe thead th {\n",
       "        text-align: right;\n",
       "    }\n",
       "</style>\n",
       "<table border=\"1\" class=\"dataframe\">\n",
       "  <thead>\n",
       "    <tr style=\"text-align: right;\">\n",
       "      <th></th>\n",
       "      <th>total_credits</th>\n",
       "      <th>debt_credits</th>\n",
       "      <th>ratio</th>\n",
       "    </tr>\n",
       "  </thead>\n",
       "  <tbody>\n",
       "    <tr>\n",
       "      <th>женат / замужем</th>\n",
       "      <td>12266</td>\n",
       "      <td>927</td>\n",
       "      <td>0.075575</td>\n",
       "    </tr>\n",
       "    <tr>\n",
       "      <th>гражданский брак</th>\n",
       "      <td>4146</td>\n",
       "      <td>385</td>\n",
       "      <td>0.092861</td>\n",
       "    </tr>\n",
       "    <tr>\n",
       "      <th>Не женат / не замужем</th>\n",
       "      <td>2796</td>\n",
       "      <td>273</td>\n",
       "      <td>0.097639</td>\n",
       "    </tr>\n",
       "    <tr>\n",
       "      <th>в разводе</th>\n",
       "      <td>1189</td>\n",
       "      <td>84</td>\n",
       "      <td>0.070648</td>\n",
       "    </tr>\n",
       "    <tr>\n",
       "      <th>вдовец / вдова</th>\n",
       "      <td>951</td>\n",
       "      <td>63</td>\n",
       "      <td>0.066246</td>\n",
       "    </tr>\n",
       "  </tbody>\n",
       "</table>\n",
       "</div>"
      ],
      "text/plain": [
       "                       total_credits  debt_credits     ratio\n",
       "женат / замужем                12266           927  0.075575\n",
       "гражданский брак                4146           385  0.092861\n",
       "Не женат / не замужем           2796           273  0.097639\n",
       "в разводе                       1189            84  0.070648\n",
       "вдовец / вдова                   951            63  0.066246"
      ]
     },
     "execution_count": 25,
     "metadata": {},
     "output_type": "execute_result"
    },
    {
     "data": {
      "image/png": "[encoded data removed]",
      "text/plain": [
       "<Figure size 432x288 with 2 Axes>"
      ]
     },
     "metadata": {
      "needs_background": "light"
     },
     "output_type": "display_data"
    }
   ],
   "source": [
    "ratio_family_status = no_repayment_of_debt(data, 'family_status') # # обращаемся к  no_repayment_of_debt по показателю 'family_status'\n",
    "\n",
    "seaborn.heatmap(pd.DataFrame(ratio_family_status['ratio'])) # выводим графическое отображение полученных данных\n",
    "ratio_family_status\n"
   ]
  },
  {
   "cell_type": "markdown",
   "id": "1cef7837",
   "metadata": {
    "deletable": false,
    "id": "1cef7837"
   },
   "source": []
  },
  {
   "cell_type": "markdown",
   "id": "3e0c5879",
   "metadata": {},
   "source": [
    "<p>\n",
    "<div class=\"alert-info\">\n",
    "<b>Комментарий студента</b>\n",
    "\n",
    "**Вывод:** \n",
    "    <p>Самый маленький процент не возвращенных кредитов в категории вдовец/вдова 6,6%. При этом в этой категории меньше всего выданных кредитов и точность вычислений может быть ниже чем у остальных категорий. </p>   \n",
    "    <p>В категориях \"в разводе\" и \"женат / замужем\" приблизительно одинаковые показатели 7% - 7,5%. В категории \"женат / замужем\" более 12 тысяч выданных кредитов, что превосходит сумму кредитов выданных по всем остальным категориям. Из этого можно сделать вывод, что имено клиенты из этой группы могут быть наиболее интересны.</p>\n",
    "    <p>Самые высокие показатели не возвращенных кредитов в котегориях \"Не женат / не замужем\" и \"Не женат / не замужем\"  9,2% - 9,8% </p></div>"
   ]
  },
  {
   "cell_type": "markdown",
   "id": "99179701",
   "metadata": {},
   "source": [
    "<div class=\"alert-danger\">\n",
    "<b>Комментарий ревьюера ❌</b>\n",
    "\n",
    "Здесь тоже нужно создать сводную таблицу, где помимо процента просроченных кредитов, названия категории будет также количество наблюдений каждой категории. Обрати внимание, что некоторые категории настолько малы, что делать по ним выводы не имеет смысла.</div>"
   ]
  },
  {
   "cell_type": "markdown",
   "id": "1e8b2fca",
   "metadata": {
    "deletable": false,
    "editable": false,
    "id": "1e8b2fca"
   },
   "source": [
    "**Задание 21. Есть ли зависимость между уровнем дохода и возвратом кредита в срок?**"
   ]
  },
  {
   "cell_type": "code",
   "execution_count": 26,
   "id": "cd7e3720",
   "metadata": {
    "id": "cd7e3720"
   },
   "outputs": [
    {
     "data": {
      "text/html": [
       "<div>\n",
       "<style scoped>\n",
       "    .dataframe tbody tr th:only-of-type {\n",
       "        vertical-align: middle;\n",
       "    }\n",
       "\n",
       "    .dataframe tbody tr th {\n",
       "        vertical-align: top;\n",
       "    }\n",
       "\n",
       "    .dataframe thead th {\n",
       "        text-align: right;\n",
       "    }\n",
       "</style>\n",
       "<table border=\"1\" class=\"dataframe\">\n",
       "  <thead>\n",
       "    <tr style=\"text-align: right;\">\n",
       "      <th></th>\n",
       "      <th>total_credits</th>\n",
       "      <th>debt_credits</th>\n",
       "      <th>ratio</th>\n",
       "    </tr>\n",
       "  </thead>\n",
       "  <tbody>\n",
       "    <tr>\n",
       "      <th>C</th>\n",
       "      <td>15938</td>\n",
       "      <td>1353</td>\n",
       "      <td>0.084891</td>\n",
       "    </tr>\n",
       "    <tr>\n",
       "      <th>B</th>\n",
       "      <td>5014</td>\n",
       "      <td>354</td>\n",
       "      <td>0.070602</td>\n",
       "    </tr>\n",
       "    <tr>\n",
       "      <th>D</th>\n",
       "      <td>349</td>\n",
       "      <td>21</td>\n",
       "      <td>0.060172</td>\n",
       "    </tr>\n",
       "    <tr>\n",
       "      <th>A</th>\n",
       "      <td>25</td>\n",
       "      <td>2</td>\n",
       "      <td>0.080000</td>\n",
       "    </tr>\n",
       "    <tr>\n",
       "      <th>E</th>\n",
       "      <td>22</td>\n",
       "      <td>2</td>\n",
       "      <td>0.090909</td>\n",
       "    </tr>\n",
       "  </tbody>\n",
       "</table>\n",
       "</div>"
      ],
      "text/plain": [
       "   total_credits  debt_credits     ratio\n",
       "C          15938          1353  0.084891\n",
       "B           5014           354  0.070602\n",
       "D            349            21  0.060172\n",
       "A             25             2  0.080000\n",
       "E             22             2  0.090909"
      ]
     },
     "execution_count": 26,
     "metadata": {},
     "output_type": "execute_result"
    },
    {
     "data": {
      "image/png": "[encoded data removed]",
      "text/plain": [
       "<Figure size 432x288 with 2 Axes>"
      ]
     },
     "metadata": {
      "needs_background": "light"
     },
     "output_type": "display_data"
    }
   ],
   "source": [
    "# Ваш код будет здесь. Вы можете создавать новые ячейки.\n",
    "ratio_total_income_category = no_repayment_of_debt(data, 'total_income_category') # # обращаемся к  no_repayment_of_debt по показателю 'total_income_category'\n",
    "\n",
    "seaborn.heatmap(pd.DataFrame(ratio_total_income_category['ratio'])) # выводим графическое отображение полученных данных\n",
    "ratio_total_income_category\n"
   ]
  },
  {
   "cell_type": "markdown",
   "id": "e8593def",
   "metadata": {
    "deletable": false,
    "id": "e8593def"
   },
   "source": [
    "**Вывод:** \n",
    "    У клиентов из групп А и В (\"высокий доход\") процент не возвращенных кредитов колеблется между 7% и 8%. При этом в категории А всего 25 выданных кредитов и, как следствие, точно может быть не высокой. \n",
    "    Самый высокий процент не возвращенных кредитов у клиентов из группы Е (\"низкий доход\"). Но и выданных кредитов всего 22 штуки, что, в принципе, ожидаемо. Так как при низких доходов есть большие риски, что клиент будет своевременно выполнять свои обязательства.\n",
    "    При этом, было бы не лишним изучить данные показатели в разрезе сумм, которые были получены в кредит в соотношении к сумме среднего дохода каждой категории."
   ]
  },
  {
   "cell_type": "markdown",
   "id": "228ca0b4",
   "metadata": {},
   "source": [
    "<p>\n",
    "<div class=\"alert-info\">\n",
    "<b>Комментарий студента</b>\n",
    "\n",
    "**Вывод:** \n",
    "    <p>У клиентов из групп А и В (\"высокий доход\") процент не возвращенных кредитов колеблется между 7% и 8%. При этом в категории А всего 25 выданных кредитов и, как следствие, точно может быть не высокой. </p>\n",
    "    <p>Самый высокий процент не возвращенных кредитов у клиентов из группы Е (\"низкий доход\"). Но и выданных кредитов всего 22 штуки, что, в принципе, ожидаемо. Так как при низких доходов есть большие риски, что клиент будет своевременно выполнять свои обязательства.</p>\n",
    "    <p>При этом, было бы не лишним изучить данные показатели в разрезе сумм, которые были получены в кредит в соотношении к сумме среднего дохода каждой категории.</p></div>"
   ]
  },
  {
   "cell_type": "markdown",
   "id": "2ce0e9e4",
   "metadata": {},
   "source": [
    "<div class=\"alert-danger\">\n",
    "<b>Комментарий ревьюера ❌</b>\n",
    "\n",
    "Аналогично и тут нужно вывести сводную таблицу.</div>"
   ]
  },
  {
   "cell_type": "markdown",
   "id": "99ecbd1f",
   "metadata": {
    "deletable": false,
    "editable": false,
    "id": "99ecbd1f"
   },
   "source": [
    "**Задание 22. Как разные цели кредита влияют на его возврат в срок?**"
   ]
  },
  {
   "cell_type": "code",
   "execution_count": 27,
   "id": "2b687290",
   "metadata": {
    "id": "2b687290"
   },
   "outputs": [
    {
     "data": {
      "text/html": [
       "<div>\n",
       "<style scoped>\n",
       "    .dataframe tbody tr th:only-of-type {\n",
       "        vertical-align: middle;\n",
       "    }\n",
       "\n",
       "    .dataframe tbody tr th {\n",
       "        vertical-align: top;\n",
       "    }\n",
       "\n",
       "    .dataframe thead th {\n",
       "        text-align: right;\n",
       "    }\n",
       "</style>\n",
       "<table border=\"1\" class=\"dataframe\">\n",
       "  <thead>\n",
       "    <tr style=\"text-align: right;\">\n",
       "      <th></th>\n",
       "      <th>total_credits</th>\n",
       "      <th>debt_credits</th>\n",
       "      <th>ratio</th>\n",
       "    </tr>\n",
       "  </thead>\n",
       "  <tbody>\n",
       "    <tr>\n",
       "      <th>операции с недвижимостью</th>\n",
       "      <td>10754</td>\n",
       "      <td>780</td>\n",
       "      <td>0.072531</td>\n",
       "    </tr>\n",
       "    <tr>\n",
       "      <th>операции с автомобилем</th>\n",
       "      <td>4281</td>\n",
       "      <td>400</td>\n",
       "      <td>0.093436</td>\n",
       "    </tr>\n",
       "    <tr>\n",
       "      <th>получение образования</th>\n",
       "      <td>3989</td>\n",
       "      <td>369</td>\n",
       "      <td>0.092504</td>\n",
       "    </tr>\n",
       "    <tr>\n",
       "      <th>проведение свадьбы</th>\n",
       "      <td>2324</td>\n",
       "      <td>183</td>\n",
       "      <td>0.078744</td>\n",
       "    </tr>\n",
       "  </tbody>\n",
       "</table>\n",
       "</div>"
      ],
      "text/plain": [
       "                          total_credits  debt_credits     ratio\n",
       "операции с недвижимостью          10754           780  0.072531\n",
       "операции с автомобилем             4281           400  0.093436\n",
       "получение образования              3989           369  0.092504\n",
       "проведение свадьбы                 2324           183  0.078744"
      ]
     },
     "execution_count": 27,
     "metadata": {},
     "output_type": "execute_result"
    },
    {
     "data": {
      "image/png": "[encoded data removed]",
      "text/plain": [
       "<Figure size 432x288 with 2 Axes>"
      ]
     },
     "metadata": {
      "needs_background": "light"
     },
     "output_type": "display_data"
    }
   ],
   "source": [
    "# Ваш код будет здесь. Вы можете создавать новые ячейки.\n",
    "\n",
    "ratio_purpose_category = no_repayment_of_debt(data, 'purpose_category')\n",
    "\n",
    "seaborn.heatmap(pd.DataFrame(ratio_purpose_category['ratio'])) # выводим графическое отображение полученных данных\n",
    "ratio_purpose_category"
   ]
  },
  {
   "cell_type": "markdown",
   "id": "b4bb2ce6",
   "metadata": {
    "deletable": false,
    "id": "b4bb2ce6"
   },
   "source": [
    "**Вывод:** \n",
    "    Максимальный процент не возвращенных кредитов при покупке автомобилей и получении образования 9,2% - 9,3%.  \n",
    "    Самый маленький процент не возвращенных кредитов при операциях с недвижимостью 7,2%. При этом в этой категории выдана, практически, половина из всех выданных кредитов."
   ]
  },
  {
   "cell_type": "markdown",
   "id": "e756ce1b",
   "metadata": {},
   "source": [
    "<p>\n",
    "<div class=\"alert-info\">\n",
    "<b>Комментарий студента</b>\n",
    "\n",
    "**Вывод:** \n",
    "    <p>Максимальный процент не возвращенных кредитов при покупке автомобилей и получении образования 9,2% - 9,3%. </p>  \n",
    "    <p>Самый маленький процент не возвращенных кредитов при операциях с недвижимостью 7,2%. При этом в этой категории выдана, практически, половина из всех выданных кредитов.</p></div>"
   ]
  },
  {
   "cell_type": "markdown",
   "id": "0b389601",
   "metadata": {},
   "source": [
    "<div class=\"alert-danger\">\n",
    "<b>Комментарий ревьюера ❌</b>\n",
    "\n",
    "Круто, что сделал визуализации, на которых наглядно видно соотношение среднего процента просрочки по всем категориям, но мы не знаем сколько наблюдений в каждой категории - для этого нужно вывести сводную таблицу методами `pivot_table()` или `groupby()`</div>"
   ]
  },
  {
   "cell_type": "markdown",
   "id": "09c3ac4c",
   "metadata": {
    "deletable": false,
    "editable": false,
    "id": "09c3ac4c"
   },
   "source": [
    "**Задание 23. Приведите возможные причины появления пропусков в исходных данных.**"
   ]
  },
  {
   "cell_type": "markdown",
   "id": "9da2ceda",
   "metadata": {
    "deletable": false,
    "id": "9da2ceda"
   },
   "source": [
    "*Ответ:* Причины, по которым в исходных данных могут быть пропуски:\n",
    "1. Не заполнение анкетных данных клиентами.\n",
    "2. Не корректное заполнение анкетных данных.\n",
    "3. Ошибки при обработке информации.\n",
    "4. Попытки скрыть или искозить информацию."
   ]
  },
  {
   "cell_type": "markdown",
   "id": "8ec217be",
   "metadata": {},
   "source": [
    "<div class=\"alert-success\">\n",
    "<b>Комментарий ревьюера ✔️</b>\n",
    "\n",
    "Согласен, всегда ошибки в данных возникают по причине либо технического либо человеческого фактора.</div>"
   ]
  },
  {
   "cell_type": "markdown",
   "id": "7b0487d6",
   "metadata": {
    "deletable": false,
    "editable": false,
    "id": "7b0487d6"
   },
   "source": [
    "**Задание 24. Объясните, почему заполнить пропуски медианным значением — лучшее решение для количественных переменных.**"
   ]
  },
  {
   "cell_type": "markdown",
   "id": "7ecf2b8e",
   "metadata": {
    "deletable": false,
    "id": "7ecf2b8e"
   },
   "source": [
    "*Ответ:* При заполнениями пропущенных данных \"0\" есть большой риск получить отклонение от общей картины, так как на месте пропусков могли быть значимые величины. При заполнении данных средними арифмитическими, можно столкнуть с наличием в данных аномально больших или аномально маленьких показателей, которые так же могут значительно повлиять на конечный результат. Медианный значения позволяют минимизировать возможные отклонения от средних показателей и обеспечивают максимальную информативность."
   ]
  },
  {
   "cell_type": "markdown",
   "id": "a19ced75",
   "metadata": {},
   "source": [
    "<div class=\"alert-success\">\n",
    "<b>Комментарий ревьюера ✔️</b>\n",
    "\n",
    "Совершенно верно, медиана менее чувствительна к выбросам.</div>"
   ]
  },
  {
   "cell_type": "markdown",
   "id": "6db5255a",
   "metadata": {
    "deletable": false,
    "editable": false,
    "id": "6db5255a"
   },
   "source": [
    "## Общий вывод."
   ]
  },
  {
   "cell_type": "markdown",
   "id": "bad65432",
   "metadata": {
    "id": "bad65432"
   },
   "source": [
    "   <p> \"Портрет\" идеального клиента для банка: \n",
    "        <p>- без детей,</p>\n",
    "        <p>- женат / замужем,</p>\n",
    "        <p>- с доходом от 30000 до 50000,</p> \n",
    "        <p>- берет кредит для операций с недвизимостью. </p>\n",
    "    <p>Нужно не забывать, что в данном исследовании не анализировалась информация в разрезе суммы кредита, времени, на которое берется кредит и ряда других показателей, которые так же могли повлиять на портрет идеального клиента. </p>\n",
    "    <p>Так же, хотелось бы дополнительно отметить, что данные собирались по клиентам, которым банк уже выдал кредит, а значит они уже прошли какой-то анализ и соответствовали каким-то критериям. Возможно за рамками этого отбора остались категории клиентов, которые бы так же \"успешно\" выполняли свои кредитные обязательства) </p>"
   ]
  },
  {
   "cell_type": "markdown",
   "id": "17505df9",
   "metadata": {},
   "source": [
    "<div class=\"alert-warning\">\n",
    "<b>Комментарий ревьюера ⚠️</b>\n",
    "\n",
    "В целом, хороший вывод. Я бы добавил в него немного структуры в соответствии с шагами задания.\n",
    "\n",
    "Вот ссылочка, которая поможет с форматированием текства в ячейке Markdown\n",
    "\n",
    "https://medium.com/analytics-vidhya/the-ultimate-markdown-guide-for-jupyter-notebook-d5e5abf728fd\n",
    "\n",
    "Отдельные пункты возможно придется скорректировать, после того как ты выведешь сводные таблицы.</div>"
   ]
  },
  {
   "cell_type": "markdown",
   "id": "83c807ad",
   "metadata": {},
   "source": [
    "<div style=\"border:solid lightblue 3px; padding: 20px\">\n",
    "<b>Общий комментарий ревьюера:</b>\n",
    "\n",
    "Ты проделал большую работу, но нужно кое-что исправить, чтобы я ее принял.\n",
    "    \n",
    "Основное критическое замечаиние - отсутствуют сводные таблицы с количеством клиентов в каждой категории. Это нужно для того чтобы понять, достаточно ли наблюдений в той или иной категории для включения в вывод и ответа на вопросы.\n",
    "    \n",
    "Также, постарайся учесть желтые комментарии.\n",
    "    \n",
    "Буду ждать твой доработанный проект.</div>"
   ]
  },
  {
   "cell_type": "markdown",
   "id": "b8d46593",
   "metadata": {},
   "source": [
    "<p>\n",
    "<div class=\"alert-info\">\n",
    "<b>Комментарий студента</b>\n",
    "\n",
    "Постарался максимально исправить все недостатки. Вывод таблиц тоже реализовал через функцию. Подредактировал выводы, как по смыслу, так и оформлению.</div>"
   ]
  },
  {
   "cell_type": "code",
   "execution_count": null,
   "id": "d79f9b34",
   "metadata": {},
   "outputs": [],
   "source": []
  }
 ],
 "metadata": {
  "ExecuteTimeLog": [
   {
    "duration": 526,
    "start_time": "2022-06-07T19:44:38.723Z"
   },
   {
    "duration": 25,
    "start_time": "2022-06-07T19:44:45.292Z"
   },
   {
    "duration": 25,
    "start_time": "2022-06-07T19:44:56.464Z"
   },
   {
    "duration": 12,
    "start_time": "2022-06-07T19:45:02.073Z"
   },
   {
    "duration": 15,
    "start_time": "2022-06-07T19:49:11.650Z"
   },
   {
    "duration": 14,
    "start_time": "2022-06-07T19:49:15.361Z"
   },
   {
    "duration": 52,
    "start_time": "2022-06-07T19:49:16.459Z"
   },
   {
    "duration": 4,
    "start_time": "2022-06-07T19:49:18.010Z"
   },
   {
    "duration": 9,
    "start_time": "2022-06-07T19:49:19.022Z"
   },
   {
    "duration": 4,
    "start_time": "2022-06-07T19:49:20.752Z"
   },
   {
    "duration": 38,
    "start_time": "2022-06-07T19:49:21.713Z"
   },
   {
    "duration": 5,
    "start_time": "2022-06-07T19:49:22.648Z"
   },
   {
    "duration": 48,
    "start_time": "2022-06-07T19:49:23.948Z"
   },
   {
    "duration": 13,
    "start_time": "2022-06-07T19:49:24.769Z"
   },
   {
    "duration": 4,
    "start_time": "2022-06-07T19:49:27.373Z"
   },
   {
    "duration": 17,
    "start_time": "2022-06-07T19:49:28.782Z"
   },
   {
    "duration": 16,
    "start_time": "2022-06-07T19:49:29.593Z"
   },
   {
    "duration": 17,
    "start_time": "2022-06-07T19:49:30.625Z"
   },
   {
    "duration": 3,
    "start_time": "2022-06-07T19:49:32.496Z"
   },
   {
    "duration": 9,
    "start_time": "2022-06-07T19:49:33.387Z"
   },
   {
    "duration": 6,
    "start_time": "2022-06-07T19:49:35.280Z"
   },
   {
    "duration": 4,
    "start_time": "2022-06-07T19:49:39.101Z"
   },
   {
    "duration": 8,
    "start_time": "2022-06-07T19:49:39.854Z"
   },
   {
    "duration": 5,
    "start_time": "2022-06-07T19:56:40.609Z"
   },
   {
    "duration": 5,
    "start_time": "2022-06-07T20:00:37.805Z"
   },
   {
    "duration": 87,
    "start_time": "2022-06-07T20:04:23.122Z"
   },
   {
    "duration": 15,
    "start_time": "2022-06-07T20:04:32.750Z"
   },
   {
    "duration": 10,
    "start_time": "2022-06-07T20:07:20.563Z"
   },
   {
    "duration": 14,
    "start_time": "2022-06-07T20:07:37.146Z"
   },
   {
    "duration": 8,
    "start_time": "2022-06-07T20:08:07.577Z"
   },
   {
    "duration": 42,
    "start_time": "2022-06-07T20:09:18.555Z"
   },
   {
    "duration": 4,
    "start_time": "2022-06-07T20:09:32.918Z"
   },
   {
    "duration": 20,
    "start_time": "2022-06-07T20:11:13.119Z"
   },
   {
    "duration": 7,
    "start_time": "2022-06-07T20:11:59.153Z"
   },
   {
    "duration": 7,
    "start_time": "2022-06-07T20:12:41.398Z"
   },
   {
    "duration": 13,
    "start_time": "2022-06-07T20:15:15.258Z"
   },
   {
    "duration": 7,
    "start_time": "2022-06-07T20:16:06.671Z"
   },
   {
    "duration": 14,
    "start_time": "2022-06-07T20:19:36.417Z"
   },
   {
    "duration": 5,
    "start_time": "2022-06-07T20:20:23.996Z"
   },
   {
    "duration": 4,
    "start_time": "2022-06-07T20:20:57.775Z"
   },
   {
    "duration": 16,
    "start_time": "2022-06-07T20:24:54.647Z"
   },
   {
    "duration": 927,
    "start_time": "2022-06-07T20:27:47.349Z"
   },
   {
    "duration": 417,
    "start_time": "2022-06-07T20:31:27.884Z"
   },
   {
    "duration": 11,
    "start_time": "2022-06-07T20:35:27.087Z"
   },
   {
    "duration": 217,
    "start_time": "2022-06-07T20:35:29.461Z"
   },
   {
    "duration": 4,
    "start_time": "2022-06-07T20:38:03.210Z"
   },
   {
    "duration": 695,
    "start_time": "2022-06-08T03:48:09.351Z"
   },
   {
    "duration": 22,
    "start_time": "2022-06-08T03:48:10.048Z"
   },
   {
    "duration": 15,
    "start_time": "2022-06-08T03:48:10.072Z"
   },
   {
    "duration": 9,
    "start_time": "2022-06-08T03:48:10.089Z"
   },
   {
    "duration": 40,
    "start_time": "2022-06-08T03:48:10.100Z"
   },
   {
    "duration": 18,
    "start_time": "2022-06-08T03:48:10.142Z"
   },
   {
    "duration": 10,
    "start_time": "2022-06-08T03:48:10.162Z"
   },
   {
    "duration": 5,
    "start_time": "2022-06-08T03:48:10.174Z"
   },
   {
    "duration": 8,
    "start_time": "2022-06-08T03:48:10.180Z"
   },
   {
    "duration": 4,
    "start_time": "2022-06-08T03:48:10.191Z"
   },
   {
    "duration": 70,
    "start_time": "2022-06-08T03:48:10.196Z"
   },
   {
    "duration": 10,
    "start_time": "2022-06-08T03:48:10.268Z"
   },
   {
    "duration": 4,
    "start_time": "2022-06-08T03:48:10.280Z"
   },
   {
    "duration": 18,
    "start_time": "2022-06-08T03:48:10.286Z"
   },
   {
    "duration": 17,
    "start_time": "2022-06-08T03:48:10.305Z"
   },
   {
    "duration": 39,
    "start_time": "2022-06-08T03:48:10.324Z"
   },
   {
    "duration": 5,
    "start_time": "2022-06-08T03:48:10.365Z"
   },
   {
    "duration": 12,
    "start_time": "2022-06-08T03:48:10.371Z"
   },
   {
    "duration": 8,
    "start_time": "2022-06-08T03:48:10.385Z"
   },
   {
    "duration": 5,
    "start_time": "2022-06-08T03:48:10.395Z"
   },
   {
    "duration": 15,
    "start_time": "2022-06-08T03:48:10.401Z"
   },
   {
    "duration": 14,
    "start_time": "2022-06-08T03:48:10.418Z"
   },
   {
    "duration": 1291,
    "start_time": "2022-06-08T03:48:10.433Z"
   },
   {
    "duration": 4,
    "start_time": "2022-06-08T03:48:11.725Z"
   },
   {
    "duration": 10,
    "start_time": "2022-06-08T03:48:11.730Z"
   },
   {
    "duration": 5,
    "start_time": "2022-06-08T03:48:11.741Z"
   },
   {
    "duration": 11,
    "start_time": "2022-06-08T03:48:11.748Z"
   },
   {
    "duration": 19,
    "start_time": "2022-06-08T03:50:16.500Z"
   },
   {
    "duration": 24,
    "start_time": "2022-06-08T03:50:56.037Z"
   },
   {
    "duration": 5,
    "start_time": "2022-06-08T03:51:04.381Z"
   },
   {
    "duration": 6,
    "start_time": "2022-06-08T03:52:03.264Z"
   },
   {
    "duration": 106,
    "start_time": "2022-06-08T03:52:47.456Z"
   },
   {
    "duration": 5,
    "start_time": "2022-06-08T03:53:08.226Z"
   },
   {
    "duration": 25,
    "start_time": "2022-06-08T03:53:55.265Z"
   },
   {
    "duration": 16,
    "start_time": "2022-06-08T03:54:15.877Z"
   },
   {
    "duration": 10,
    "start_time": "2022-06-08T03:57:33.233Z"
   },
   {
    "duration": 9,
    "start_time": "2022-06-08T04:00:57.699Z"
   },
   {
    "duration": 8,
    "start_time": "2022-06-08T04:04:07.037Z"
   },
   {
    "duration": 203,
    "start_time": "2022-06-08T04:06:52.505Z"
   },
   {
    "duration": 11,
    "start_time": "2022-06-08T04:09:02.448Z"
   },
   {
    "duration": 15,
    "start_time": "2022-06-08T04:10:42.488Z"
   },
   {
    "duration": 11,
    "start_time": "2022-06-08T04:10:59.169Z"
   },
   {
    "duration": 12,
    "start_time": "2022-06-08T04:11:20.560Z"
   },
   {
    "duration": 16,
    "start_time": "2022-06-08T04:11:34.465Z"
   },
   {
    "duration": 14,
    "start_time": "2022-06-08T04:11:48.101Z"
   },
   {
    "duration": 14,
    "start_time": "2022-06-08T04:12:12.127Z"
   },
   {
    "duration": 13,
    "start_time": "2022-06-08T04:15:21.372Z"
   },
   {
    "duration": 8,
    "start_time": "2022-06-08T04:15:31.450Z"
   },
   {
    "duration": 9,
    "start_time": "2022-06-08T04:15:52.311Z"
   },
   {
    "duration": 6,
    "start_time": "2022-06-08T04:16:02.119Z"
   },
   {
    "duration": 11,
    "start_time": "2022-06-08T04:16:12.989Z"
   },
   {
    "duration": 11,
    "start_time": "2022-06-08T04:19:17.760Z"
   },
   {
    "duration": 8,
    "start_time": "2022-06-08T04:20:28.013Z"
   },
   {
    "duration": 320,
    "start_time": "2022-06-08T04:22:31.253Z"
   },
   {
    "duration": 12,
    "start_time": "2022-06-08T04:22:42.889Z"
   },
   {
    "duration": 48,
    "start_time": "2022-06-08T18:11:52.344Z"
   },
   {
    "duration": 7,
    "start_time": "2022-06-08T18:13:26.305Z"
   },
   {
    "duration": 7,
    "start_time": "2022-06-08T18:15:03.523Z"
   },
   {
    "duration": 7,
    "start_time": "2022-06-08T18:15:21.415Z"
   },
   {
    "duration": 1247,
    "start_time": "2022-06-08T18:15:41.501Z"
   },
   {
    "duration": 529,
    "start_time": "2022-06-08T18:15:52.943Z"
   },
   {
    "duration": 21,
    "start_time": "2022-06-08T18:15:53.474Z"
   },
   {
    "duration": 15,
    "start_time": "2022-06-08T18:15:53.496Z"
   },
   {
    "duration": 10,
    "start_time": "2022-06-08T18:15:53.512Z"
   },
   {
    "duration": 42,
    "start_time": "2022-06-08T18:15:53.524Z"
   },
   {
    "duration": 3,
    "start_time": "2022-06-08T18:15:53.567Z"
   },
   {
    "duration": 12,
    "start_time": "2022-06-08T18:15:53.571Z"
   },
   {
    "duration": 4,
    "start_time": "2022-06-08T18:15:53.584Z"
   },
   {
    "duration": 5,
    "start_time": "2022-06-08T18:15:53.590Z"
   },
   {
    "duration": 5,
    "start_time": "2022-06-08T18:15:53.597Z"
   },
   {
    "duration": 53,
    "start_time": "2022-06-08T18:15:53.603Z"
   },
   {
    "duration": 10,
    "start_time": "2022-06-08T18:15:53.657Z"
   },
   {
    "duration": 3,
    "start_time": "2022-06-08T18:15:53.668Z"
   },
   {
    "duration": 18,
    "start_time": "2022-06-08T18:15:53.674Z"
   },
   {
    "duration": 19,
    "start_time": "2022-06-08T18:15:53.694Z"
   },
   {
    "duration": 38,
    "start_time": "2022-06-08T18:15:53.715Z"
   },
   {
    "duration": 3,
    "start_time": "2022-06-08T18:15:53.755Z"
   },
   {
    "duration": 12,
    "start_time": "2022-06-08T18:15:53.760Z"
   },
   {
    "duration": 5,
    "start_time": "2022-06-08T18:15:53.773Z"
   },
   {
    "duration": 4,
    "start_time": "2022-06-08T18:15:53.780Z"
   },
   {
    "duration": 10,
    "start_time": "2022-06-08T18:15:53.785Z"
   },
   {
    "duration": 11,
    "start_time": "2022-06-08T18:15:53.797Z"
   },
   {
    "duration": 717,
    "start_time": "2022-06-08T18:15:53.809Z"
   },
   {
    "duration": 0,
    "start_time": "2022-06-08T18:15:54.527Z"
   },
   {
    "duration": 0,
    "start_time": "2022-06-08T18:15:54.529Z"
   },
   {
    "duration": 0,
    "start_time": "2022-06-08T18:15:54.529Z"
   },
   {
    "duration": 0,
    "start_time": "2022-06-08T18:15:54.531Z"
   },
   {
    "duration": 14,
    "start_time": "2022-06-08T18:23:40.958Z"
   },
   {
    "duration": 123,
    "start_time": "2022-06-08T18:23:53.750Z"
   },
   {
    "duration": 283,
    "start_time": "2022-06-08T18:26:08.772Z"
   },
   {
    "duration": 248,
    "start_time": "2022-06-08T18:26:23.270Z"
   },
   {
    "duration": 280,
    "start_time": "2022-06-08T18:26:48.805Z"
   },
   {
    "duration": 265,
    "start_time": "2022-06-08T18:28:00.882Z"
   },
   {
    "duration": 304,
    "start_time": "2022-06-08T18:28:10.557Z"
   },
   {
    "duration": 262,
    "start_time": "2022-06-08T18:28:53.744Z"
   },
   {
    "duration": 187,
    "start_time": "2022-06-08T18:43:18.314Z"
   },
   {
    "duration": 97,
    "start_time": "2022-06-08T18:45:59.257Z"
   },
   {
    "duration": 38,
    "start_time": "2022-06-08T18:50:50.986Z"
   },
   {
    "duration": 26,
    "start_time": "2022-06-08T18:51:19.830Z"
   },
   {
    "duration": 54,
    "start_time": "2022-06-08T18:51:31.810Z"
   },
   {
    "duration": 29,
    "start_time": "2022-06-08T18:52:03.726Z"
   },
   {
    "duration": 31,
    "start_time": "2022-06-08T18:52:09.206Z"
   },
   {
    "duration": 11,
    "start_time": "2022-06-08T18:57:18.231Z"
   },
   {
    "duration": 15,
    "start_time": "2022-06-08T18:57:39.207Z"
   },
   {
    "duration": 20,
    "start_time": "2022-06-08T18:57:59.986Z"
   },
   {
    "duration": 15,
    "start_time": "2022-06-08T18:58:08.726Z"
   },
   {
    "duration": 9,
    "start_time": "2022-06-08T18:58:33.313Z"
   },
   {
    "duration": 20,
    "start_time": "2022-06-08T18:58:52.301Z"
   },
   {
    "duration": 18,
    "start_time": "2022-06-08T19:01:42.924Z"
   },
   {
    "duration": 8,
    "start_time": "2022-06-08T19:02:04.612Z"
   },
   {
    "duration": 10,
    "start_time": "2022-06-08T19:02:25.557Z"
   },
   {
    "duration": 18,
    "start_time": "2022-06-08T19:02:50.556Z"
   },
   {
    "duration": 18,
    "start_time": "2022-06-08T19:04:59.479Z"
   },
   {
    "duration": 13,
    "start_time": "2022-06-08T19:05:36.687Z"
   },
   {
    "duration": 10,
    "start_time": "2022-06-08T19:08:26.765Z"
   },
   {
    "duration": 10,
    "start_time": "2022-06-08T19:08:58.723Z"
   },
   {
    "duration": 202,
    "start_time": "2022-06-08T19:09:05.801Z"
   },
   {
    "duration": 4,
    "start_time": "2022-06-08T19:09:22.373Z"
   },
   {
    "duration": 11,
    "start_time": "2022-06-08T19:11:37.863Z"
   },
   {
    "duration": 284,
    "start_time": "2022-06-08T19:11:54.520Z"
   },
   {
    "duration": 13,
    "start_time": "2022-06-08T19:14:20.053Z"
   },
   {
    "duration": 381,
    "start_time": "2022-06-08T19:15:15.422Z"
   },
   {
    "duration": 350,
    "start_time": "2022-06-08T19:55:39.116Z"
   },
   {
    "duration": 17,
    "start_time": "2022-06-08T19:56:36.875Z"
   },
   {
    "duration": 13,
    "start_time": "2022-06-08T19:58:06.863Z"
   },
   {
    "duration": 455,
    "start_time": "2022-06-08T19:58:16.764Z"
   },
   {
    "duration": 22,
    "start_time": "2022-06-08T19:58:17.221Z"
   },
   {
    "duration": 46,
    "start_time": "2022-06-08T19:58:17.245Z"
   },
   {
    "duration": 30,
    "start_time": "2022-06-08T19:58:17.292Z"
   },
   {
    "duration": 44,
    "start_time": "2022-06-08T19:58:17.324Z"
   },
   {
    "duration": 6,
    "start_time": "2022-06-08T19:58:17.369Z"
   },
   {
    "duration": 28,
    "start_time": "2022-06-08T19:58:17.377Z"
   },
   {
    "duration": 7,
    "start_time": "2022-06-08T19:58:17.407Z"
   },
   {
    "duration": 9,
    "start_time": "2022-06-08T19:58:17.415Z"
   },
   {
    "duration": 6,
    "start_time": "2022-06-08T19:58:17.426Z"
   },
   {
    "duration": 41,
    "start_time": "2022-06-08T19:58:17.433Z"
   },
   {
    "duration": 8,
    "start_time": "2022-06-08T19:58:17.476Z"
   },
   {
    "duration": 8,
    "start_time": "2022-06-08T19:58:17.486Z"
   },
   {
    "duration": 26,
    "start_time": "2022-06-08T19:58:17.496Z"
   },
   {
    "duration": 15,
    "start_time": "2022-06-08T19:58:17.523Z"
   },
   {
    "duration": 12,
    "start_time": "2022-06-08T19:58:17.540Z"
   },
   {
    "duration": 19,
    "start_time": "2022-06-08T19:58:17.554Z"
   },
   {
    "duration": 15,
    "start_time": "2022-06-08T19:58:17.574Z"
   },
   {
    "duration": 5,
    "start_time": "2022-06-08T19:58:17.590Z"
   },
   {
    "duration": 6,
    "start_time": "2022-06-08T19:58:17.596Z"
   },
   {
    "duration": 13,
    "start_time": "2022-06-08T19:58:17.603Z"
   },
   {
    "duration": 14,
    "start_time": "2022-06-08T19:58:17.617Z"
   },
   {
    "duration": 811,
    "start_time": "2022-06-08T19:58:17.633Z"
   },
   {
    "duration": 0,
    "start_time": "2022-06-08T19:58:18.446Z"
   },
   {
    "duration": 0,
    "start_time": "2022-06-08T19:58:18.448Z"
   },
   {
    "duration": 0,
    "start_time": "2022-06-08T19:58:18.449Z"
   },
   {
    "duration": 0,
    "start_time": "2022-06-08T19:58:18.449Z"
   },
   {
    "duration": 746,
    "start_time": "2022-06-09T03:49:39.053Z"
   },
   {
    "duration": 32,
    "start_time": "2022-06-09T03:49:39.801Z"
   },
   {
    "duration": 25,
    "start_time": "2022-06-09T03:49:39.836Z"
   },
   {
    "duration": 18,
    "start_time": "2022-06-09T03:49:39.866Z"
   },
   {
    "duration": 37,
    "start_time": "2022-06-09T03:49:39.887Z"
   },
   {
    "duration": 4,
    "start_time": "2022-06-09T03:49:39.926Z"
   },
   {
    "duration": 41,
    "start_time": "2022-06-09T03:49:39.931Z"
   },
   {
    "duration": 20,
    "start_time": "2022-06-09T03:49:39.975Z"
   },
   {
    "duration": 17,
    "start_time": "2022-06-09T03:49:39.998Z"
   },
   {
    "duration": 12,
    "start_time": "2022-06-09T03:49:40.019Z"
   },
   {
    "duration": 66,
    "start_time": "2022-06-09T03:49:40.034Z"
   },
   {
    "duration": 11,
    "start_time": "2022-06-09T03:49:40.102Z"
   },
   {
    "duration": 13,
    "start_time": "2022-06-09T03:49:40.115Z"
   },
   {
    "duration": 43,
    "start_time": "2022-06-09T03:49:40.129Z"
   },
   {
    "duration": 20,
    "start_time": "2022-06-09T03:49:40.173Z"
   },
   {
    "duration": 12,
    "start_time": "2022-06-09T03:49:40.194Z"
   },
   {
    "duration": 7,
    "start_time": "2022-06-09T03:49:40.207Z"
   },
   {
    "duration": 17,
    "start_time": "2022-06-09T03:49:40.215Z"
   },
   {
    "duration": 32,
    "start_time": "2022-06-09T03:49:40.234Z"
   },
   {
    "duration": 5,
    "start_time": "2022-06-09T03:49:40.268Z"
   },
   {
    "duration": 14,
    "start_time": "2022-06-09T03:49:40.275Z"
   },
   {
    "duration": 20,
    "start_time": "2022-06-09T03:49:40.291Z"
   },
   {
    "duration": 1041,
    "start_time": "2022-06-09T03:49:40.312Z"
   },
   {
    "duration": 0,
    "start_time": "2022-06-09T03:49:41.355Z"
   },
   {
    "duration": 0,
    "start_time": "2022-06-09T03:49:41.357Z"
   },
   {
    "duration": 0,
    "start_time": "2022-06-09T03:49:41.358Z"
   },
   {
    "duration": 0,
    "start_time": "2022-06-09T03:49:41.364Z"
   },
   {
    "duration": 11,
    "start_time": "2022-06-09T03:53:19.815Z"
   },
   {
    "duration": 13,
    "start_time": "2022-06-09T03:53:23.005Z"
   },
   {
    "duration": 13,
    "start_time": "2022-06-09T03:55:02.863Z"
   },
   {
    "duration": 12,
    "start_time": "2022-06-09T03:55:06.317Z"
   },
   {
    "duration": 376,
    "start_time": "2022-06-09T03:55:29.956Z"
   },
   {
    "duration": 255,
    "start_time": "2022-06-09T04:02:42.398Z"
   },
   {
    "duration": 302,
    "start_time": "2022-06-09T04:04:07.819Z"
   },
   {
    "duration": 257,
    "start_time": "2022-06-09T04:10:40.859Z"
   },
   {
    "duration": 136,
    "start_time": "2022-06-09T04:16:51.768Z"
   },
   {
    "duration": 495,
    "start_time": "2022-06-09T16:16:01.515Z"
   },
   {
    "duration": 25,
    "start_time": "2022-06-09T16:16:02.012Z"
   },
   {
    "duration": 21,
    "start_time": "2022-06-09T16:16:02.038Z"
   },
   {
    "duration": 12,
    "start_time": "2022-06-09T16:16:02.061Z"
   },
   {
    "duration": 35,
    "start_time": "2022-06-09T16:16:02.074Z"
   },
   {
    "duration": 3,
    "start_time": "2022-06-09T16:16:02.111Z"
   },
   {
    "duration": 11,
    "start_time": "2022-06-09T16:16:02.115Z"
   },
   {
    "duration": 4,
    "start_time": "2022-06-09T16:16:02.127Z"
   },
   {
    "duration": 13,
    "start_time": "2022-06-09T16:16:02.133Z"
   },
   {
    "duration": 3,
    "start_time": "2022-06-09T16:16:02.149Z"
   },
   {
    "duration": 53,
    "start_time": "2022-06-09T16:16:02.155Z"
   },
   {
    "duration": 8,
    "start_time": "2022-06-09T16:16:02.210Z"
   },
   {
    "duration": 5,
    "start_time": "2022-06-09T16:16:02.220Z"
   },
   {
    "duration": 22,
    "start_time": "2022-06-09T16:16:02.227Z"
   },
   {
    "duration": 15,
    "start_time": "2022-06-09T16:16:02.250Z"
   },
   {
    "duration": 30,
    "start_time": "2022-06-09T16:16:02.266Z"
   },
   {
    "duration": 15,
    "start_time": "2022-06-09T16:16:02.297Z"
   },
   {
    "duration": 18,
    "start_time": "2022-06-09T16:16:02.313Z"
   },
   {
    "duration": 14,
    "start_time": "2022-06-09T16:16:02.332Z"
   },
   {
    "duration": 6,
    "start_time": "2022-06-09T16:16:02.348Z"
   },
   {
    "duration": 15,
    "start_time": "2022-06-09T16:16:02.355Z"
   },
   {
    "duration": 18,
    "start_time": "2022-06-09T16:16:02.372Z"
   },
   {
    "duration": 1076,
    "start_time": "2022-06-09T16:16:02.391Z"
   },
   {
    "duration": 296,
    "start_time": "2022-06-09T16:16:03.469Z"
   },
   {
    "duration": 263,
    "start_time": "2022-06-09T16:16:03.766Z"
   },
   {
    "duration": 127,
    "start_time": "2022-06-09T16:16:04.030Z"
   },
   {
    "duration": 917,
    "start_time": "2022-06-09T17:11:43.986Z"
   },
   {
    "duration": 33,
    "start_time": "2022-06-09T17:11:44.906Z"
   },
   {
    "duration": 18,
    "start_time": "2022-06-09T17:11:44.941Z"
   },
   {
    "duration": 20,
    "start_time": "2022-06-09T17:11:44.960Z"
   },
   {
    "duration": 82,
    "start_time": "2022-06-09T17:11:44.983Z"
   },
   {
    "duration": 6,
    "start_time": "2022-06-09T17:11:45.067Z"
   },
   {
    "duration": 53,
    "start_time": "2022-06-09T17:11:45.077Z"
   },
   {
    "duration": 7,
    "start_time": "2022-06-09T17:11:45.133Z"
   },
   {
    "duration": 14,
    "start_time": "2022-06-09T17:11:45.142Z"
   },
   {
    "duration": 34,
    "start_time": "2022-06-09T17:11:45.158Z"
   },
   {
    "duration": 58,
    "start_time": "2022-06-09T17:11:45.193Z"
   },
   {
    "duration": 9,
    "start_time": "2022-06-09T17:11:45.253Z"
   },
   {
    "duration": 31,
    "start_time": "2022-06-09T17:11:45.271Z"
   },
   {
    "duration": 30,
    "start_time": "2022-06-09T17:11:45.306Z"
   },
   {
    "duration": 24,
    "start_time": "2022-06-09T17:11:45.339Z"
   },
   {
    "duration": 35,
    "start_time": "2022-06-09T17:11:45.370Z"
   },
   {
    "duration": 20,
    "start_time": "2022-06-09T17:11:45.407Z"
   },
   {
    "duration": 13,
    "start_time": "2022-06-09T17:11:45.429Z"
   },
   {
    "duration": 6,
    "start_time": "2022-06-09T17:11:45.444Z"
   },
   {
    "duration": 3,
    "start_time": "2022-06-09T17:11:45.452Z"
   },
   {
    "duration": 20,
    "start_time": "2022-06-09T17:11:45.457Z"
   },
   {
    "duration": 53,
    "start_time": "2022-06-09T17:11:45.478Z"
   },
   {
    "duration": 1355,
    "start_time": "2022-06-09T17:11:45.532Z"
   },
   {
    "duration": 311,
    "start_time": "2022-06-09T17:11:46.891Z"
   },
   {
    "duration": 298,
    "start_time": "2022-06-09T17:11:47.209Z"
   },
   {
    "duration": 149,
    "start_time": "2022-06-09T17:11:47.509Z"
   },
   {
    "duration": 137,
    "start_time": "2022-06-09T17:24:38.501Z"
   },
   {
    "duration": 16,
    "start_time": "2022-06-09T17:25:08.588Z"
   },
   {
    "duration": 14,
    "start_time": "2022-06-09T17:25:50.391Z"
   },
   {
    "duration": 33,
    "start_time": "2022-06-09T17:27:18.699Z"
   },
   {
    "duration": 24,
    "start_time": "2022-06-09T17:27:28.963Z"
   },
   {
    "duration": 8,
    "start_time": "2022-06-09T17:27:36.192Z"
   },
   {
    "duration": 20,
    "start_time": "2022-06-09T17:40:13.140Z"
   },
   {
    "duration": 9,
    "start_time": "2022-06-09T17:43:48.482Z"
   },
   {
    "duration": 29,
    "start_time": "2022-06-09T17:44:02.235Z"
   },
   {
    "duration": 32,
    "start_time": "2022-06-09T17:44:49.877Z"
   },
   {
    "duration": 44,
    "start_time": "2022-06-09T17:47:18.940Z"
   },
   {
    "duration": 31,
    "start_time": "2022-06-09T17:54:42.654Z"
   },
   {
    "duration": 20,
    "start_time": "2022-06-09T18:02:27.088Z"
   },
   {
    "duration": 24,
    "start_time": "2022-06-09T18:04:10.591Z"
   },
   {
    "duration": 25,
    "start_time": "2022-06-09T18:04:43.999Z"
   },
   {
    "duration": 16,
    "start_time": "2022-06-09T18:08:54.843Z"
   },
   {
    "duration": 47,
    "start_time": "2022-06-09T18:11:25.146Z"
   },
   {
    "duration": 19,
    "start_time": "2022-06-09T18:11:33.202Z"
   },
   {
    "duration": 53,
    "start_time": "2022-06-09T18:14:31.808Z"
   },
   {
    "duration": 46,
    "start_time": "2022-06-09T18:14:48.052Z"
   },
   {
    "duration": 49,
    "start_time": "2022-06-09T18:16:01.952Z"
   },
   {
    "duration": 33,
    "start_time": "2022-06-09T18:16:39.551Z"
   },
   {
    "duration": 29,
    "start_time": "2022-06-09T18:16:59.532Z"
   },
   {
    "duration": 72,
    "start_time": "2022-06-09T18:18:05.778Z"
   },
   {
    "duration": 35,
    "start_time": "2022-06-09T18:18:44.806Z"
   },
   {
    "duration": 46,
    "start_time": "2022-06-09T18:23:14.804Z"
   },
   {
    "duration": 27,
    "start_time": "2022-06-09T18:25:10.286Z"
   },
   {
    "duration": 672,
    "start_time": "2022-06-09T18:26:37.155Z"
   },
   {
    "duration": 380,
    "start_time": "2022-06-09T18:29:36.192Z"
   },
   {
    "duration": 26,
    "start_time": "2022-06-09T18:30:30.745Z"
   },
   {
    "duration": 17,
    "start_time": "2022-06-09T18:31:32.883Z"
   },
   {
    "duration": 3685,
    "start_time": "2022-06-09T18:32:29.488Z"
   },
   {
    "duration": 40,
    "start_time": "2022-06-09T18:33:08.096Z"
   },
   {
    "duration": 44,
    "start_time": "2022-06-09T18:34:21.129Z"
   },
   {
    "duration": 41,
    "start_time": "2022-06-09T18:36:59.915Z"
   },
   {
    "duration": 43,
    "start_time": "2022-06-09T18:37:14.710Z"
   },
   {
    "duration": 1594,
    "start_time": "2022-06-09T18:37:29.258Z"
   },
   {
    "duration": 504,
    "start_time": "2022-06-09T18:39:05.962Z"
   },
   {
    "duration": 20,
    "start_time": "2022-06-09T18:59:06.821Z"
   },
   {
    "duration": 18,
    "start_time": "2022-06-09T19:01:31.442Z"
   },
   {
    "duration": 371,
    "start_time": "2022-06-09T19:08:39.887Z"
   },
   {
    "duration": 390,
    "start_time": "2022-06-09T19:15:17.070Z"
   },
   {
    "duration": 631,
    "start_time": "2022-06-09T19:20:30.460Z"
   },
   {
    "duration": 39,
    "start_time": "2022-06-09T19:20:31.093Z"
   },
   {
    "duration": 35,
    "start_time": "2022-06-09T19:20:31.137Z"
   },
   {
    "duration": 50,
    "start_time": "2022-06-09T19:20:31.178Z"
   },
   {
    "duration": 131,
    "start_time": "2022-06-09T19:20:31.231Z"
   },
   {
    "duration": 11,
    "start_time": "2022-06-09T19:20:31.364Z"
   },
   {
    "duration": 66,
    "start_time": "2022-06-09T19:20:31.377Z"
   },
   {
    "duration": 15,
    "start_time": "2022-06-09T19:20:31.445Z"
   },
   {
    "duration": 45,
    "start_time": "2022-06-09T19:20:31.461Z"
   },
   {
    "duration": 31,
    "start_time": "2022-06-09T19:20:31.515Z"
   },
   {
    "duration": 88,
    "start_time": "2022-06-09T19:20:31.548Z"
   },
   {
    "duration": 18,
    "start_time": "2022-06-09T19:20:31.637Z"
   },
   {
    "duration": 77,
    "start_time": "2022-06-09T19:20:31.657Z"
   },
   {
    "duration": 41,
    "start_time": "2022-06-09T19:20:31.736Z"
   },
   {
    "duration": 30,
    "start_time": "2022-06-09T19:20:31.781Z"
   },
   {
    "duration": 28,
    "start_time": "2022-06-09T19:20:31.818Z"
   },
   {
    "duration": 7,
    "start_time": "2022-06-09T19:20:31.849Z"
   },
   {
    "duration": 80,
    "start_time": "2022-06-09T19:20:31.858Z"
   },
   {
    "duration": 14,
    "start_time": "2022-06-09T19:20:31.939Z"
   },
   {
    "duration": 5,
    "start_time": "2022-06-09T19:20:31.954Z"
   },
   {
    "duration": 97,
    "start_time": "2022-06-09T19:20:31.961Z"
   },
   {
    "duration": 72,
    "start_time": "2022-06-09T19:20:32.060Z"
   },
   {
    "duration": 1146,
    "start_time": "2022-06-09T19:20:32.134Z"
   },
   {
    "duration": 341,
    "start_time": "2022-06-09T19:20:33.282Z"
   },
   {
    "duration": 342,
    "start_time": "2022-06-09T19:20:33.632Z"
   },
   {
    "duration": 171,
    "start_time": "2022-06-09T19:20:33.988Z"
   },
   {
    "duration": 24,
    "start_time": "2022-06-09T19:23:20.426Z"
   },
   {
    "duration": 22,
    "start_time": "2022-06-09T19:23:40.561Z"
   },
   {
    "duration": 332,
    "start_time": "2022-06-09T19:23:41.392Z"
   },
   {
    "duration": 344,
    "start_time": "2022-06-09T19:23:45.714Z"
   },
   {
    "duration": 299,
    "start_time": "2022-06-09T19:23:50.265Z"
   },
   {
    "duration": 48,
    "start_time": "2022-06-09T19:23:55.240Z"
   },
   {
    "duration": 365,
    "start_time": "2022-06-09T19:25:10.824Z"
   },
   {
    "duration": 36,
    "start_time": "2022-06-09T19:26:36.449Z"
   },
   {
    "duration": 326,
    "start_time": "2022-06-09T19:28:25.528Z"
   },
   {
    "duration": 72,
    "start_time": "2022-06-09T19:41:19.439Z"
   },
   {
    "duration": 22,
    "start_time": "2022-06-09T19:41:46.896Z"
   },
   {
    "duration": 12,
    "start_time": "2022-06-09T19:45:37.855Z"
   },
   {
    "duration": 15,
    "start_time": "2022-06-09T19:46:50.439Z"
   },
   {
    "duration": 17,
    "start_time": "2022-06-09T19:47:07.133Z"
   },
   {
    "duration": 16,
    "start_time": "2022-06-09T19:55:25.738Z"
   },
   {
    "duration": 11,
    "start_time": "2022-06-09T19:56:39.127Z"
   },
   {
    "duration": 15,
    "start_time": "2022-06-09T19:58:12.618Z"
   },
   {
    "duration": 22,
    "start_time": "2022-06-09T19:58:21.951Z"
   },
   {
    "duration": 21,
    "start_time": "2022-06-09T19:59:35.461Z"
   },
   {
    "duration": 32,
    "start_time": "2022-06-09T19:59:52.093Z"
   },
   {
    "duration": 34,
    "start_time": "2022-06-09T20:02:10.603Z"
   },
   {
    "duration": 30,
    "start_time": "2022-06-09T20:03:33.082Z"
   },
   {
    "duration": 3,
    "start_time": "2022-06-09T20:05:31.456Z"
   },
   {
    "duration": 38,
    "start_time": "2022-06-09T20:05:38.637Z"
   },
   {
    "duration": 28,
    "start_time": "2022-06-09T20:05:52.002Z"
   },
   {
    "duration": 26,
    "start_time": "2022-06-09T20:06:48.295Z"
   },
   {
    "duration": 16,
    "start_time": "2022-06-09T20:08:35.524Z"
   },
   {
    "duration": 42,
    "start_time": "2022-06-09T20:11:06.804Z"
   },
   {
    "duration": 16,
    "start_time": "2022-06-09T20:11:30.493Z"
   },
   {
    "duration": 40,
    "start_time": "2022-06-09T20:12:35.694Z"
   },
   {
    "duration": 38,
    "start_time": "2022-06-09T20:12:58.253Z"
   },
   {
    "duration": 22,
    "start_time": "2022-06-09T20:14:55.063Z"
   },
   {
    "duration": 22,
    "start_time": "2022-06-09T20:15:09.445Z"
   },
   {
    "duration": 24,
    "start_time": "2022-06-09T20:15:31.913Z"
   },
   {
    "duration": 21,
    "start_time": "2022-06-09T20:15:41.638Z"
   },
   {
    "duration": 31,
    "start_time": "2022-06-09T20:16:01.589Z"
   },
   {
    "duration": 26,
    "start_time": "2022-06-09T20:16:15.986Z"
   },
   {
    "duration": 295,
    "start_time": "2022-06-09T20:18:15.037Z"
   },
   {
    "duration": 372,
    "start_time": "2022-06-09T20:19:26.105Z"
   },
   {
    "duration": 305,
    "start_time": "2022-06-09T20:19:44.351Z"
   },
   {
    "duration": 298,
    "start_time": "2022-06-09T20:20:19.677Z"
   },
   {
    "duration": 27,
    "start_time": "2022-06-09T20:33:48.316Z"
   },
   {
    "duration": 21,
    "start_time": "2022-06-09T20:34:18.745Z"
   },
   {
    "duration": 410,
    "start_time": "2022-06-09T20:35:07.650Z"
   },
   {
    "duration": 360,
    "start_time": "2022-06-09T20:35:27.829Z"
   },
   {
    "duration": 308,
    "start_time": "2022-06-09T20:35:39.205Z"
   },
   {
    "duration": 311,
    "start_time": "2022-06-09T20:36:12.740Z"
   },
   {
    "duration": 26,
    "start_time": "2022-06-09T20:36:38.790Z"
   },
   {
    "duration": 29,
    "start_time": "2022-06-09T20:37:45.516Z"
   },
   {
    "duration": 22,
    "start_time": "2022-06-09T20:38:22.490Z"
   },
   {
    "duration": 538,
    "start_time": "2022-06-09T20:46:37.897Z"
   },
   {
    "duration": 24,
    "start_time": "2022-06-09T20:46:38.437Z"
   },
   {
    "duration": 22,
    "start_time": "2022-06-09T20:46:38.464Z"
   },
   {
    "duration": 44,
    "start_time": "2022-06-09T20:46:38.488Z"
   },
   {
    "duration": 55,
    "start_time": "2022-06-09T20:46:38.534Z"
   },
   {
    "duration": 5,
    "start_time": "2022-06-09T20:46:38.591Z"
   },
   {
    "duration": 33,
    "start_time": "2022-06-09T20:46:38.602Z"
   },
   {
    "duration": 5,
    "start_time": "2022-06-09T20:46:38.636Z"
   },
   {
    "duration": 14,
    "start_time": "2022-06-09T20:46:38.642Z"
   },
   {
    "duration": 4,
    "start_time": "2022-06-09T20:46:38.658Z"
   },
   {
    "duration": 69,
    "start_time": "2022-06-09T20:46:38.664Z"
   },
   {
    "duration": 10,
    "start_time": "2022-06-09T20:46:38.735Z"
   },
   {
    "duration": 5,
    "start_time": "2022-06-09T20:46:38.746Z"
   },
   {
    "duration": 46,
    "start_time": "2022-06-09T20:46:38.754Z"
   },
   {
    "duration": 18,
    "start_time": "2022-06-09T20:46:38.810Z"
   },
   {
    "duration": 15,
    "start_time": "2022-06-09T20:46:38.830Z"
   },
   {
    "duration": 13,
    "start_time": "2022-06-09T20:46:38.847Z"
   },
   {
    "duration": 67,
    "start_time": "2022-06-09T20:46:38.862Z"
   },
   {
    "duration": 10,
    "start_time": "2022-06-09T20:46:38.932Z"
   },
   {
    "duration": 5,
    "start_time": "2022-06-09T20:46:38.944Z"
   },
   {
    "duration": 18,
    "start_time": "2022-06-09T20:46:38.951Z"
   },
   {
    "duration": 60,
    "start_time": "2022-06-09T20:46:38.974Z"
   },
   {
    "duration": 27,
    "start_time": "2022-06-09T20:46:39.036Z"
   },
   {
    "duration": 33,
    "start_time": "2022-06-09T20:46:39.067Z"
   },
   {
    "duration": 1176,
    "start_time": "2022-06-09T20:46:39.103Z"
   },
   {
    "duration": 308,
    "start_time": "2022-06-09T20:46:40.281Z"
   },
   {
    "duration": 275,
    "start_time": "2022-06-09T20:46:40.596Z"
   },
   {
    "duration": 312,
    "start_time": "2022-06-09T20:46:40.872Z"
   },
   {
    "duration": 3,
    "start_time": "2022-06-09T20:48:30.578Z"
   },
   {
    "duration": 537,
    "start_time": "2022-06-09T20:48:44.395Z"
   },
   {
    "duration": 34,
    "start_time": "2022-06-09T20:48:44.934Z"
   },
   {
    "duration": 26,
    "start_time": "2022-06-09T20:48:44.970Z"
   },
   {
    "duration": 28,
    "start_time": "2022-06-09T20:48:45.002Z"
   },
   {
    "duration": 52,
    "start_time": "2022-06-09T20:48:45.032Z"
   },
   {
    "duration": 4,
    "start_time": "2022-06-09T20:48:45.086Z"
   },
   {
    "duration": 36,
    "start_time": "2022-06-09T20:48:45.092Z"
   },
   {
    "duration": 6,
    "start_time": "2022-06-09T20:48:45.130Z"
   },
   {
    "duration": 9,
    "start_time": "2022-06-09T20:48:45.138Z"
   },
   {
    "duration": 5,
    "start_time": "2022-06-09T20:48:45.150Z"
   },
   {
    "duration": 62,
    "start_time": "2022-06-09T20:48:45.157Z"
   },
   {
    "duration": 14,
    "start_time": "2022-06-09T20:48:45.221Z"
   },
   {
    "duration": 7,
    "start_time": "2022-06-09T20:48:45.237Z"
   },
   {
    "duration": 41,
    "start_time": "2022-06-09T20:48:45.246Z"
   },
   {
    "duration": 33,
    "start_time": "2022-06-09T20:48:45.289Z"
   },
   {
    "duration": 17,
    "start_time": "2022-06-09T20:48:45.325Z"
   },
   {
    "duration": 4,
    "start_time": "2022-06-09T20:48:45.345Z"
   },
   {
    "duration": 66,
    "start_time": "2022-06-09T20:48:45.350Z"
   },
   {
    "duration": 13,
    "start_time": "2022-06-09T20:48:45.418Z"
   },
   {
    "duration": 14,
    "start_time": "2022-06-09T20:48:45.433Z"
   },
   {
    "duration": 26,
    "start_time": "2022-06-09T20:48:45.449Z"
   },
   {
    "duration": 52,
    "start_time": "2022-06-09T20:48:45.476Z"
   },
   {
    "duration": 9,
    "start_time": "2022-06-09T20:48:45.530Z"
   },
   {
    "duration": 1119,
    "start_time": "2022-06-09T20:48:45.541Z"
   },
   {
    "duration": 287,
    "start_time": "2022-06-09T20:48:46.665Z"
   },
   {
    "duration": 295,
    "start_time": "2022-06-09T20:48:46.954Z"
   },
   {
    "duration": 340,
    "start_time": "2022-06-09T20:48:47.251Z"
   },
   {
    "duration": 307,
    "start_time": "2022-06-09T20:49:20.630Z"
   },
   {
    "duration": 640,
    "start_time": "2022-06-09T20:52:55.800Z"
   },
   {
    "duration": 47,
    "start_time": "2022-06-09T20:52:56.443Z"
   },
   {
    "duration": 34,
    "start_time": "2022-06-09T20:52:56.500Z"
   },
   {
    "duration": 16,
    "start_time": "2022-06-09T20:52:56.537Z"
   },
   {
    "duration": 69,
    "start_time": "2022-06-09T20:52:56.555Z"
   },
   {
    "duration": 13,
    "start_time": "2022-06-09T20:52:56.629Z"
   },
   {
    "duration": 38,
    "start_time": "2022-06-09T20:52:56.645Z"
   },
   {
    "duration": 48,
    "start_time": "2022-06-09T20:52:56.689Z"
   },
   {
    "duration": 15,
    "start_time": "2022-06-09T20:52:56.739Z"
   },
   {
    "duration": 5,
    "start_time": "2022-06-09T20:52:56.759Z"
   },
   {
    "duration": 135,
    "start_time": "2022-06-09T20:52:56.778Z"
   },
   {
    "duration": 18,
    "start_time": "2022-06-09T20:52:56.915Z"
   },
   {
    "duration": 8,
    "start_time": "2022-06-09T20:52:56.938Z"
   },
   {
    "duration": 29,
    "start_time": "2022-06-09T20:52:56.948Z"
   },
   {
    "duration": 33,
    "start_time": "2022-06-09T20:52:56.979Z"
   },
   {
    "duration": 33,
    "start_time": "2022-06-09T20:52:57.014Z"
   },
   {
    "duration": 6,
    "start_time": "2022-06-09T20:52:57.049Z"
   },
   {
    "duration": 22,
    "start_time": "2022-06-09T20:52:57.057Z"
   },
   {
    "duration": 29,
    "start_time": "2022-06-09T20:52:57.081Z"
   },
   {
    "duration": 22,
    "start_time": "2022-06-09T20:52:57.112Z"
   },
   {
    "duration": 10,
    "start_time": "2022-06-09T20:52:57.137Z"
   },
   {
    "duration": 31,
    "start_time": "2022-06-09T20:52:57.149Z"
   },
   {
    "duration": 51,
    "start_time": "2022-06-09T20:52:57.182Z"
   },
   {
    "duration": 1395,
    "start_time": "2022-06-09T20:52:57.235Z"
   },
   {
    "duration": 332,
    "start_time": "2022-06-09T20:52:58.633Z"
   },
   {
    "duration": 301,
    "start_time": "2022-06-09T20:52:58.972Z"
   },
   {
    "duration": 392,
    "start_time": "2022-06-09T20:52:59.285Z"
   }
  ],
  "colab": {
   "name": "dpp_template_part2.ipynb",
   "provenance": []
  },
  "kernelspec": {
   "display_name": "Python 3 (ipykernel)",
   "language": "python",
   "name": "python3"
  },
  "language_info": {
   "codemirror_mode": {
    "name": "ipython",
    "version": 3
   },
   "file_extension": ".py",
   "mimetype": "text/x-python",
   "name": "python",
   "nbconvert_exporter": "python",
   "pygments_lexer": "ipython3",
   "version": "3.9.12"
  },
  "toc": {
   "base_numbering": 1,
   "nav_menu": {},
   "number_sections": true,
   "sideBar": true,
   "skip_h1_title": true,
   "title_cell": "Table of Contents",
   "title_sidebar": "Contents",
   "toc_cell": false,
   "toc_position": {},
   "toc_section_display": true,
   "toc_window_display": false
  }
 },
 "nbformat": 4,
 "nbformat_minor": 5
}
