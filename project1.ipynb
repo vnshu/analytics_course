{
 "cells": [
  {
   "cell_type": "markdown",
   "metadata": {
    "deletable": false,
    "editable": false,
    "id": "E0vqbgi9ay0H"
   },
   "source": [
    "# Яндекс.Музыка"
   ]
  },
  {
   "cell_type": "markdown",
   "metadata": {
    "deletable": false,
    "editable": false,
    "id": "VUC88oWjTJw2"
   },
   "source": [
    "Сравнение Москвы и Петербурга окружено мифами. Например:\n",
    " * Москва — мегаполис, подчинённый жёсткому ритму рабочей недели;\n",
    " * Петербург — культурная столица, со своими вкусами.\n",
    "\n",
    "На данных Яндекс.Музыки вы сравните поведение пользователей двух столиц.\n",
    "\n",
    "**Цель исследования** — проверьте три гипотезы:\n",
    "1. Активность пользователей зависит от дня недели. Причём в Москве и Петербурге это проявляется по-разному.\n",
    "2. В понедельник утром в Москве преобладают одни жанры, а в Петербурге — другие. Так же и вечером пятницы преобладают разные жанры — в зависимости от города. \n",
    "3. Москва и Петербург предпочитают разные жанры музыки. В Москве чаще слушают поп-музыку, в Петербурге — русский рэп.\n",
    "\n",
    "**Ход исследования**\n",
    "\n",
    "Данные о поведении пользователей вы получите из файла `yandex_music_project.csv`. О качестве данных ничего не известно. Поэтому перед проверкой гипотез понадобится обзор данных. \n",
    "\n",
    "Вы проверите данные на ошибки и оцените их влияние на исследование. Затем, на этапе предобработки вы поищете возможность исправить самые критичные ошибки данных.\n",
    " \n",
    "Таким образом, исследование пройдёт в три этапа:\n",
    " 1. Обзор данных.\n",
    " 2. Предобработка данных.\n",
    " 3. Проверка гипотез.\n",
    "\n"
   ]
  },
  {
   "cell_type": "markdown",
   "metadata": {
    "deletable": false,
    "editable": false,
    "id": "Ml1hmfXC_Zcs"
   },
   "source": [
    "## Обзор данных\n",
    "\n",
    "Составьте первое представление о данных Яндекс.Музыки.\n",
    "\n",
    "\n"
   ]
  },
  {
   "cell_type": "markdown",
   "metadata": {
    "deletable": false,
    "editable": false,
    "id": "57eAOGIz_Zcs",
    "tags": [
     "start_task"
    ]
   },
   "source": [
    "**Задание 1**\n",
    "\n",
    "Основной инструмент аналитика — `pandas`. Импортируйте эту библиотеку."
   ]
  },
  {
   "cell_type": "code",
   "execution_count": 1,
   "metadata": {
    "deletable": false,
    "id": "AXN7PHPN_Zcs"
   },
   "outputs": [],
   "source": [
    "import pandas as pd # импорт библиотеки pandas"
   ]
  },
  {
   "cell_type": "markdown",
   "metadata": {
    "deletable": false,
    "editable": false,
    "id": "SG23P8tt_Zcs",
    "tags": [
     "start_task"
    ]
   },
   "source": [
    "**Задание 2**\n",
    "\n",
    "Прочитайте файл `yandex_music_project.csv` из папки `/datasets` и сохраните его в переменной `df`:"
   ]
  },
  {
   "cell_type": "code",
   "execution_count": 2,
   "metadata": {},
   "outputs": [
    {
     "data": {
      "text/plain": [
       "'C:\\\\Users\\\\vv77\\\\Documents\\\\my_notebooks'"
      ]
     },
     "execution_count": 2,
     "metadata": {},
     "output_type": "execute_result"
    }
   ],
   "source": [
    "import os\n",
    "os.getcwd()"
   ]
  },
  {
   "cell_type": "code",
   "execution_count": 3,
   "metadata": {
    "deletable": false,
    "id": "fFVu7vqh_Zct"
   },
   "outputs": [],
   "source": [
    "df = pd.read_csv('datasets\\\\yandex_music_project.csv') # чтение файла с данными и сохранение в df"
   ]
  },
  {
   "cell_type": "markdown",
   "metadata": {
    "deletable": false,
    "editable": false,
    "id": "rDoOMd3uTqnZ",
    "tags": [
     "start_task"
    ]
   },
   "source": [
    "**Задание 3**\n",
    "\n",
    "\n",
    "Выведите на экран первые десять строк таблицы:"
   ]
  },
  {
   "cell_type": "code",
   "execution_count": 4,
   "metadata": {
    "deletable": false,
    "id": "oWTVX3gW_Zct"
   },
   "outputs": [
    {
     "name": "stdout",
     "output_type": "stream",
     "text": [
      "     userID                        Track            artist   genre  \\\n",
      "0  FFB692EC            Kamigata To Boots  The Mass Missile    rock   \n",
      "1  55204538  Delayed Because of Accident  Andreas Rönnberg    rock   \n",
      "2    20EC38            Funiculì funiculà       Mario Lanza     pop   \n",
      "3  A3DD03C9        Dragons in the Sunset        Fire + Ice    folk   \n",
      "4  E2DC1FAE                  Soul People        Space Echo   dance   \n",
      "5  842029A1                    Преданная         IMPERVTOR  rusrap   \n",
      "6  4CB90AA5                         True      Roman Messer   dance   \n",
      "7  F03E1C1F             Feeling This Way   Polina Griffith   dance   \n",
      "8  8FA1D3BE     И вновь продолжается бой               NaN  ruspop   \n",
      "9  E772D5C0                    Pessimist               NaN   dance   \n",
      "\n",
      "             City        time        Day  \n",
      "0  Saint-Petersburg  20:28:33  Wednesday  \n",
      "1            Moscow  14:07:09     Friday  \n",
      "2  Saint-Petersburg  20:58:07  Wednesday  \n",
      "3  Saint-Petersburg  08:37:09     Monday  \n",
      "4            Moscow  08:34:34     Monday  \n",
      "5  Saint-Petersburg  13:09:41     Friday  \n",
      "6            Moscow  13:00:07  Wednesday  \n",
      "7            Moscow  20:47:49  Wednesday  \n",
      "8            Moscow  09:17:40     Friday  \n",
      "9  Saint-Petersburg  21:20:49  Wednesday  \n"
     ]
    }
   ],
   "source": [
    "print(df.head(10)) # получение первых 10 строк таблицы df"
   ]
  },
  {
   "cell_type": "markdown",
   "metadata": {
    "deletable": false,
    "editable": false,
    "id": "EO73Kwic_Zct",
    "tags": [
     "start_task"
    ]
   },
   "source": [
    "**Задание 4**\n",
    "\n",
    "\n",
    "Одной командой получить общую информацию о таблице c помощью метода `info()`:"
   ]
  },
  {
   "cell_type": "code",
   "execution_count": 5,
   "metadata": {
    "deletable": false,
    "id": "DSf2kIb-_Zct"
   },
   "outputs": [
    {
     "name": "stdout",
     "output_type": "stream",
     "text": [
      "<class 'pandas.core.frame.DataFrame'>\n",
      "RangeIndex: 65079 entries, 0 to 65078\n",
      "Data columns (total 7 columns):\n",
      " #   Column    Non-Null Count  Dtype \n",
      "---  ------    --------------  ----- \n",
      " 0     userID  65079 non-null  object\n",
      " 1   Track     63848 non-null  object\n",
      " 2   artist    57876 non-null  object\n",
      " 3   genre     63881 non-null  object\n",
      " 4     City    65079 non-null  object\n",
      " 5   time      65079 non-null  object\n",
      " 6   Day       65079 non-null  object\n",
      "dtypes: object(7)\n",
      "memory usage: 3.5+ MB\n"
     ]
    }
   ],
   "source": [
    "df.info() # получение общей информации о данных в таблице df"
   ]
  },
  {
   "cell_type": "markdown",
   "metadata": {
    "deletable": false,
    "editable": false,
    "id": "TaQ2Iwbr_Zct"
   },
   "source": [
    "Итак, в таблице семь столбцов. Тип данных во всех столбцах — `object`.\n",
    "\n",
    "Согласно документации к данным:\n",
    "* `userID` — идентификатор пользователя;\n",
    "* `Track` — название трека;  \n",
    "* `artist` — имя исполнителя;\n",
    "* `genre` — название жанра;\n",
    "* `City` — город пользователя;\n",
    "* `time` — время начала прослушивания;\n",
    "* `Day` — день недели.\n",
    "\n",
    "Количество значений в столбцах различается. Значит, в данных есть пропущенные значения."
   ]
  },
  {
   "cell_type": "markdown",
   "metadata": {
    "deletable": false,
    "editable": false,
    "tags": [
     "start_task"
    ]
   },
   "source": [
    "**Задание 5**\n",
    "\n",
    "**Вопрос со свободной формой ответа**\n",
    "\n",
    "В названиях колонок видны три нарушения стиля:\n",
    "1. Строчные буквы сочетаются с прописными.\n",
    "2. Встречаются пробелы."
   ]
  },
  {
   "cell_type": "code",
   "execution_count": 6,
   "metadata": {},
   "outputs": [],
   "source": [
    "# нет нижних подчеркиваний   Напишите ваш ответ здесь комментарием. Не удаляйте символ #. Не меняйте тип этой ячейки на Markdown."
   ]
  },
  {
   "cell_type": "markdown",
   "metadata": {
    "deletable": false,
    "editable": false,
    "id": "MCB6-dXG_Zct"
   },
   "source": [
    "**Выводы**\n",
    "\n",
    "В каждой строке таблицы — данные о прослушанном треке. Часть колонок описывает саму композицию: название, исполнителя и жанр. Остальные данные рассказывают о пользователе: из какого он города, когда он слушал музыку. \n",
    "\n",
    "Предварительно можно утверждать, что, данных достаточно для проверки гипотез. Но встречаются пропуски в данных, а в названиях колонок — расхождения с хорошим стилем.\n",
    "\n",
    "Чтобы двигаться дальше, нужно устранить проблемы в данных."
   ]
  },
  {
   "cell_type": "markdown",
   "metadata": {
    "deletable": false,
    "editable": false,
    "id": "SjYF6Ub9_Zct"
   },
   "source": [
    "## Предобработка данных\n",
    "Исправьте стиль в заголовках столбцов, исключите пропуски. Затем проверьте данные на дубликаты."
   ]
  },
  {
   "cell_type": "markdown",
   "metadata": {
    "deletable": false,
    "editable": false,
    "id": "dIaKXr29_Zct",
    "tags": [
     "start_task"
    ]
   },
   "source": [
    "### Стиль заголовков\n",
    "\n",
    "**Задание 6**\n",
    "\n",
    "Выведите на экран названия столбцов:"
   ]
  },
  {
   "cell_type": "code",
   "execution_count": 7,
   "metadata": {
    "deletable": false,
    "id": "oKOTdF_Q_Zct"
   },
   "outputs": [
    {
     "name": "stdout",
     "output_type": "stream",
     "text": [
      "Index(['  userID', 'Track', 'artist', 'genre', '  City  ', 'time', 'Day'], dtype='object')\n"
     ]
    }
   ],
   "source": [
    "print(df.columns) # перечень названий столбцов таблицы df"
   ]
  },
  {
   "cell_type": "markdown",
   "metadata": {
    "deletable": false,
    "editable": false,
    "id": "zj5534cv_Zct",
    "tags": [
     "start_task"
    ]
   },
   "source": [
    "**Задание 7**\n",
    "\n",
    "\n",
    "Приведите названия в соответствие с хорошим стилем:\n",
    "* несколько слов в названии запишите в «змеином_регистре»,\n",
    "* все символы сделайте строчными,\n",
    "* устраните пробелы.\n",
    "\n",
    "Для этого переименуйте колонки так:\n",
    "* `'  userID'` → `'user_id'`;\n",
    "* `'Track'` → `'track'`;\n",
    "* `'  City  '` → `'city'`;\n",
    "* `'Day'` → `'day'`."
   ]
  },
  {
   "cell_type": "code",
   "execution_count": 8,
   "metadata": {
    "deletable": false,
    "id": "ISlFqs5y_Zct"
   },
   "outputs": [],
   "source": [
    "df = df.rename(columns={'  userID': 'user_id', 'Track': 'track', '  City  ': 'city', 'Day': 'day'})  # переименование столбцов"
   ]
  },
  {
   "cell_type": "markdown",
   "metadata": {
    "deletable": false,
    "editable": false,
    "id": "1dqbh00J_Zct",
    "tags": [
     "start_task"
    ]
   },
   "source": [
    "**Задание 8**\n",
    "\n",
    "\n",
    "Проверьте результат. Для этого ещё раз выведите на экран названия столбцов:"
   ]
  },
  {
   "cell_type": "code",
   "execution_count": 9,
   "metadata": {
    "deletable": false,
    "id": "d4NOAmTW_Zct"
   },
   "outputs": [
    {
     "name": "stdout",
     "output_type": "stream",
     "text": [
      "Index(['user_id', 'track', 'artist', 'genre', 'city', 'time', 'day'], dtype='object')\n"
     ]
    }
   ],
   "source": [
    "print(df.columns) # проверка результатов - перечень названий столбцов"
   ]
  },
  {
   "cell_type": "markdown",
   "metadata": {
    "deletable": false,
    "editable": false,
    "id": "5ISfbcfY_Zct",
    "tags": [
     "start_task"
    ]
   },
   "source": [
    "### Пропуски значений\n",
    "\n",
    "**Задание 9**\n",
    "\n",
    "Сначала посчитайте, сколько в таблице пропущенных значений. Для этого достаточно двух методов `pandas`:"
   ]
  },
  {
   "cell_type": "code",
   "execution_count": 10,
   "metadata": {
    "deletable": false,
    "id": "RskX29qr_Zct"
   },
   "outputs": [
    {
     "name": "stdout",
     "output_type": "stream",
     "text": [
      "user_id       0\n",
      "track      1231\n",
      "artist     7203\n",
      "genre      1198\n",
      "city          0\n",
      "time          0\n",
      "day           0\n",
      "dtype: int64\n"
     ]
    }
   ],
   "source": [
    "print(df.isna().sum()) # подсчёт пропусков"
   ]
  },
  {
   "cell_type": "markdown",
   "metadata": {
    "deletable": false,
    "editable": false,
    "id": "qubhgnlO_Zct"
   },
   "source": [
    "Не все пропущенные значения влияют на исследование. Так в `track` и `artist` пропуски не важны для вашей работы. Достаточно заменить их явными обозначениями.\n",
    "\n",
    "Но пропуски в `genre` могут помешать сравнению музыкальных вкусов в Москве и Санкт-Петербурге. На практике было бы правильно установить причину пропусков и восстановить данные. Такой возможности нет в учебном проекте. Придётся:\n",
    "* заполнить и эти пропуски явными обозначениями,\n",
    "* оценить, насколько они повредят расчётам. "
   ]
  },
  {
   "cell_type": "markdown",
   "metadata": {
    "deletable": false,
    "editable": false,
    "id": "fSv2laPA_Zct",
    "tags": [
     "start_task"
    ]
   },
   "source": [
    "**Задание 10**\n",
    "\n",
    "Замените пропущенные значения в столбцах `track`, `artist` и `genre` на строку `'unknown'`. Для этого создайте список `columns_to_replace`, переберите его элементы циклом `for` и для каждого столбца выполните замену пропущенных значений:"
   ]
  },
  {
   "cell_type": "code",
   "execution_count": 11,
   "metadata": {
    "deletable": false,
    "id": "KplB5qWs_Zct"
   },
   "outputs": [],
   "source": [
    "# перебор названий столбцов в цикле и замена пропущенных значений на 'unknown'\n",
    "columns_to_replace = ['track', 'artist', 'genre'] # список столбцов, в которых будем производить замену\n",
    "\n",
    "for column in columns_to_replace:  \n",
    "    df[column] = df[column].fillna('unknown')"
   ]
  },
  {
   "cell_type": "markdown",
   "metadata": {
    "deletable": false,
    "editable": false,
    "id": "Ilsm-MZo_Zct",
    "tags": [
     "start_task"
    ]
   },
   "source": [
    "**Задание 11**\n",
    "\n",
    "Убедитесь, что в таблице не осталось пропусков. Для этого ещё раз посчитайте пропущенные значения."
   ]
  },
  {
   "cell_type": "code",
   "execution_count": 12,
   "metadata": {
    "deletable": false,
    "id": "Tq4nYRX4_Zct"
   },
   "outputs": [
    {
     "name": "stdout",
     "output_type": "stream",
     "text": [
      "user_id    0\n",
      "track      0\n",
      "artist     0\n",
      "genre      0\n",
      "city       0\n",
      "time       0\n",
      "day        0\n",
      "dtype: int64\n"
     ]
    }
   ],
   "source": [
    "print(df.isna().sum()) # подсчёт пропусков "
   ]
  },
  {
   "cell_type": "markdown",
   "metadata": {
    "deletable": false,
    "editable": false,
    "id": "BWKRtBJ3_Zct",
    "tags": [
     "start_task"
    ]
   },
   "source": [
    "### Дубликаты\n",
    "\n",
    "**Задание 12**\n",
    "\n",
    "Посчитайте явные дубликаты в таблице одной командой:"
   ]
  },
  {
   "cell_type": "code",
   "execution_count": 13,
   "metadata": {
    "deletable": false,
    "id": "36eES_S0_Zct"
   },
   "outputs": [
    {
     "name": "stdout",
     "output_type": "stream",
     "text": [
      "3826\n"
     ]
    }
   ],
   "source": [
    "print(df.duplicated().sum()) # подсчёт явных дубликатов"
   ]
  },
  {
   "cell_type": "markdown",
   "metadata": {
    "deletable": false,
    "editable": false,
    "id": "Ot25h6XR_Zct",
    "tags": [
     "start_task"
    ]
   },
   "source": [
    "**Задание 13**\n",
    "\n",
    "Вызовите специальный метод `pandas`, чтобы удалить явные дубликаты:"
   ]
  },
  {
   "cell_type": "code",
   "execution_count": 14,
   "metadata": {
    "deletable": false,
    "id": "exFHq6tt_Zct"
   },
   "outputs": [],
   "source": [
    "df = df.drop_duplicates() # удаление явных дубликатов (с удалением старых индексов и формированием новых)"
   ]
  },
  {
   "cell_type": "markdown",
   "metadata": {
    "deletable": false,
    "editable": false,
    "id": "Im2YwBEG_Zct",
    "tags": [
     "start_task"
    ]
   },
   "source": [
    "**Задание 14**\n",
    "\n",
    "Ещё раз посчитайте явные дубликаты в таблице — убедитесь, что полностью от них избавились:"
   ]
  },
  {
   "cell_type": "code",
   "execution_count": 15,
   "metadata": {
    "deletable": false,
    "id": "-8PuNWQ0_Zct"
   },
   "outputs": [
    {
     "name": "stdout",
     "output_type": "stream",
     "text": [
      "0\n"
     ]
    }
   ],
   "source": [
    "print(df.duplicated().sum()) # проверка на отсутствие дубликатов"
   ]
  },
  {
   "cell_type": "markdown",
   "metadata": {
    "deletable": false,
    "editable": false,
    "id": "QlFBsxAr_Zct"
   },
   "source": [
    "Теперь избавьтесь от неявных дубликатов в колонке `genre`. Например, название одного и того же жанра может быть записано немного по-разному. Такие ошибки тоже повлияют на результат исследования."
   ]
  },
  {
   "cell_type": "markdown",
   "metadata": {
    "deletable": false,
    "editable": false,
    "id": "eSjWwsOh_Zct",
    "tags": [
     "start_task"
    ]
   },
   "source": [
    "**Задание 15**\n",
    "\n",
    "Выведите на экран список уникальных названий жанров, отсортированный в алфавитном порядке. Для этого:\n",
    "* извлеките нужный столбец датафрейма, \n",
    "* примените к нему метод сортировки,\n",
    "* для отсортированного столбца вызовите метод, который вернёт уникальные значения из столбца."
   ]
  },
  {
   "cell_type": "code",
   "execution_count": 16,
   "metadata": {},
   "outputs": [
    {
     "data": {
      "text/plain": [
       "['acid',\n",
       " 'acoustic',\n",
       " 'action',\n",
       " 'adult',\n",
       " 'africa',\n",
       " 'afrikaans',\n",
       " 'alternative',\n",
       " 'alternativepunk',\n",
       " 'ambient',\n",
       " 'americana',\n",
       " 'animated',\n",
       " 'anime',\n",
       " 'arabesk',\n",
       " 'arabic',\n",
       " 'arena',\n",
       " 'argentinetango',\n",
       " 'art',\n",
       " 'audiobook',\n",
       " 'author',\n",
       " 'avantgarde',\n",
       " 'axé',\n",
       " 'baile',\n",
       " 'balkan',\n",
       " 'beats',\n",
       " 'bigroom',\n",
       " 'black',\n",
       " 'bluegrass',\n",
       " 'blues',\n",
       " 'bollywood',\n",
       " 'bossa',\n",
       " 'brazilian',\n",
       " 'breakbeat',\n",
       " 'breaks',\n",
       " 'broadway',\n",
       " 'cantautori',\n",
       " 'cantopop',\n",
       " 'canzone',\n",
       " 'caribbean',\n",
       " 'caucasian',\n",
       " 'celtic',\n",
       " 'chamber',\n",
       " 'chanson',\n",
       " 'children',\n",
       " 'chill',\n",
       " 'chinese',\n",
       " 'choral',\n",
       " 'christian',\n",
       " 'christmas',\n",
       " 'classical',\n",
       " 'classicmetal',\n",
       " 'club',\n",
       " 'colombian',\n",
       " 'comedy',\n",
       " 'conjazz',\n",
       " 'contemporary',\n",
       " 'country',\n",
       " 'cuban',\n",
       " 'dance',\n",
       " 'dancehall',\n",
       " 'dancepop',\n",
       " 'dark',\n",
       " 'death',\n",
       " 'deep',\n",
       " 'deutschrock',\n",
       " 'deutschspr',\n",
       " 'dirty',\n",
       " 'disco',\n",
       " 'dnb',\n",
       " 'documentary',\n",
       " 'downbeat',\n",
       " 'downtempo',\n",
       " 'drum',\n",
       " 'dub',\n",
       " 'dubstep',\n",
       " 'eastern',\n",
       " 'easy',\n",
       " 'electronic',\n",
       " 'electropop',\n",
       " 'emo',\n",
       " 'entehno',\n",
       " 'epicmetal',\n",
       " 'estrada',\n",
       " 'ethnic',\n",
       " 'eurofolk',\n",
       " 'european',\n",
       " 'experimental',\n",
       " 'extrememetal',\n",
       " 'fado',\n",
       " 'fairytail',\n",
       " 'film',\n",
       " 'fitness',\n",
       " 'flamenco',\n",
       " 'folk',\n",
       " 'folklore',\n",
       " 'folkmetal',\n",
       " 'folkrock',\n",
       " 'folktronica',\n",
       " 'forró',\n",
       " 'frankreich',\n",
       " 'französisch',\n",
       " 'french',\n",
       " 'funk',\n",
       " 'future',\n",
       " 'gangsta',\n",
       " 'garage',\n",
       " 'german',\n",
       " 'ghazal',\n",
       " 'gitarre',\n",
       " 'glitch',\n",
       " 'gospel',\n",
       " 'gothic',\n",
       " 'grime',\n",
       " 'grunge',\n",
       " 'gypsy',\n",
       " 'handsup',\n",
       " \"hard'n'heavy\",\n",
       " 'hardcore',\n",
       " 'hardstyle',\n",
       " 'hardtechno',\n",
       " 'hip',\n",
       " 'hip-hop',\n",
       " 'hiphop',\n",
       " 'historisch',\n",
       " 'holiday',\n",
       " 'hop',\n",
       " 'horror',\n",
       " 'house',\n",
       " 'hymn',\n",
       " 'idm',\n",
       " 'independent',\n",
       " 'indian',\n",
       " 'indie',\n",
       " 'indipop',\n",
       " 'industrial',\n",
       " 'inspirational',\n",
       " 'instrumental',\n",
       " 'international',\n",
       " 'irish',\n",
       " 'jam',\n",
       " 'japanese',\n",
       " 'jazz',\n",
       " 'jewish',\n",
       " 'jpop',\n",
       " 'jungle',\n",
       " 'k-pop',\n",
       " 'karadeniz',\n",
       " 'karaoke',\n",
       " 'kayokyoku',\n",
       " 'korean',\n",
       " 'laiko',\n",
       " 'latin',\n",
       " 'latino',\n",
       " 'leftfield',\n",
       " 'local',\n",
       " 'lounge',\n",
       " 'loungeelectronic',\n",
       " 'lovers',\n",
       " 'malaysian',\n",
       " 'mandopop',\n",
       " 'marschmusik',\n",
       " 'meditative',\n",
       " 'mediterranean',\n",
       " 'melodic',\n",
       " 'metal',\n",
       " 'metalcore',\n",
       " 'mexican',\n",
       " 'middle',\n",
       " 'minimal',\n",
       " 'miscellaneous',\n",
       " 'modern',\n",
       " 'mood',\n",
       " 'mpb',\n",
       " 'muslim',\n",
       " 'native',\n",
       " 'neoklassik',\n",
       " 'neue',\n",
       " 'new',\n",
       " 'newage',\n",
       " 'newwave',\n",
       " 'nu',\n",
       " 'nujazz',\n",
       " 'numetal',\n",
       " 'oceania',\n",
       " 'old',\n",
       " 'opera',\n",
       " 'orchestral',\n",
       " 'other',\n",
       " 'piano',\n",
       " 'podcasts',\n",
       " 'pop',\n",
       " 'popdance',\n",
       " 'popelectronic',\n",
       " 'popeurodance',\n",
       " 'poprussian',\n",
       " 'post',\n",
       " 'posthardcore',\n",
       " 'postrock',\n",
       " 'power',\n",
       " 'progmetal',\n",
       " 'progressive',\n",
       " 'psychedelic',\n",
       " 'punjabi',\n",
       " 'punk',\n",
       " 'quebecois',\n",
       " 'ragga',\n",
       " 'ram',\n",
       " 'rancheras',\n",
       " 'rap',\n",
       " 'rave',\n",
       " 'reggae',\n",
       " 'reggaeton',\n",
       " 'regional',\n",
       " 'relax',\n",
       " 'religious',\n",
       " 'retro',\n",
       " 'rhythm',\n",
       " 'rnb',\n",
       " 'rnr',\n",
       " 'rock',\n",
       " 'rockabilly',\n",
       " 'rockalternative',\n",
       " 'rockindie',\n",
       " 'rockother',\n",
       " 'romance',\n",
       " 'roots',\n",
       " 'ruspop',\n",
       " 'rusrap',\n",
       " 'rusrock',\n",
       " 'russian',\n",
       " 'salsa',\n",
       " 'samba',\n",
       " 'scenic',\n",
       " 'schlager',\n",
       " 'self',\n",
       " 'sertanejo',\n",
       " 'shanson',\n",
       " 'shoegazing',\n",
       " 'showtunes',\n",
       " 'singer',\n",
       " 'ska',\n",
       " 'skarock',\n",
       " 'slow',\n",
       " 'smooth',\n",
       " 'soft',\n",
       " 'soul',\n",
       " 'soulful',\n",
       " 'sound',\n",
       " 'soundtrack',\n",
       " 'southern',\n",
       " 'specialty',\n",
       " 'speech',\n",
       " 'spiritual',\n",
       " 'sport',\n",
       " 'stonerrock',\n",
       " 'surf',\n",
       " 'swing',\n",
       " 'synthpop',\n",
       " 'synthrock',\n",
       " 'sängerportrait',\n",
       " 'tango',\n",
       " 'tanzorchester',\n",
       " 'taraftar',\n",
       " 'tatar',\n",
       " 'tech',\n",
       " 'techno',\n",
       " 'teen',\n",
       " 'thrash',\n",
       " 'top',\n",
       " 'traditional',\n",
       " 'tradjazz',\n",
       " 'trance',\n",
       " 'tribal',\n",
       " 'trip',\n",
       " 'triphop',\n",
       " 'tropical',\n",
       " 'türk',\n",
       " 'türkçe',\n",
       " 'ukrrock',\n",
       " 'unknown',\n",
       " 'urban',\n",
       " 'uzbek',\n",
       " 'variété',\n",
       " 'vi',\n",
       " 'videogame',\n",
       " 'vocal',\n",
       " 'western',\n",
       " 'world',\n",
       " 'worldbeat',\n",
       " 'ïîï',\n",
       " 'электроника']"
      ]
     },
     "execution_count": 16,
     "metadata": {},
     "output_type": "execute_result"
    }
   ],
   "source": [
    "genre_unique = df['genre'].sort_values()\n",
    "genre_unique.drop_duplicates().to_list() # то же самое, что ниже\n"
   ]
  },
  {
   "cell_type": "code",
   "execution_count": 17,
   "metadata": {
    "deletable": false,
    "id": "JIUcqzZN_Zct"
   },
   "outputs": [
    {
     "name": "stdout",
     "output_type": "stream",
     "text": [
      "['acid' 'acoustic' 'action' 'adult' 'africa' 'afrikaans' 'alternative'\n",
      " 'alternativepunk' 'ambient' 'americana' 'animated' 'anime' 'arabesk'\n",
      " 'arabic' 'arena' 'argentinetango' 'art' 'audiobook' 'author' 'avantgarde'\n",
      " 'axé' 'baile' 'balkan' 'beats' 'bigroom' 'black' 'bluegrass' 'blues'\n",
      " 'bollywood' 'bossa' 'brazilian' 'breakbeat' 'breaks' 'broadway'\n",
      " 'cantautori' 'cantopop' 'canzone' 'caribbean' 'caucasian' 'celtic'\n",
      " 'chamber' 'chanson' 'children' 'chill' 'chinese' 'choral' 'christian'\n",
      " 'christmas' 'classical' 'classicmetal' 'club' 'colombian' 'comedy'\n",
      " 'conjazz' 'contemporary' 'country' 'cuban' 'dance' 'dancehall' 'dancepop'\n",
      " 'dark' 'death' 'deep' 'deutschrock' 'deutschspr' 'dirty' 'disco' 'dnb'\n",
      " 'documentary' 'downbeat' 'downtempo' 'drum' 'dub' 'dubstep' 'eastern'\n",
      " 'easy' 'electronic' 'electropop' 'emo' 'entehno' 'epicmetal' 'estrada'\n",
      " 'ethnic' 'eurofolk' 'european' 'experimental' 'extrememetal' 'fado'\n",
      " 'fairytail' 'film' 'fitness' 'flamenco' 'folk' 'folklore' 'folkmetal'\n",
      " 'folkrock' 'folktronica' 'forró' 'frankreich' 'französisch' 'french'\n",
      " 'funk' 'future' 'gangsta' 'garage' 'german' 'ghazal' 'gitarre' 'glitch'\n",
      " 'gospel' 'gothic' 'grime' 'grunge' 'gypsy' 'handsup' \"hard'n'heavy\"\n",
      " 'hardcore' 'hardstyle' 'hardtechno' 'hip' 'hip-hop' 'hiphop' 'historisch'\n",
      " 'holiday' 'hop' 'horror' 'house' 'hymn' 'idm' 'independent' 'indian'\n",
      " 'indie' 'indipop' 'industrial' 'inspirational' 'instrumental'\n",
      " 'international' 'irish' 'jam' 'japanese' 'jazz' 'jewish' 'jpop' 'jungle'\n",
      " 'k-pop' 'karadeniz' 'karaoke' 'kayokyoku' 'korean' 'laiko' 'latin'\n",
      " 'latino' 'leftfield' 'local' 'lounge' 'loungeelectronic' 'lovers'\n",
      " 'malaysian' 'mandopop' 'marschmusik' 'meditative' 'mediterranean'\n",
      " 'melodic' 'metal' 'metalcore' 'mexican' 'middle' 'minimal'\n",
      " 'miscellaneous' 'modern' 'mood' 'mpb' 'muslim' 'native' 'neoklassik'\n",
      " 'neue' 'new' 'newage' 'newwave' 'nu' 'nujazz' 'numetal' 'oceania' 'old'\n",
      " 'opera' 'orchestral' 'other' 'piano' 'podcasts' 'pop' 'popdance'\n",
      " 'popelectronic' 'popeurodance' 'poprussian' 'post' 'posthardcore'\n",
      " 'postrock' 'power' 'progmetal' 'progressive' 'psychedelic' 'punjabi'\n",
      " 'punk' 'quebecois' 'ragga' 'ram' 'rancheras' 'rap' 'rave' 'reggae'\n",
      " 'reggaeton' 'regional' 'relax' 'religious' 'retro' 'rhythm' 'rnb' 'rnr'\n",
      " 'rock' 'rockabilly' 'rockalternative' 'rockindie' 'rockother' 'romance'\n",
      " 'roots' 'ruspop' 'rusrap' 'rusrock' 'russian' 'salsa' 'samba' 'scenic'\n",
      " 'schlager' 'self' 'sertanejo' 'shanson' 'shoegazing' 'showtunes' 'singer'\n",
      " 'ska' 'skarock' 'slow' 'smooth' 'soft' 'soul' 'soulful' 'sound'\n",
      " 'soundtrack' 'southern' 'specialty' 'speech' 'spiritual' 'sport'\n",
      " 'stonerrock' 'surf' 'swing' 'synthpop' 'synthrock' 'sängerportrait'\n",
      " 'tango' 'tanzorchester' 'taraftar' 'tatar' 'tech' 'techno' 'teen'\n",
      " 'thrash' 'top' 'traditional' 'tradjazz' 'trance' 'tribal' 'trip'\n",
      " 'triphop' 'tropical' 'türk' 'türkçe' 'ukrrock' 'unknown' 'urban' 'uzbek'\n",
      " 'variété' 'vi' 'videogame' 'vocal' 'western' 'world' 'worldbeat' 'ïîï'\n",
      " 'электроника']\n"
     ]
    }
   ],
   "source": [
    "genre_unique = df['genre'].sort_values() # сортируем столбец 'genre'\n",
    "\n",
    "genre_unique = genre_unique.unique() # возвращаем уникальные названия жанров\n",
    "\n",
    "print(genre_unique) # просмотр уникальных названий жанров"
   ]
  },
  {
   "cell_type": "markdown",
   "metadata": {
    "deletable": false,
    "editable": false,
    "id": "qej-Qmuo_Zct",
    "tags": [
     "start_task"
    ]
   },
   "source": [
    "**Задание 16**\n",
    "\n",
    "Просмотрите список и найдите неявные дубликаты названия `hiphop`. Это могут быть названия с ошибками или альтернативные названия того же жанра.\n",
    "\n",
    "Вы увидите следующие неявные дубликаты:\n",
    "* *hip*,\n",
    "* *hop*,\n",
    "* *hip-hop*.\n",
    "\n",
    "Чтобы очистить от них таблицу используйте метод `replace()` с двумя аргументами: списком строк-дубликатов (включащий *hip*, *hop* и *hip-hop*) и строкой с правильным значением. Вам нужно исправить колонку `genre` в таблице `df`: заменить каждое значение из списка дубликатов на верное. Вместо `hip`, `hop` и `hip-hop` в таблице должно быть значение `hiphop`:"
   ]
  },
  {
   "cell_type": "code",
   "execution_count": 18,
   "metadata": {
    "deletable": false,
    "id": "ErNDkmns_Zct"
   },
   "outputs": [],
   "source": [
    "# Устранение неявных дубликатов\n",
    "duplicates = ['hip', 'hop', 'hip-hop'] # список дубликатов\n",
    "name = 'hiphop'\n",
    "df['genre'] =df['genre'].replace(duplicates, name) # меняем дубликаты на правильное название"
   ]
  },
  {
   "cell_type": "markdown",
   "metadata": {
    "deletable": false,
    "editable": false,
    "id": "zQKF16_RG15m",
    "tags": [
     "start_task"
    ]
   },
   "source": [
    "**Задание 17**\n",
    "\n",
    "Проверьте, что заменили неправильные названия:\n",
    "\n",
    "*   hip\n",
    "*   hop\n",
    "*   hip-hop\n",
    "\n",
    "Выведите отсортированный список уникальных значений столбца `genre`:"
   ]
  },
  {
   "cell_type": "code",
   "execution_count": 19,
   "metadata": {
    "deletable": false,
    "id": "wvixALnFG15m"
   },
   "outputs": [
    {
     "name": "stdout",
     "output_type": "stream",
     "text": [
      "['acid' 'acoustic' 'action' 'adult' 'africa' 'afrikaans' 'alternative'\n",
      " 'alternativepunk' 'ambient' 'americana' 'animated' 'anime' 'arabesk'\n",
      " 'arabic' 'arena' 'argentinetango' 'art' 'audiobook' 'author' 'avantgarde'\n",
      " 'axé' 'baile' 'balkan' 'beats' 'bigroom' 'black' 'bluegrass' 'blues'\n",
      " 'bollywood' 'bossa' 'brazilian' 'breakbeat' 'breaks' 'broadway'\n",
      " 'cantautori' 'cantopop' 'canzone' 'caribbean' 'caucasian' 'celtic'\n",
      " 'chamber' 'chanson' 'children' 'chill' 'chinese' 'choral' 'christian'\n",
      " 'christmas' 'classical' 'classicmetal' 'club' 'colombian' 'comedy'\n",
      " 'conjazz' 'contemporary' 'country' 'cuban' 'dance' 'dancehall' 'dancepop'\n",
      " 'dark' 'death' 'deep' 'deutschrock' 'deutschspr' 'dirty' 'disco' 'dnb'\n",
      " 'documentary' 'downbeat' 'downtempo' 'drum' 'dub' 'dubstep' 'eastern'\n",
      " 'easy' 'electronic' 'electropop' 'emo' 'entehno' 'epicmetal' 'estrada'\n",
      " 'ethnic' 'eurofolk' 'european' 'experimental' 'extrememetal' 'fado'\n",
      " 'fairytail' 'film' 'fitness' 'flamenco' 'folk' 'folklore' 'folkmetal'\n",
      " 'folkrock' 'folktronica' 'forró' 'frankreich' 'französisch' 'french'\n",
      " 'funk' 'future' 'gangsta' 'garage' 'german' 'ghazal' 'gitarre' 'glitch'\n",
      " 'gospel' 'gothic' 'grime' 'grunge' 'gypsy' 'handsup' \"hard'n'heavy\"\n",
      " 'hardcore' 'hardstyle' 'hardtechno' 'hiphop' 'historisch' 'holiday'\n",
      " 'horror' 'house' 'hymn' 'idm' 'independent' 'indian' 'indie' 'indipop'\n",
      " 'industrial' 'inspirational' 'instrumental' 'international' 'irish' 'jam'\n",
      " 'japanese' 'jazz' 'jewish' 'jpop' 'jungle' 'k-pop' 'karadeniz' 'karaoke'\n",
      " 'kayokyoku' 'korean' 'laiko' 'latin' 'latino' 'leftfield' 'local'\n",
      " 'lounge' 'loungeelectronic' 'lovers' 'malaysian' 'mandopop' 'marschmusik'\n",
      " 'meditative' 'mediterranean' 'melodic' 'metal' 'metalcore' 'mexican'\n",
      " 'middle' 'minimal' 'miscellaneous' 'modern' 'mood' 'mpb' 'muslim'\n",
      " 'native' 'neoklassik' 'neue' 'new' 'newage' 'newwave' 'nu' 'nujazz'\n",
      " 'numetal' 'oceania' 'old' 'opera' 'orchestral' 'other' 'piano' 'podcasts'\n",
      " 'pop' 'popdance' 'popelectronic' 'popeurodance' 'poprussian' 'post'\n",
      " 'posthardcore' 'postrock' 'power' 'progmetal' 'progressive' 'psychedelic'\n",
      " 'punjabi' 'punk' 'quebecois' 'ragga' 'ram' 'rancheras' 'rap' 'rave'\n",
      " 'reggae' 'reggaeton' 'regional' 'relax' 'religious' 'retro' 'rhythm'\n",
      " 'rnb' 'rnr' 'rock' 'rockabilly' 'rockalternative' 'rockindie' 'rockother'\n",
      " 'romance' 'roots' 'ruspop' 'rusrap' 'rusrock' 'russian' 'salsa' 'samba'\n",
      " 'scenic' 'schlager' 'self' 'sertanejo' 'shanson' 'shoegazing' 'showtunes'\n",
      " 'singer' 'ska' 'skarock' 'slow' 'smooth' 'soft' 'soul' 'soulful' 'sound'\n",
      " 'soundtrack' 'southern' 'specialty' 'speech' 'spiritual' 'sport'\n",
      " 'stonerrock' 'surf' 'swing' 'synthpop' 'synthrock' 'sängerportrait'\n",
      " 'tango' 'tanzorchester' 'taraftar' 'tatar' 'tech' 'techno' 'teen'\n",
      " 'thrash' 'top' 'traditional' 'tradjazz' 'trance' 'tribal' 'trip'\n",
      " 'triphop' 'tropical' 'türk' 'türkçe' 'ukrrock' 'unknown' 'urban' 'uzbek'\n",
      " 'variété' 'vi' 'videogame' 'vocal' 'western' 'world' 'worldbeat' 'ïîï'\n",
      " 'электроника']\n"
     ]
    }
   ],
   "source": [
    "genre_unique = df['genre'].sort_values() # сортируем столбец 'genre'\n",
    "\n",
    "genre_unique = genre_unique.unique() # возвращаем уникальные названия жанров\n",
    "\n",
    "print(genre_unique) # просмотр уникальных названий жанров"
   ]
  },
  {
   "cell_type": "markdown",
   "metadata": {
    "deletable": false,
    "editable": false,
    "id": "jz6a9-7HQUDd"
   },
   "source": [
    "**Выводы**\n",
    "\n",
    "Предобработка обнаружила три проблемы в данных:\n",
    "\n",
    "- нарушения в стиле заголовков,\n",
    "- пропущенные значения,\n",
    "- дубликаты — явные и неявные.\n",
    "\n",
    "Вы исправили заголовки, чтобы упростить работу с таблицей. Без дубликатов исследование станет более точным.\n",
    "\n",
    "Пропущенные значения вы заменили на `'unknown'`. Ещё предстоит увидеть, не повредят ли исследованию пропуски в колонке `genre`.\n",
    "\n",
    "Теперь можно перейти к проверке гипотез. "
   ]
  },
  {
   "cell_type": "markdown",
   "metadata": {
    "deletable": false,
    "editable": false,
    "id": "WttZHXH0SqKk"
   },
   "source": [
    "## Проверка гипотез"
   ]
  },
  {
   "cell_type": "markdown",
   "metadata": {
    "deletable": false,
    "editable": false,
    "id": "Im936VVi_Zcu"
   },
   "source": [
    "### Сравнение поведения пользователей двух столиц"
   ]
  },
  {
   "cell_type": "markdown",
   "metadata": {
    "deletable": false,
    "editable": false,
    "id": "nwt_MuaL_Zcu"
   },
   "source": [
    "Первая гипотеза утверждает, что пользователи по-разному слушают музыку в Москве и Санкт-Петербурге. Проверьте это предположение по данным о трёх днях недели — понедельнике, среде и пятнице. Для этого:\n",
    "\n",
    "* Разделите пользователей Москвы и Санкт-Петербурга\n",
    "* Сравните, сколько треков послушала каждая группа пользователей в понедельник, среду и пятницу.\n"
   ]
  },
  {
   "cell_type": "markdown",
   "metadata": {
    "deletable": false,
    "editable": false,
    "id": "8Dw_YMmT_Zcu",
    "tags": [
     "start_task"
    ]
   },
   "source": [
    "**Задание 18**\n",
    "\n",
    "Для тренировки сначала выполните каждый из расчётов по отдельности. \n",
    "\n",
    "Оцените активность пользователей в каждом городе. Сгруппируйте данные по городу и посчитайте прослушивания в каждой группе.\n",
    "\n"
   ]
  },
  {
   "cell_type": "code",
   "execution_count": null,
   "metadata": {},
   "outputs": [],
   "source": []
  },
  {
   "cell_type": "code",
   "execution_count": 20,
   "metadata": {},
   "outputs": [
    {
     "name": "stdout",
     "output_type": "stream",
     "text": [
      "city\n",
      "Moscow              42741\n",
      "Saint-Petersburg    18512\n",
      "Name: genre, dtype: int64\n"
     ]
    }
   ],
   "source": [
    "# Подсчёт прослушиваний в каждом городе\n",
    "\n",
    "\n",
    "city_grouping = df.groupby('city')['genre'] # группируем по городам\n",
    " \n",
    "city_counting = city_grouping.count() # считаем количество прослушиваний\n",
    "print(city_counting)\n",
    "                           "
   ]
  },
  {
   "cell_type": "code",
   "execution_count": 21,
   "metadata": {
    "deletable": false,
    "id": "0_Qs96oh_Zcu",
    "scrolled": true
   },
   "outputs": [
    {
     "data": {
      "text/plain": [
       "city              day      \n",
       "Moscow            Friday       15945\n",
       "                  Monday       15740\n",
       "                  Wednesday    11056\n",
       "Saint-Petersburg  Friday        5895\n",
       "                  Monday        5614\n",
       "                  Wednesday     7003\n",
       "Name: user_id, dtype: int64"
      ]
     },
     "execution_count": 21,
     "metadata": {},
     "output_type": "execute_result"
    }
   ],
   "source": [
    "oioioi = df.groupby(['city','day'])['user_id'].count()\n",
    "oioioi"
   ]
  },
  {
   "cell_type": "markdown",
   "metadata": {
    "deletable": false,
    "editable": false,
    "id": "dzli3w8o_Zcu",
    "tags": [
     "start_task"
    ]
   },
   "source": [
    "В Москве прослушиваний больше, чем в Петербурге. Из этого не следует, что московские пользователи чаще слушают музыку. Просто самих пользователей в Москве больше.\n",
    "\n",
    "**Задание 19**\n",
    "\n",
    "Теперь сгруппируйте данные по дню недели и подсчитайте прослушивания в понедельник, среду и пятницу. Учтите, что в данных есть информация только о прослушиваниях только за эти дни.\n"
   ]
  },
  {
   "cell_type": "code",
   "execution_count": 22,
   "metadata": {
    "deletable": false,
    "id": "uZMKjiJz_Zcu"
   },
   "outputs": [
    {
     "name": "stdout",
     "output_type": "stream",
     "text": [
      "day\n",
      "Friday       21840\n",
      "Monday       21354\n",
      "Wednesday    18059\n",
      "Name: genre, dtype: int64\n"
     ]
    }
   ],
   "source": [
    "# Подсчёт прослушиваний в каждый из трёх дней\n",
    "\n",
    "day_grouping = df.groupby('day')['genre'] # группируем по дням\n",
    " \n",
    "day_counting = day_grouping.count() # считаем количество прослушиваний\n",
    "print(day_counting)"
   ]
  },
  {
   "cell_type": "markdown",
   "metadata": {
    "deletable": false,
    "editable": false,
    "id": "cC2tNrlL_Zcu"
   },
   "source": [
    "В среднем пользователи из двух городов менее активны по средам. Но картина может измениться, если рассмотреть каждый город в отдельности."
   ]
  },
  {
   "cell_type": "markdown",
   "metadata": {
    "deletable": false,
    "editable": false,
    "id": "POzs8bGa_Zcu",
    "tags": [
     "start_task"
    ]
   },
   "source": [
    "**Задание 20**\n",
    "\n",
    "\n",
    "Вы видели, как работает группировка по городу и по дням недели. Теперь напишите функцию, которая объединит два эти расчёта.\n",
    "\n",
    "Создайте функцию `number_tracks()`, которая посчитает прослушивания для заданного дня и города. Ей понадобятся два параметра:\n",
    "* день недели,\n",
    "* название города.\n",
    "\n",
    "В функции сохраните в переменную строки исходной таблицы, у которых значение:\n",
    "  * в колонке `day` равно параметру `day`,\n",
    "  * в колонке `city` равно параметру `city`.\n",
    "\n",
    "Для этого примените последовательную фильтрацию с логической индексацией (или сложные логические выражения в одну строку, если вы уже знакомы с ними).\n",
    "\n",
    "Затем посчитайте значения в столбце `user_id` получившейся таблицы. Результат сохраните в новую переменную. Верните эту переменную из функции."
   ]
  },
  {
   "cell_type": "code",
   "execution_count": 23,
   "metadata": {
    "deletable": false,
    "id": "Nz3GdQB1_Zcu"
   },
   "outputs": [],
   "source": [
    "def number_tracks(day, city): # <создание функции number_tracks()>\n",
    "# Объявляется функция с двумя параметрами: day, city.\n",
    "# В переменной track_list сохраняются те строки таблицы df, для которых \n",
    "# значение в столбце 'day' равно параметру day и одновременно значение\n",
    "#    track_list = df[(df['day'] == day) & (df['city'] == city)] \n",
    "# в столбце 'city' равно параметру city (используйте последовательную фильтрацию\n",
    "# track_list = track_list[track_list['city'] == city]\n",
    "# с помощью логической индексации или сложные логические выражения в одну строку, если вы уже знакомы с ними).\n",
    "# В переменной track_list_count сохраняется число значений столбца 'user_id',\n",
    "# рассчитанное методом count() для таблицы track_list.\n",
    "#    track_list_count = track_list.groupby('user_id')['user_id'].count()\n",
    "#    return track_list_count\n",
    "\n",
    "    track_list = df[df['day'] == day]\n",
    "    track_list = track_list[track_list['city'] == city]\n",
    "    track_list_count = track_list.count()['user_id']\n",
    "    return track_list_count\n",
    "# Функция возвращает число - значение track_list_count.\n",
    "\n",
    "# Функция для подсчёта прослушиваний для конкретного города и дня.\n",
    "# С помощью последовательной фильтрации с логической индексацией она \n",
    "# сначала получит из исходной таблицы строки с нужным днём,\n",
    "# затем из результата отфильтрует строки с нужным городом,\n",
    "# методом count() посчитает количество значений в колонке user_id. \n",
    "# Это количество функция вернёт в качестве результата"
   ]
  },
  {
   "cell_type": "markdown",
   "metadata": {
    "deletable": false,
    "editable": false,
    "id": "ytf7xFrFJQ2r",
    "tags": [
     "start_task"
    ]
   },
   "source": [
    "**Задание 21**\n",
    "\n",
    "Вызовите `number_tracks()` шесть раз, меняя значение параметров — так, чтобы получить данные для каждого города в каждый из трёх дней."
   ]
  },
  {
   "cell_type": "code",
   "execution_count": 24,
   "metadata": {
    "deletable": false,
    "id": "rJcRATNQ_Zcu"
   },
   "outputs": [
    {
     "data": {
      "text/plain": [
       "15740"
      ]
     },
     "execution_count": 24,
     "metadata": {},
     "output_type": "execute_result"
    }
   ],
   "source": [
    "\n",
    "number_tracks('Monday', 'Moscow') # количество прослушиваний в Москве по понедельникам"
   ]
  },
  {
   "cell_type": "code",
   "execution_count": 25,
   "metadata": {
    "deletable": false,
    "id": "hq_ncZ5T_Zcu"
   },
   "outputs": [
    {
     "data": {
      "text/plain": [
       "5614"
      ]
     },
     "execution_count": 25,
     "metadata": {},
     "output_type": "execute_result"
    }
   ],
   "source": [
    "number_tracks('Monday', 'Saint-Petersburg') # количество прослушиваний в Санкт-Петербурге по понедельникам"
   ]
  },
  {
   "cell_type": "code",
   "execution_count": 26,
   "metadata": {
    "deletable": false,
    "id": "_NTy2VPU_Zcu"
   },
   "outputs": [
    {
     "data": {
      "text/plain": [
       "11056"
      ]
     },
     "execution_count": 26,
     "metadata": {},
     "output_type": "execute_result"
    }
   ],
   "source": [
    "number_tracks('Wednesday', 'Moscow') # количество прослушиваний в Москве по средам"
   ]
  },
  {
   "cell_type": "code",
   "execution_count": 27,
   "metadata": {
    "deletable": false,
    "id": "j2y3TAwo_Zcu"
   },
   "outputs": [
    {
     "data": {
      "text/plain": [
       "7003"
      ]
     },
     "execution_count": 27,
     "metadata": {},
     "output_type": "execute_result"
    }
   ],
   "source": [
    "number_tracks('Wednesday', 'Saint-Petersburg') # количество прослушиваний в Санкт-Петербурге по средам"
   ]
  },
  {
   "cell_type": "code",
   "execution_count": 28,
   "metadata": {
    "deletable": false,
    "id": "vYDw5u_K_Zcu"
   },
   "outputs": [
    {
     "data": {
      "text/plain": [
       "15945"
      ]
     },
     "execution_count": 28,
     "metadata": {},
     "output_type": "execute_result"
    }
   ],
   "source": [
    "number_tracks('Friday', 'Moscow')# количество прослушиваний в Москве по пятницам"
   ]
  },
  {
   "cell_type": "code",
   "execution_count": 29,
   "metadata": {
    "deletable": false,
    "id": "8_yzFtW3_Zcu"
   },
   "outputs": [
    {
     "data": {
      "text/plain": [
       "5895"
      ]
     },
     "execution_count": 29,
     "metadata": {},
     "output_type": "execute_result"
    }
   ],
   "source": [
    "number_tracks('Friday', 'Saint-Petersburg') # количество прослушиваний в Санкт-Петербурге по пятницам"
   ]
  },
  {
   "cell_type": "markdown",
   "metadata": {
    "deletable": false,
    "editable": false,
    "id": "7QXffbO-_Zcu",
    "tags": [
     "start_task"
    ]
   },
   "source": [
    "**Задание 22**\n",
    "\n",
    "Создайте c помощью конструктора `pd.DataFrame` таблицу, где\n",
    "* названия колонок — `['city', 'monday', 'wednesday', 'friday']`;\n",
    "* данные — результаты, которые вы получили с помощью `number_tracks`."
   ]
  },
  {
   "cell_type": "code",
   "execution_count": 30,
   "metadata": {
    "deletable": false,
    "id": "APAcLpOr_Zcu"
   },
   "outputs": [
    {
     "name": "stdout",
     "output_type": "stream",
     "text": [
      "               city  monday  wednesday  friday\n",
      "0            Moscow   15740      11056   15945\n",
      "1  Saint-Petersburg    5614       7003    5895\n"
     ]
    }
   ],
   "source": [
    "columns = ['city', 'monday', 'wednesday', 'friday']\n",
    "data = [['Moscow', 15740, 11056, 15945], ['Saint-Petersburg', 5614, 7003, 5895]]\n",
    "info = pd.DataFrame(data = data, columns = columns) # Таблица с результатами\n",
    "print(info)"
   ]
  },
  {
   "cell_type": "markdown",
   "metadata": {
    "deletable": false,
    "editable": false,
    "id": "-EgPIHYu_Zcu"
   },
   "source": [
    "**Выводы**\n",
    "\n",
    "Данные показывают разницу поведения пользователей:\n",
    "\n",
    "- В Москве пик прослушиваний приходится на понедельник и пятницу, а в среду заметен спад.\n",
    "- В Петербурге, наоборот, больше слушают музыку по средам. Активность в понедельник и пятницу здесь почти в равной мере уступает среде.\n",
    "\n",
    "Значит, данные говорят в пользу первой гипотезы."
   ]
  },
  {
   "cell_type": "markdown",
   "metadata": {
    "deletable": false,
    "editable": false,
    "id": "atZAxtq4_Zcu"
   },
   "source": [
    "### Музыка в начале и в конце недели"
   ]
  },
  {
   "cell_type": "markdown",
   "metadata": {
    "deletable": false,
    "editable": false,
    "id": "eXrQqXFH_Zcu"
   },
   "source": [
    "Согласно второй гипотезе, утром в понедельник в Москве преобладают одни жанры, а в Петербурге — другие. Так же и вечером пятницы преобладают разные жанры — в зависимости от города."
   ]
  },
  {
   "cell_type": "markdown",
   "metadata": {
    "deletable": false,
    "editable": false,
    "id": "S8UcW6Hw_Zcu",
    "tags": [
     "start_task"
    ]
   },
   "source": [
    "**Задание 23**\n",
    "\n",
    "Сохраните таблицы с данными в две переменные:\n",
    "* по Москве — в `moscow_general`;\n",
    "* по Санкт-Петербургу — в `spb_general`."
   ]
  },
  {
   "cell_type": "code",
   "execution_count": 31,
   "metadata": {
    "deletable": false,
    "id": "qeaFfM_P_Zcu"
   },
   "outputs": [],
   "source": [
    "# получение таблицы moscow_general из тех строк таблицы df, \n",
    "# для которых значение в столбце 'city' равно 'Moscow'\n",
    "moscow_general = df[df['city'] == 'Moscow']\n"
   ]
  },
  {
   "cell_type": "code",
   "execution_count": 32,
   "metadata": {
    "deletable": false,
    "id": "ORaVRKto_Zcu"
   },
   "outputs": [],
   "source": [
    "# получение таблицы spb_general из тех строк таблицы df,\n",
    "# для которых значение в столбце 'city' равно 'Saint-Petersburg'\n",
    "spb_general = df[df['city'] == 'Saint-Petersburg']\n"
   ]
  },
  {
   "cell_type": "markdown",
   "metadata": {
    "deletable": false,
    "id": "MEJV-CX2_Zcu",
    "tags": [
     "start_task"
    ]
   },
   "source": [
    "**Задание 24**\n",
    "\n",
    "Создайте функцию `genre_weekday()` с четырьмя параметрами:\n",
    "* таблица (датафрейм) с данными,\n",
    "* день недели,\n",
    "* начальная временная метка в формате 'hh:mm', \n",
    "* последняя временная метка в формате 'hh:mm'.\n",
    "\n",
    "Функция должна вернуть информацию о топ-10 жанров тех треков, которые прослушивали в указанный день, в промежутке между двумя отметками времени."
   ]
  },
  {
   "cell_type": "code",
   "execution_count": 33,
   "metadata": {
    "deletable": false,
    "id": "laJT9BYl_Zcu"
   },
   "outputs": [],
   "source": [
    "# Объявление функции genre_weekday() с параметрами table, day, time1, time2,\n",
    "# которая возвращает информацию о самых популярных жанрах в указанный день в\n",
    "# заданное время:\n",
    "# 1) в переменную genre_df сохраняются те строки переданного датафрейма table, для\n",
    "#    которых одновременно:\n",
    "#    - значение в столбце day равно значению аргумента day\n",
    "#    - значение в столбце time больше значения аргумента time1\n",
    "#    - значение в столбце time меньше значения аргумента time2\n",
    "#    Используйте последовательную фильтрацию с помощью логической индексации.\n",
    "# 2) сгруппировать датафрейм genre_df по столбцу genre, взять один из его\n",
    "#    столбцов и посчитать методом count() количество записей для каждого из\n",
    "#    присутствующих жанров, получившийся Series записать в переменную\n",
    "#    genre_df_count\n",
    "# 3) отсортировать genre_df_count по убыванию встречаемости и сохранить\n",
    "#    в переменную genre_df_sorted\n",
    "# 4) вернуть Series из 10 первых значений genre_df_sorted, это будут топ-10\n",
    "#    популярных жанров (в указанный день, в заданное время)\n",
    "\n",
    "def genre_weekday(df, day, time1, time2):\n",
    "    # последовательная фильтрация\n",
    "    # оставляем в genre_df только те строки df, у которых день равен day\n",
    "    genre_df = df[df['day'] == day]  # ваш код здесь\n",
    "    # оставляем в genre_df только те строки genre_df, у которых время меньше time2\n",
    "    genre_df = genre_df[genre_df['time'] < time2] # ваш код здесь\n",
    "    # оставляем в genre_df только те строки genre_df, у которых время больше time1\n",
    "    genre_df = genre_df[genre_df['time'] > time1] # ваш код здесь\n",
    "    # сгруппируем отфильтрованный датафрейм по столбцу с названиями жанров, возьмём столбец genre_name и посчитаем кол-во строк для каждого жанра методом count()\n",
    "    genre_df_grouped = genre_df.groupby('genre')['genre'].count() # ваш код здесь\n",
    "    # отсортируем результат по убыванию (чтобы в начале Series оказались самые популярные жанры)\n",
    "    genre_df_sorted = genre_df_grouped.sort_values(ascending=False)  # ваш код здесь\n",
    "    # вернём Series с 10 самыми популярными жанрами в указанный отрезок времени заданного дня\n",
    "    return genre_df_sorted[:10]"
   ]
  },
  {
   "cell_type": "markdown",
   "metadata": {
    "deletable": false,
    "editable": false,
    "id": "la2s2_PF_Zcu",
    "tags": [
     "start_task"
    ]
   },
   "source": [
    "**Задание 25**\n",
    "\n",
    "\n",
    "Cравните результаты функции `genre_weekday()` для Москвы и Санкт-Петербурга в понедельник утром (с 7:00 до 11:00) и в пятницу вечером (с 17:00 до 23:00):"
   ]
  },
  {
   "cell_type": "code",
   "execution_count": 34,
   "metadata": {
    "deletable": false,
    "id": "yz7itPUQ_Zcu"
   },
   "outputs": [
    {
     "data": {
      "text/plain": [
       "genre\n",
       "pop            781\n",
       "dance          549\n",
       "electronic     480\n",
       "rock           474\n",
       "hiphop         286\n",
       "ruspop         186\n",
       "world          181\n",
       "rusrap         175\n",
       "alternative    164\n",
       "unknown        161\n",
       "Name: genre, dtype: int64"
      ]
     },
     "execution_count": 34,
     "metadata": {},
     "output_type": "execute_result"
    }
   ],
   "source": [
    "genre_weekday(moscow_general, 'Monday', '07:00', '11:00') # вызов функции для утра понедельника в Москве (вместо df — таблица moscow_general)\n",
    "# объекты, хранящие время, являются строками и сравниваются как строки\n",
    "# пример вызова: genre_weekday(moscow_general, 'Monday', '07:00', '11:00')"
   ]
  },
  {
   "cell_type": "code",
   "execution_count": 35,
   "metadata": {
    "deletable": false,
    "id": "kwUcHPdy_Zcu"
   },
   "outputs": [
    {
     "data": {
      "text/plain": [
       "genre\n",
       "pop            218\n",
       "dance          182\n",
       "rock           162\n",
       "electronic     147\n",
       "hiphop          80\n",
       "ruspop          64\n",
       "alternative     58\n",
       "rusrap          55\n",
       "jazz            44\n",
       "classical       40\n",
       "Name: genre, dtype: int64"
      ]
     },
     "execution_count": 35,
     "metadata": {},
     "output_type": "execute_result"
    }
   ],
   "source": [
    "genre_weekday(spb_general, 'Monday', '07:00', '11:00') # вызов функции для утра понедельника в Петербурге (вместо df — таблица spb_general)"
   ]
  },
  {
   "cell_type": "code",
   "execution_count": 36,
   "metadata": {
    "deletable": false,
    "id": "EzXVRE1o_Zcu"
   },
   "outputs": [
    {
     "data": {
      "text/plain": [
       "genre\n",
       "pop            713\n",
       "rock           517\n",
       "dance          495\n",
       "electronic     482\n",
       "hiphop         273\n",
       "world          208\n",
       "ruspop         170\n",
       "alternative    163\n",
       "classical      163\n",
       "rusrap         142\n",
       "Name: genre, dtype: int64"
      ]
     },
     "execution_count": 36,
     "metadata": {},
     "output_type": "execute_result"
    }
   ],
   "source": [
    "genre_weekday(moscow_general, 'Friday', '17:00', '23:00') # вызов функции для вечера пятницы в Москве"
   ]
  },
  {
   "cell_type": "code",
   "execution_count": 37,
   "metadata": {
    "deletable": false,
    "id": "JZaEKu5v_Zcu"
   },
   "outputs": [
    {
     "data": {
      "text/plain": [
       "genre\n",
       "pop            256\n",
       "electronic     216\n",
       "rock           216\n",
       "dance          210\n",
       "hiphop          97\n",
       "alternative     63\n",
       "jazz            61\n",
       "classical       60\n",
       "rusrap          59\n",
       "world           54\n",
       "Name: genre, dtype: int64"
      ]
     },
     "execution_count": 37,
     "metadata": {},
     "output_type": "execute_result"
    }
   ],
   "source": [
    "genre_weekday(spb_general, 'Friday', '17:00', '23:00') # вызов функции для вечера пятницы в Петербурге"
   ]
  },
  {
   "cell_type": "markdown",
   "metadata": {
    "deletable": false,
    "editable": false,
    "id": "wrCe4MNX_Zcu"
   },
   "source": [
    "**Выводы**\n",
    "\n",
    "Если сравнить топ-10 жанров в понедельник утром, можно сделать такие выводы:\n",
    "\n",
    "1. В Москве и Петербурге слушают похожую музыку. Единственное отличие — в московский рейтинг вошёл жанр “world”, а в петербургский — джаз и классика.\n",
    "\n",
    "2. В Москве пропущенных значений оказалось так много, что значение `'unknown'` заняло десятое место среди самых популярных жанров. Значит, пропущенные значения занимают существенную долю в данных и угрожают достоверности исследования.\n",
    "\n",
    "Вечер пятницы не меняет эту картину. Некоторые жанры поднимаются немного выше, другие спускаются, но в целом топ-10 остаётся тем же самым.\n",
    "\n",
    "Таким образом, вторая гипотеза подтвердилась лишь частично:\n",
    "* Пользователи слушают похожую музыку в начале недели и в конце.\n",
    "* Разница между Москвой и Петербургом не слишком выражена. В Москве чаще слушают русскую популярную музыку, в Петербурге — джаз.\n",
    "\n",
    "Однако пропуски в данных ставят под сомнение этот результат. В Москве их так много, что рейтинг топ-10 мог бы выглядеть иначе, если бы не утерянные  данные о жанрах."
   ]
  },
  {
   "cell_type": "markdown",
   "metadata": {
    "deletable": false,
    "editable": false,
    "id": "JolODAqr_Zcu"
   },
   "source": [
    "### Жанровые предпочтения в Москве и Петербурге\n",
    "\n",
    "Гипотеза: Петербург — столица рэпа, музыку этого жанра там слушают чаще, чем в Москве.  А Москва — город контрастов, в котором, тем не менее, преобладает поп-музыка."
   ]
  },
  {
   "cell_type": "markdown",
   "metadata": {
    "deletable": false,
    "editable": false,
    "id": "DlegSvaT_Zcu",
    "tags": [
     "start_task"
    ]
   },
   "source": [
    "**Задание 26**\n",
    "\n",
    "Сгруппируйте таблицу `moscow_general` по жанру и посчитайте прослушивания треков каждого жанра методом `count()`. Затем отсортируйте результат в порядке убывания и сохраните его в таблице `moscow_genres`."
   ]
  },
  {
   "cell_type": "code",
   "execution_count": 38,
   "metadata": {
    "deletable": false,
    "id": "r19lIPke_Zcu"
   },
   "outputs": [],
   "source": [
    "moscow_genres = moscow_general.groupby('genre')['genre'].count().sort_values(ascending=False) # одной строкой: группировка таблицы moscow_general по столбцу 'genre', \n",
    "# подсчёт числа значений 'genre' в этой группировке методом count(), \n",
    "# сортировка получившегося Series в порядке убывания и сохранение в moscow_genres"
   ]
  },
  {
   "cell_type": "markdown",
   "metadata": {
    "deletable": false,
    "editable": false,
    "id": "6kMuomxTiIr8",
    "tags": [
     "start_task"
    ]
   },
   "source": [
    "**Задание 27**\n",
    "\n",
    "Выведите на экран первые десять строк `moscow_genres`:"
   ]
  },
  {
   "cell_type": "code",
   "execution_count": 39,
   "metadata": {
    "deletable": false,
    "id": "WhCSooF8_Zcv"
   },
   "outputs": [
    {
     "name": "stdout",
     "output_type": "stream",
     "text": [
      "genre\n",
      "pop            5892\n",
      "dance          4435\n",
      "rock           3965\n",
      "electronic     3786\n",
      "hiphop         2096\n",
      "classical      1616\n",
      "world          1432\n",
      "alternative    1379\n",
      "ruspop         1372\n",
      "rusrap         1161\n",
      "Name: genre, dtype: int64\n"
     ]
    }
   ],
   "source": [
    "print(moscow_genres.head(10)) # просмотр первых 10 строк moscow_genres"
   ]
  },
  {
   "cell_type": "markdown",
   "metadata": {
    "deletable": false,
    "editable": false,
    "id": "cnPG2vnN_Zcv",
    "tags": [
     "start_task"
    ]
   },
   "source": [
    "**Задание 28**\n",
    "\n",
    "\n",
    "Теперь повторите то же и для Петербурга.\n",
    "\n",
    "Сгруппируйте таблицу `spb_general` по жанру. Посчитайте прослушивания треков каждого жанра. Результат отсортируйте в порядке убывания и сохраните в таблице `spb_genres`:\n"
   ]
  },
  {
   "cell_type": "code",
   "execution_count": 40,
   "metadata": {
    "deletable": false,
    "id": "gluLIpE7_Zcv"
   },
   "outputs": [],
   "source": [
    "spb_genres = spb_general.groupby('genre')['genre'].count().sort_values(ascending=False)  # одной строкой: группировка таблицы spb_general по столбцу 'genre', \n",
    "# подсчёт числа значений 'genre' в этой группировке методом count(), \n",
    "# сортировка получившегося Series в порядке убывания и сохранение в spb_genres"
   ]
  },
  {
   "cell_type": "markdown",
   "metadata": {
    "deletable": false,
    "editable": false,
    "id": "5Doha_ODgyQ8",
    "tags": [
     "start_task"
    ]
   },
   "source": [
    "**Задание 29**\n",
    "\n",
    "Выведите на экран первые десять строк `spb_genres`:"
   ]
  },
  {
   "cell_type": "code",
   "execution_count": 41,
   "metadata": {
    "deletable": false,
    "id": "uaGJHjVU_Zcv"
   },
   "outputs": [
    {
     "name": "stdout",
     "output_type": "stream",
     "text": [
      "genre\n",
      "pop            2431\n",
      "dance          1932\n",
      "rock           1879\n",
      "electronic     1736\n",
      "hiphop          960\n",
      "alternative     649\n",
      "classical       646\n",
      "rusrap          564\n",
      "ruspop          538\n",
      "world           515\n",
      "Name: genre, dtype: int64\n"
     ]
    }
   ],
   "source": [
    "print(spb_genres.head(10)) # просмотр первых 10 строк spb_genres"
   ]
  },
  {
   "cell_type": "markdown",
   "metadata": {
    "deletable": false,
    "editable": false,
    "id": "RY51YJYu_Zcv"
   },
   "source": [
    "**Выводы**"
   ]
  },
  {
   "cell_type": "markdown",
   "metadata": {
    "deletable": false,
    "editable": false,
    "id": "nVhnJEm__Zcv"
   },
   "source": [
    "Гипотеза частично подтвердилась:\n",
    "* Поп-музыка — самый популярный жанр в Москве, как и предполагала гипотеза. Более того, в топ-10 жанров встречается близкий жанр — русская популярная музыка.\n",
    "* Вопреки ожиданиям, рэп одинаково популярен в Москве и Петербурге. \n"
   ]
  },
  {
   "cell_type": "markdown",
   "metadata": {
    "deletable": false,
    "editable": false,
    "id": "ykKQ0N65_Zcv"
   },
   "source": [
    "## Итоги исследования"
   ]
  },
  {
   "cell_type": "markdown",
   "metadata": {
    "deletable": false,
    "editable": false,
    "id": "tjUwbHb3_Zcv"
   },
   "source": [
    "Вы проверили три гипотезы и установили:\n",
    "\n",
    "1. День недели по-разному влияет на активность пользователей в Москве и Петербурге. \n",
    "\n",
    "Первая гипотеза полностью подтвердилась.\n",
    "\n",
    "2. Музыкальные предпочтения не сильно меняются в течение недели — будь то Москва или Петербург. Небольшие различия заметны в начале недели, по понедельникам:\n",
    "* в Москве слушают музыку жанра “world”,\n",
    "* в Петербурге — джаз и классику.\n",
    "\n",
    "Таким образом, вторая гипотеза подтвердилась лишь отчасти. Этот результат мог оказаться иным, если бы не пропуски в данных.\n",
    "\n",
    "3. Во вкусах пользователей Москвы и Петербурга больше общего чем различий. Вопреки ожиданиям, предпочтения жанров в Петербурге напоминают московские.\n",
    "\n",
    "Третья гипотеза не подтвердилась. Если различия в предпочтениях и существуют, на основной массе пользователей они незаметны.\n",
    "\n",
    "**На практике исследования содержат проверки статистических гипотез.**\n",
    "Из данных одного сервиса не всегда можно сделать вывод о всех жителях города.\n",
    "Проверки статистических гипотез покажут, насколько они достоверны, исходя из имеющихся данных. \n",
    "С методами проверок гипотез вы ещё познакомитесь в следующих темах."
   ]
  }
 ],
 "metadata": {
  "ExecuteTimeLog": [
   {
    "duration": 421,
    "start_time": "2022-05-22T19:17:52.118Z"
   },
   {
    "duration": 56,
    "start_time": "2022-05-23T16:59:46.122Z"
   },
   {
    "duration": 6,
    "start_time": "2022-05-23T17:02:30.549Z"
   },
   {
    "duration": 8,
    "start_time": "2022-05-23T17:07:29.069Z"
   },
   {
    "duration": 7,
    "start_time": "2022-05-23T17:08:20.205Z"
   },
   {
    "duration": 6,
    "start_time": "2022-05-23T17:17:52.198Z"
   },
   {
    "duration": 6,
    "start_time": "2022-05-23T17:18:13.650Z"
   },
   {
    "duration": 19,
    "start_time": "2022-05-23T17:24:53.667Z"
   },
   {
    "duration": 30,
    "start_time": "2022-05-23T17:26:43.261Z"
   },
   {
    "duration": 456,
    "start_time": "2022-05-23T17:32:57.798Z"
   },
   {
    "duration": 223,
    "start_time": "2022-05-23T17:32:58.256Z"
   },
   {
    "duration": 10,
    "start_time": "2022-05-23T17:32:58.481Z"
   },
   {
    "duration": 39,
    "start_time": "2022-05-23T17:32:58.493Z"
   },
   {
    "duration": 8,
    "start_time": "2022-05-23T17:32:58.534Z"
   },
   {
    "duration": 7,
    "start_time": "2022-05-23T17:32:58.544Z"
   },
   {
    "duration": 14,
    "start_time": "2022-05-23T17:32:58.553Z"
   },
   {
    "duration": 0,
    "start_time": "2022-05-23T17:32:58.570Z"
   },
   {
    "duration": 0,
    "start_time": "2022-05-23T17:32:58.571Z"
   },
   {
    "duration": 0,
    "start_time": "2022-05-23T17:32:58.572Z"
   },
   {
    "duration": 0,
    "start_time": "2022-05-23T17:32:58.573Z"
   },
   {
    "duration": 0,
    "start_time": "2022-05-23T17:32:58.574Z"
   },
   {
    "duration": 0,
    "start_time": "2022-05-23T17:32:58.575Z"
   },
   {
    "duration": 0,
    "start_time": "2022-05-23T17:32:58.576Z"
   },
   {
    "duration": 0,
    "start_time": "2022-05-23T17:32:58.577Z"
   },
   {
    "duration": 0,
    "start_time": "2022-05-23T17:32:58.578Z"
   },
   {
    "duration": 0,
    "start_time": "2022-05-23T17:32:58.579Z"
   },
   {
    "duration": 0,
    "start_time": "2022-05-23T17:32:58.580Z"
   },
   {
    "duration": 0,
    "start_time": "2022-05-23T17:32:58.581Z"
   },
   {
    "duration": 0,
    "start_time": "2022-05-23T17:32:58.582Z"
   },
   {
    "duration": 0,
    "start_time": "2022-05-23T17:32:58.582Z"
   },
   {
    "duration": 0,
    "start_time": "2022-05-23T17:32:58.583Z"
   },
   {
    "duration": 0,
    "start_time": "2022-05-23T17:32:58.584Z"
   },
   {
    "duration": 0,
    "start_time": "2022-05-23T17:32:58.585Z"
   },
   {
    "duration": 0,
    "start_time": "2022-05-23T17:32:58.586Z"
   },
   {
    "duration": 0,
    "start_time": "2022-05-23T17:32:58.587Z"
   },
   {
    "duration": 0,
    "start_time": "2022-05-23T17:32:58.587Z"
   },
   {
    "duration": 0,
    "start_time": "2022-05-23T17:32:58.588Z"
   },
   {
    "duration": 0,
    "start_time": "2022-05-23T17:32:58.589Z"
   },
   {
    "duration": 0,
    "start_time": "2022-05-23T17:32:58.590Z"
   },
   {
    "duration": 0,
    "start_time": "2022-05-23T17:32:58.590Z"
   },
   {
    "duration": 0,
    "start_time": "2022-05-23T17:32:58.591Z"
   },
   {
    "duration": 0,
    "start_time": "2022-05-23T17:32:58.591Z"
   },
   {
    "duration": 0,
    "start_time": "2022-05-23T17:32:58.592Z"
   },
   {
    "duration": 0,
    "start_time": "2022-05-23T17:32:58.592Z"
   },
   {
    "duration": 0,
    "start_time": "2022-05-23T17:32:58.593Z"
   },
   {
    "duration": 0,
    "start_time": "2022-05-23T17:32:58.593Z"
   },
   {
    "duration": 0,
    "start_time": "2022-05-23T17:32:58.623Z"
   },
   {
    "duration": 17,
    "start_time": "2022-05-23T17:34:03.618Z"
   },
   {
    "duration": 29,
    "start_time": "2022-05-23T17:38:12.117Z"
   },
   {
    "duration": 15,
    "start_time": "2022-05-23T17:42:07.024Z"
   },
   {
    "duration": 7,
    "start_time": "2022-05-23T17:43:38.586Z"
   },
   {
    "duration": 31,
    "start_time": "2022-05-23T17:46:39.283Z"
   },
   {
    "duration": 78,
    "start_time": "2022-05-23T17:54:04.510Z"
   },
   {
    "duration": 22,
    "start_time": "2022-05-23T17:55:41.285Z"
   },
   {
    "duration": 26,
    "start_time": "2022-05-23T17:56:28.848Z"
   },
   {
    "duration": 91,
    "start_time": "2022-05-23T17:58:39.013Z"
   },
   {
    "duration": 80,
    "start_time": "2022-05-23T18:00:00.618Z"
   },
   {
    "duration": 9,
    "start_time": "2022-05-23T18:04:01.295Z"
   },
   {
    "duration": 12,
    "start_time": "2022-05-23T18:04:57.687Z"
   },
   {
    "duration": 11,
    "start_time": "2022-05-23T18:06:03.113Z"
   },
   {
    "duration": 16,
    "start_time": "2022-05-23T18:06:12.737Z"
   },
   {
    "duration": 36,
    "start_time": "2022-05-23T18:07:55.613Z"
   },
   {
    "duration": 11,
    "start_time": "2022-05-23T18:08:19.312Z"
   },
   {
    "duration": 8,
    "start_time": "2022-05-23T18:08:45.682Z"
   },
   {
    "duration": 7,
    "start_time": "2022-05-23T18:10:14.662Z"
   },
   {
    "duration": 11,
    "start_time": "2022-05-23T18:11:17.284Z"
   },
   {
    "duration": 12,
    "start_time": "2022-05-23T18:11:30.410Z"
   },
   {
    "duration": 11,
    "start_time": "2022-05-23T18:14:09.562Z"
   },
   {
    "duration": 19,
    "start_time": "2022-05-23T18:18:29.289Z"
   },
   {
    "duration": 8,
    "start_time": "2022-05-23T18:19:46.477Z"
   },
   {
    "duration": 36,
    "start_time": "2022-05-23T18:21:33.687Z"
   },
   {
    "duration": 61,
    "start_time": "2022-05-23T18:28:13.628Z"
   },
   {
    "duration": 50,
    "start_time": "2022-05-23T18:31:29.705Z"
   },
   {
    "duration": 9,
    "start_time": "2022-05-23T18:43:02.399Z"
   },
   {
    "duration": 15,
    "start_time": "2022-05-23T18:43:32.866Z"
   },
   {
    "duration": 40,
    "start_time": "2022-05-23T18:44:44.522Z"
   },
   {
    "duration": 5,
    "start_time": "2022-05-23T18:45:15.468Z"
   },
   {
    "duration": 52,
    "start_time": "2022-05-23T18:46:08.422Z"
   },
   {
    "duration": 68,
    "start_time": "2022-05-23T18:47:56.626Z"
   },
   {
    "duration": 8,
    "start_time": "2022-05-23T19:08:40.790Z"
   },
   {
    "duration": 17,
    "start_time": "2022-05-23T19:09:44.350Z"
   },
   {
    "duration": 35,
    "start_time": "2022-05-23T19:10:07.993Z"
   },
   {
    "duration": 41,
    "start_time": "2022-05-23T19:11:41.910Z"
   },
   {
    "duration": 38,
    "start_time": "2022-05-23T19:13:18.366Z"
   },
   {
    "duration": 29,
    "start_time": "2022-05-23T19:13:39.163Z"
   },
   {
    "duration": 33,
    "start_time": "2022-05-23T19:14:03.851Z"
   },
   {
    "duration": 22,
    "start_time": "2022-05-23T19:19:47.045Z"
   },
   {
    "duration": 11,
    "start_time": "2022-05-23T19:19:59.597Z"
   },
   {
    "duration": 12,
    "start_time": "2022-05-23T19:27:00.658Z"
   },
   {
    "duration": 9,
    "start_time": "2022-05-24T04:22:41.012Z"
   },
   {
    "duration": 4,
    "start_time": "2022-05-24T04:23:02.933Z"
   },
   {
    "duration": 32,
    "start_time": "2022-05-24T04:24:45.536Z"
   },
   {
    "duration": 9,
    "start_time": "2022-05-24T16:55:20.455Z"
   },
   {
    "duration": 5,
    "start_time": "2022-05-24T16:55:25.775Z"
   },
   {
    "duration": 4,
    "start_time": "2022-05-24T17:14:46.487Z"
   },
   {
    "duration": 57,
    "start_time": "2022-05-24T17:15:03.992Z"
   },
   {
    "duration": 4,
    "start_time": "2022-05-24T17:22:46.374Z"
   },
   {
    "duration": 3,
    "start_time": "2022-05-24T17:24:15.262Z"
   },
   {
    "duration": 4,
    "start_time": "2022-05-24T17:43:04.265Z"
   },
   {
    "duration": 12,
    "start_time": "2022-05-24T17:44:59.713Z"
   },
   {
    "duration": 4,
    "start_time": "2022-05-24T17:49:30.848Z"
   },
   {
    "duration": 3,
    "start_time": "2022-05-24T17:56:14.190Z"
   },
   {
    "duration": 3,
    "start_time": "2022-05-24T18:05:02.605Z"
   },
   {
    "duration": 28,
    "start_time": "2022-05-24T18:07:35.651Z"
   },
   {
    "duration": 29,
    "start_time": "2022-05-24T18:08:02.179Z"
   },
   {
    "duration": 22,
    "start_time": "2022-05-24T18:08:45.654Z"
   },
   {
    "duration": 19,
    "start_time": "2022-05-24T18:09:18.524Z"
   },
   {
    "duration": 32,
    "start_time": "2022-05-24T18:11:00.626Z"
   },
   {
    "duration": 8,
    "start_time": "2022-05-24T18:17:27.988Z"
   },
   {
    "duration": 8,
    "start_time": "2022-05-24T18:19:19.826Z"
   },
   {
    "duration": 2,
    "start_time": "2022-05-24T18:19:21.093Z"
   },
   {
    "duration": 4,
    "start_time": "2022-05-24T18:19:49.248Z"
   },
   {
    "duration": 8,
    "start_time": "2022-05-24T18:20:04.689Z"
   },
   {
    "duration": 8,
    "start_time": "2022-05-24T18:22:52.842Z"
   },
   {
    "duration": 2,
    "start_time": "2022-05-24T18:22:54.608Z"
   },
   {
    "duration": 9,
    "start_time": "2022-05-24T18:22:57.799Z"
   },
   {
    "duration": 3,
    "start_time": "2022-05-24T18:23:09.868Z"
   },
   {
    "duration": 8,
    "start_time": "2022-05-24T18:23:13.675Z"
   },
   {
    "duration": 3,
    "start_time": "2022-05-24T18:23:39.353Z"
   },
   {
    "duration": 9,
    "start_time": "2022-05-24T18:23:44.116Z"
   },
   {
    "duration": 4,
    "start_time": "2022-05-24T18:23:51.293Z"
   },
   {
    "duration": 8,
    "start_time": "2022-05-24T18:23:56.884Z"
   },
   {
    "duration": 8,
    "start_time": "2022-05-24T18:30:32.340Z"
   },
   {
    "duration": 4,
    "start_time": "2022-05-24T18:34:00.845Z"
   },
   {
    "duration": 3,
    "start_time": "2022-05-24T18:34:03.789Z"
   },
   {
    "duration": 8,
    "start_time": "2022-05-24T18:34:07.468Z"
   },
   {
    "duration": 8,
    "start_time": "2022-05-24T18:34:09.855Z"
   },
   {
    "duration": 4,
    "start_time": "2022-05-24T18:35:33.352Z"
   },
   {
    "duration": 4,
    "start_time": "2022-05-24T18:35:35.908Z"
   },
   {
    "duration": 11,
    "start_time": "2022-05-24T18:35:38.900Z"
   },
   {
    "duration": 4,
    "start_time": "2022-05-24T18:38:28.599Z"
   },
   {
    "duration": 5,
    "start_time": "2022-05-24T18:38:31.007Z"
   },
   {
    "duration": 7,
    "start_time": "2022-05-24T18:38:34.251Z"
   },
   {
    "duration": 7,
    "start_time": "2022-05-24T18:40:11.182Z"
   },
   {
    "duration": 6,
    "start_time": "2022-05-24T18:45:57.312Z"
   },
   {
    "duration": 8,
    "start_time": "2022-05-24T18:50:29.609Z"
   },
   {
    "duration": 8,
    "start_time": "2022-05-24T18:52:31.876Z"
   },
   {
    "duration": 8,
    "start_time": "2022-05-24T18:53:45.080Z"
   },
   {
    "duration": 8,
    "start_time": "2022-05-24T18:53:49.526Z"
   },
   {
    "duration": 4,
    "start_time": "2022-05-24T19:02:12.692Z"
   },
   {
    "duration": 5,
    "start_time": "2022-05-24T19:02:15.296Z"
   },
   {
    "duration": 8,
    "start_time": "2022-05-24T19:02:20.291Z"
   },
   {
    "duration": 29,
    "start_time": "2022-05-24T19:09:27.087Z"
   },
   {
    "duration": 3,
    "start_time": "2022-05-24T19:09:49.076Z"
   },
   {
    "duration": 8,
    "start_time": "2022-05-24T19:09:55.743Z"
   },
   {
    "duration": 8,
    "start_time": "2022-05-24T19:10:39.772Z"
   },
   {
    "duration": 428,
    "start_time": "2022-05-24T19:11:27.619Z"
   },
   {
    "duration": 227,
    "start_time": "2022-05-24T19:11:28.048Z"
   },
   {
    "duration": 7,
    "start_time": "2022-05-24T19:11:28.277Z"
   },
   {
    "duration": 27,
    "start_time": "2022-05-24T19:11:28.286Z"
   },
   {
    "duration": 2,
    "start_time": "2022-05-24T19:11:28.314Z"
   },
   {
    "duration": 7,
    "start_time": "2022-05-24T19:11:28.318Z"
   },
   {
    "duration": 16,
    "start_time": "2022-05-24T19:11:28.327Z"
   },
   {
    "duration": 5,
    "start_time": "2022-05-24T19:11:28.344Z"
   },
   {
    "duration": 25,
    "start_time": "2022-05-24T19:11:28.352Z"
   },
   {
    "duration": 16,
    "start_time": "2022-05-24T19:11:28.379Z"
   },
   {
    "duration": 19,
    "start_time": "2022-05-24T19:11:28.396Z"
   },
   {
    "duration": 80,
    "start_time": "2022-05-24T19:11:28.416Z"
   },
   {
    "duration": 65,
    "start_time": "2022-05-24T19:11:28.498Z"
   },
   {
    "duration": 55,
    "start_time": "2022-05-24T19:11:28.565Z"
   },
   {
    "duration": 47,
    "start_time": "2022-05-24T19:11:28.621Z"
   },
   {
    "duration": 9,
    "start_time": "2022-05-24T19:11:28.670Z"
   },
   {
    "duration": 33,
    "start_time": "2022-05-24T19:11:28.681Z"
   },
   {
    "duration": 10,
    "start_time": "2022-05-24T19:11:28.715Z"
   },
   {
    "duration": 32,
    "start_time": "2022-05-24T19:11:28.726Z"
   },
   {
    "duration": 5,
    "start_time": "2022-05-24T19:11:28.760Z"
   },
   {
    "duration": 31,
    "start_time": "2022-05-24T19:11:28.767Z"
   },
   {
    "duration": 2,
    "start_time": "2022-05-24T19:11:28.800Z"
   },
   {
    "duration": 7,
    "start_time": "2022-05-24T19:11:28.803Z"
   },
   {
    "duration": 5,
    "start_time": "2022-05-24T19:11:28.811Z"
   },
   {
    "duration": 9,
    "start_time": "2022-05-24T19:11:28.817Z"
   },
   {
    "duration": 9,
    "start_time": "2022-05-24T19:11:28.827Z"
   },
   {
    "duration": 16,
    "start_time": "2022-05-24T19:11:28.837Z"
   },
   {
    "duration": 5,
    "start_time": "2022-05-24T19:11:28.855Z"
   },
   {
    "duration": 5,
    "start_time": "2022-05-24T19:11:28.861Z"
   },
   {
    "duration": 5,
    "start_time": "2022-05-24T19:11:28.868Z"
   },
   {
    "duration": 0,
    "start_time": "2022-05-24T19:11:28.875Z"
   },
   {
    "duration": 0,
    "start_time": "2022-05-24T19:11:28.876Z"
   },
   {
    "duration": 0,
    "start_time": "2022-05-24T19:11:28.877Z"
   },
   {
    "duration": 0,
    "start_time": "2022-05-24T19:11:28.878Z"
   },
   {
    "duration": 0,
    "start_time": "2022-05-24T19:11:28.879Z"
   },
   {
    "duration": 0,
    "start_time": "2022-05-24T19:11:28.880Z"
   },
   {
    "duration": 0,
    "start_time": "2022-05-24T19:11:28.881Z"
   },
   {
    "duration": 0,
    "start_time": "2022-05-24T19:11:28.882Z"
   },
   {
    "duration": 20,
    "start_time": "2022-05-24T19:11:53.479Z"
   },
   {
    "duration": 16,
    "start_time": "2022-05-24T19:12:43.425Z"
   },
   {
    "duration": 19,
    "start_time": "2022-05-24T19:13:23.187Z"
   },
   {
    "duration": 17,
    "start_time": "2022-05-24T19:14:00.672Z"
   },
   {
    "duration": 21,
    "start_time": "2022-05-24T19:14:33.026Z"
   },
   {
    "duration": 17,
    "start_time": "2022-05-24T19:14:56.781Z"
   },
   {
    "duration": 87,
    "start_time": "2022-05-24T19:35:06.114Z"
   },
   {
    "duration": 14,
    "start_time": "2022-05-24T19:35:57.803Z"
   },
   {
    "duration": 12,
    "start_time": "2022-05-24T19:36:23.612Z"
   },
   {
    "duration": 4,
    "start_time": "2022-05-24T19:47:20.677Z"
   },
   {
    "duration": 7,
    "start_time": "2022-05-24T19:47:41.818Z"
   },
   {
    "duration": 10,
    "start_time": "2022-05-24T19:51:31.971Z"
   },
   {
    "duration": 5,
    "start_time": "2022-05-24T19:55:30.738Z"
   },
   {
    "duration": 43,
    "start_time": "2022-05-24T20:14:45.207Z"
   },
   {
    "duration": 5,
    "start_time": "2022-05-24T20:15:20.277Z"
   },
   {
    "duration": 4,
    "start_time": "2022-05-24T20:29:04.288Z"
   },
   {
    "duration": 620,
    "start_time": "2022-05-25T04:25:28.236Z"
   },
   {
    "duration": 312,
    "start_time": "2022-05-25T04:25:28.858Z"
   },
   {
    "duration": 25,
    "start_time": "2022-05-25T04:25:29.178Z"
   },
   {
    "duration": 61,
    "start_time": "2022-05-25T04:25:29.209Z"
   },
   {
    "duration": 65,
    "start_time": "2022-05-25T04:25:29.272Z"
   },
   {
    "duration": 97,
    "start_time": "2022-05-25T04:25:29.354Z"
   },
   {
    "duration": 64,
    "start_time": "2022-05-25T04:25:29.454Z"
   },
   {
    "duration": 76,
    "start_time": "2022-05-25T04:25:29.521Z"
   },
   {
    "duration": 53,
    "start_time": "2022-05-25T04:25:29.603Z"
   },
   {
    "duration": 66,
    "start_time": "2022-05-25T04:25:29.660Z"
   },
   {
    "duration": 64,
    "start_time": "2022-05-25T04:25:29.728Z"
   },
   {
    "duration": 172,
    "start_time": "2022-05-25T04:25:29.794Z"
   },
   {
    "duration": 146,
    "start_time": "2022-05-25T04:25:29.974Z"
   },
   {
    "duration": 110,
    "start_time": "2022-05-25T04:25:30.124Z"
   },
   {
    "duration": 78,
    "start_time": "2022-05-25T04:25:30.240Z"
   },
   {
    "duration": 29,
    "start_time": "2022-05-25T04:25:30.320Z"
   },
   {
    "duration": 135,
    "start_time": "2022-05-25T04:25:30.353Z"
   },
   {
    "duration": 18,
    "start_time": "2022-05-25T04:25:30.493Z"
   },
   {
    "duration": 66,
    "start_time": "2022-05-25T04:25:30.513Z"
   },
   {
    "duration": 30,
    "start_time": "2022-05-25T04:25:30.587Z"
   },
   {
    "duration": 128,
    "start_time": "2022-05-25T04:25:30.619Z"
   },
   {
    "duration": 49,
    "start_time": "2022-05-25T04:25:30.749Z"
   },
   {
    "duration": 144,
    "start_time": "2022-05-25T04:25:30.804Z"
   },
   {
    "duration": 39,
    "start_time": "2022-05-25T04:25:30.958Z"
   },
   {
    "duration": 75,
    "start_time": "2022-05-25T04:25:30.999Z"
   },
   {
    "duration": 36,
    "start_time": "2022-05-25T04:25:31.084Z"
   },
   {
    "duration": 107,
    "start_time": "2022-05-25T04:25:31.127Z"
   },
   {
    "duration": 60,
    "start_time": "2022-05-25T04:25:31.244Z"
   },
   {
    "duration": 158,
    "start_time": "2022-05-25T04:25:31.311Z"
   },
   {
    "duration": 43,
    "start_time": "2022-05-25T04:25:31.484Z"
   },
   {
    "duration": 117,
    "start_time": "2022-05-25T04:25:31.529Z"
   },
   {
    "duration": 35,
    "start_time": "2022-05-25T04:25:31.653Z"
   },
   {
    "duration": 82,
    "start_time": "2022-05-25T04:25:31.694Z"
   },
   {
    "duration": 56,
    "start_time": "2022-05-25T04:25:31.779Z"
   },
   {
    "duration": 105,
    "start_time": "2022-05-25T04:25:31.837Z"
   },
   {
    "duration": 112,
    "start_time": "2022-05-25T04:25:31.945Z"
   },
   {
    "duration": 48,
    "start_time": "2022-05-25T04:25:32.061Z"
   },
   {
    "duration": 13,
    "start_time": "2022-05-25T04:25:32.113Z"
   },
   {
    "duration": 7,
    "start_time": "2022-05-25T16:58:21.238Z"
   },
   {
    "duration": 6,
    "start_time": "2022-05-25T16:59:53.792Z"
   },
   {
    "duration": 6,
    "start_time": "2022-05-25T17:01:45.927Z"
   },
   {
    "duration": 6,
    "start_time": "2022-05-25T17:02:04.994Z"
   },
   {
    "duration": 6,
    "start_time": "2022-05-25T17:03:48.848Z"
   },
   {
    "duration": 6,
    "start_time": "2022-05-25T17:05:36.022Z"
   },
   {
    "duration": 432,
    "start_time": "2022-05-25T17:05:57.505Z"
   },
   {
    "duration": 418,
    "start_time": "2022-05-25T17:05:57.939Z"
   },
   {
    "duration": 8,
    "start_time": "2022-05-25T17:05:58.359Z"
   },
   {
    "duration": 29,
    "start_time": "2022-05-25T17:05:58.368Z"
   },
   {
    "duration": 3,
    "start_time": "2022-05-25T17:05:58.399Z"
   },
   {
    "duration": 8,
    "start_time": "2022-05-25T17:05:58.403Z"
   },
   {
    "duration": 20,
    "start_time": "2022-05-25T17:05:58.413Z"
   },
   {
    "duration": 7,
    "start_time": "2022-05-25T17:05:58.435Z"
   },
   {
    "duration": 23,
    "start_time": "2022-05-25T17:05:58.443Z"
   },
   {
    "duration": 16,
    "start_time": "2022-05-25T17:05:58.467Z"
   },
   {
    "duration": 22,
    "start_time": "2022-05-25T17:05:58.485Z"
   },
   {
    "duration": 80,
    "start_time": "2022-05-25T17:05:58.509Z"
   },
   {
    "duration": 80,
    "start_time": "2022-05-25T17:05:58.591Z"
   },
   {
    "duration": 66,
    "start_time": "2022-05-25T17:05:58.675Z"
   },
   {
    "duration": 38,
    "start_time": "2022-05-25T17:05:58.743Z"
   },
   {
    "duration": 13,
    "start_time": "2022-05-25T17:05:58.783Z"
   },
   {
    "duration": 55,
    "start_time": "2022-05-25T17:05:58.797Z"
   },
   {
    "duration": 9,
    "start_time": "2022-05-25T17:05:58.854Z"
   },
   {
    "duration": 9,
    "start_time": "2022-05-25T17:05:58.865Z"
   },
   {
    "duration": 6,
    "start_time": "2022-05-25T17:05:58.876Z"
   },
   {
    "duration": 30,
    "start_time": "2022-05-25T17:05:58.884Z"
   },
   {
    "duration": 39,
    "start_time": "2022-05-25T17:05:58.916Z"
   },
   {
    "duration": 18,
    "start_time": "2022-05-25T17:05:58.956Z"
   },
   {
    "duration": 15,
    "start_time": "2022-05-25T17:05:58.976Z"
   },
   {
    "duration": 21,
    "start_time": "2022-05-25T17:05:58.993Z"
   },
   {
    "duration": 18,
    "start_time": "2022-05-25T17:05:59.042Z"
   },
   {
    "duration": 7,
    "start_time": "2022-05-25T17:05:59.062Z"
   },
   {
    "duration": 22,
    "start_time": "2022-05-25T17:05:59.070Z"
   },
   {
    "duration": 18,
    "start_time": "2022-05-25T17:05:59.094Z"
   },
   {
    "duration": 17,
    "start_time": "2022-05-25T17:05:59.114Z"
   },
   {
    "duration": 33,
    "start_time": "2022-05-25T17:05:59.133Z"
   },
   {
    "duration": 12,
    "start_time": "2022-05-25T17:05:59.168Z"
   },
   {
    "duration": 18,
    "start_time": "2022-05-25T17:05:59.181Z"
   },
   {
    "duration": 11,
    "start_time": "2022-05-25T17:05:59.201Z"
   },
   {
    "duration": 12,
    "start_time": "2022-05-25T17:05:59.214Z"
   },
   {
    "duration": 21,
    "start_time": "2022-05-25T17:05:59.228Z"
   },
   {
    "duration": 18,
    "start_time": "2022-05-25T17:05:59.250Z"
   },
   {
    "duration": 9,
    "start_time": "2022-05-25T17:05:59.270Z"
   },
   {
    "duration": 452,
    "start_time": "2022-05-25T17:06:29.719Z"
   },
   {
    "duration": 186,
    "start_time": "2022-05-25T17:06:30.173Z"
   },
   {
    "duration": 9,
    "start_time": "2022-05-25T17:06:30.360Z"
   },
   {
    "duration": 50,
    "start_time": "2022-05-25T17:06:30.371Z"
   },
   {
    "duration": 10,
    "start_time": "2022-05-25T17:06:30.422Z"
   },
   {
    "duration": 22,
    "start_time": "2022-05-25T17:06:30.434Z"
   },
   {
    "duration": 24,
    "start_time": "2022-05-25T17:06:30.458Z"
   },
   {
    "duration": 40,
    "start_time": "2022-05-25T17:06:30.484Z"
   },
   {
    "duration": 73,
    "start_time": "2022-05-25T17:06:30.526Z"
   },
   {
    "duration": 30,
    "start_time": "2022-05-25T17:06:30.603Z"
   },
   {
    "duration": 52,
    "start_time": "2022-05-25T17:06:30.634Z"
   },
   {
    "duration": 83,
    "start_time": "2022-05-25T17:06:30.687Z"
   },
   {
    "duration": 70,
    "start_time": "2022-05-25T17:06:30.771Z"
   },
   {
    "duration": 67,
    "start_time": "2022-05-25T17:06:30.843Z"
   },
   {
    "duration": 55,
    "start_time": "2022-05-25T17:06:30.911Z"
   },
   {
    "duration": 18,
    "start_time": "2022-05-25T17:06:30.968Z"
   },
   {
    "duration": 69,
    "start_time": "2022-05-25T17:06:30.988Z"
   },
   {
    "duration": 10,
    "start_time": "2022-05-25T17:06:31.058Z"
   },
   {
    "duration": 104,
    "start_time": "2022-05-25T17:06:31.070Z"
   },
   {
    "duration": 7,
    "start_time": "2022-05-25T17:06:31.176Z"
   },
   {
    "duration": 51,
    "start_time": "2022-05-25T17:06:31.184Z"
   },
   {
    "duration": 19,
    "start_time": "2022-05-25T17:06:31.237Z"
   },
   {
    "duration": 20,
    "start_time": "2022-05-25T17:06:31.258Z"
   },
   {
    "duration": 19,
    "start_time": "2022-05-25T17:06:31.280Z"
   },
   {
    "duration": 42,
    "start_time": "2022-05-25T17:06:31.301Z"
   },
   {
    "duration": 19,
    "start_time": "2022-05-25T17:06:31.344Z"
   },
   {
    "duration": 6,
    "start_time": "2022-05-25T17:06:31.365Z"
   },
   {
    "duration": 15,
    "start_time": "2022-05-25T17:06:31.374Z"
   },
   {
    "duration": 19,
    "start_time": "2022-05-25T17:06:31.391Z"
   },
   {
    "duration": 30,
    "start_time": "2022-05-25T17:06:31.412Z"
   },
   {
    "duration": 23,
    "start_time": "2022-05-25T17:06:31.444Z"
   },
   {
    "duration": 11,
    "start_time": "2022-05-25T17:06:31.469Z"
   },
   {
    "duration": 32,
    "start_time": "2022-05-25T17:06:31.481Z"
   },
   {
    "duration": 31,
    "start_time": "2022-05-25T17:06:31.514Z"
   },
   {
    "duration": 15,
    "start_time": "2022-05-25T17:06:31.546Z"
   },
   {
    "duration": 19,
    "start_time": "2022-05-25T17:06:31.562Z"
   },
   {
    "duration": 14,
    "start_time": "2022-05-25T17:06:31.583Z"
   },
   {
    "duration": 6,
    "start_time": "2022-05-25T17:06:31.599Z"
   },
   {
    "duration": 70,
    "start_time": "2022-05-25T17:08:26.158Z"
   },
   {
    "duration": 437,
    "start_time": "2022-05-25T17:34:59.258Z"
   },
   {
    "duration": 192,
    "start_time": "2022-05-25T17:34:59.697Z"
   },
   {
    "duration": 12,
    "start_time": "2022-05-25T17:34:59.891Z"
   },
   {
    "duration": 46,
    "start_time": "2022-05-25T17:34:59.905Z"
   },
   {
    "duration": 3,
    "start_time": "2022-05-25T17:34:59.953Z"
   },
   {
    "duration": 10,
    "start_time": "2022-05-25T17:34:59.958Z"
   },
   {
    "duration": 16,
    "start_time": "2022-05-25T17:34:59.970Z"
   },
   {
    "duration": 10,
    "start_time": "2022-05-25T17:34:59.988Z"
   },
   {
    "duration": 32,
    "start_time": "2022-05-25T17:35:00.000Z"
   },
   {
    "duration": 28,
    "start_time": "2022-05-25T17:35:00.042Z"
   },
   {
    "duration": 27,
    "start_time": "2022-05-25T17:35:00.071Z"
   },
   {
    "duration": 77,
    "start_time": "2022-05-25T17:35:00.100Z"
   },
   {
    "duration": 86,
    "start_time": "2022-05-25T17:35:00.179Z"
   },
   {
    "duration": 63,
    "start_time": "2022-05-25T17:35:00.267Z"
   },
   {
    "duration": 52,
    "start_time": "2022-05-25T17:35:00.331Z"
   },
   {
    "duration": 22,
    "start_time": "2022-05-25T17:35:00.385Z"
   },
   {
    "duration": 70,
    "start_time": "2022-05-25T17:35:00.409Z"
   },
   {
    "duration": 10,
    "start_time": "2022-05-25T17:35:00.480Z"
   },
   {
    "duration": 22,
    "start_time": "2022-05-25T17:35:00.492Z"
   },
   {
    "duration": 10,
    "start_time": "2022-05-25T17:35:00.516Z"
   },
   {
    "duration": 55,
    "start_time": "2022-05-25T17:35:00.528Z"
   },
   {
    "duration": 18,
    "start_time": "2022-05-25T17:35:00.585Z"
   },
   {
    "duration": 19,
    "start_time": "2022-05-25T17:35:00.605Z"
   },
   {
    "duration": 32,
    "start_time": "2022-05-25T17:35:00.626Z"
   },
   {
    "duration": 25,
    "start_time": "2022-05-25T17:35:00.660Z"
   },
   {
    "duration": 33,
    "start_time": "2022-05-25T17:35:00.686Z"
   },
   {
    "duration": 18,
    "start_time": "2022-05-25T17:35:00.720Z"
   },
   {
    "duration": 75,
    "start_time": "2022-05-25T17:35:00.742Z"
   },
   {
    "duration": 32,
    "start_time": "2022-05-25T17:35:00.819Z"
   },
   {
    "duration": 16,
    "start_time": "2022-05-25T17:35:00.852Z"
   },
   {
    "duration": 36,
    "start_time": "2022-05-25T17:35:00.869Z"
   },
   {
    "duration": 14,
    "start_time": "2022-05-25T17:35:00.906Z"
   },
   {
    "duration": 34,
    "start_time": "2022-05-25T17:35:00.922Z"
   },
   {
    "duration": 14,
    "start_time": "2022-05-25T17:35:00.958Z"
   },
   {
    "duration": 9,
    "start_time": "2022-05-25T17:35:00.974Z"
   },
   {
    "duration": 5,
    "start_time": "2022-05-25T17:35:00.985Z"
   },
   {
    "duration": 10,
    "start_time": "2022-05-25T17:35:00.991Z"
   },
   {
    "duration": 8,
    "start_time": "2022-05-25T17:35:01.002Z"
   }
  ],
  "colab": {
   "collapsed_sections": [
    "E0vqbgi9ay0H",
    "VUC88oWjTJw2"
   ],
   "name": "yandex_music_project_2021.2.ipynb",
   "provenance": []
  },
  "kernelspec": {
   "display_name": "Python 3 (ipykernel)",
   "language": "python",
   "name": "python3"
  },
  "language_info": {
   "codemirror_mode": {
    "name": "ipython",
    "version": 3
   },
   "file_extension": ".py",
   "mimetype": "text/x-python",
   "name": "python",
   "nbconvert_exporter": "python",
   "pygments_lexer": "ipython3",
   "version": "3.9.12"
  },
  "toc": {
   "base_numbering": 1,
   "nav_menu": {
    "height": "215px",
    "width": "403px"
   },
   "number_sections": true,
   "sideBar": true,
   "skip_h1_title": true,
   "title_cell": "Table of Contents",
   "title_sidebar": "Contents",
   "toc_cell": false,
   "toc_position": {
    "height": "calc(100% - 180px)",
    "left": "10px",
    "top": "150px",
    "width": "285.825px"
   },
   "toc_section_display": true,
   "toc_window_display": false
  }
 },
 "nbformat": 4,
 "nbformat_minor": 1
}
